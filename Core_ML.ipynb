{
 "cells": [
  {
   "cell_type": "code",
   "execution_count": 502,
   "id": "3e8a38fc-2aca-4116-9e4a-1572d7b04516",
   "metadata": {},
   "outputs": [
    {
     "data": {
      "text/plain": [
       "('cuda', '2.5.1+cu118')"
      ]
     },
     "execution_count": 502,
     "metadata": {},
     "output_type": "execute_result"
    }
   ],
   "source": [
    "import torch\n",
    "from torch.utils.data import DataLoader, Dataset\n",
    "from torchvision import datasets, transforms\n",
    "from torchvision.datasets import CIFAR10\n",
    "\n",
    "import random\n",
    "import numpy as np\n",
    "import matplotlib.pyplot as plt\n",
    "\n",
    "\n",
    "import copy\n",
    "\n",
    "DEVICE = 'cuda' if torch.cuda.is_available() else 'cpu'\n",
    "DEVICE, torch.__version__"
   ]
  },
  {
   "cell_type": "code",
   "execution_count": 504,
   "id": "1b5c0ab8-dcef-4f1c-9afb-4f65ad1d2f08",
   "metadata": {},
   "outputs": [],
   "source": [
    "LOWER, UPPER = 0.2, 0.8"
   ]
  },
  {
   "cell_type": "code",
   "execution_count": 506,
   "id": "649af436-0e44-4947-8d7e-faa84a76eeaf",
   "metadata": {},
   "outputs": [
    {
     "name": "stdout",
     "output_type": "stream",
     "text": [
      "Files already downloaded and verified\n",
      "Files already downloaded and verified\n"
     ]
    }
   ],
   "source": [
    "transform = transforms.Compose([\n",
    "    transforms.ToTensor(),\n",
    "])\n",
    "train_dataset = datasets.CIFAR10(root='data', download=True ,transform=transform, train=True)\n",
    "test_dataset = datasets.CIFAR10(root='data', download=True ,transform=transform, train=False)"
   ]
  },
  {
   "cell_type": "code",
   "execution_count": 507,
   "id": "a0ec9534-d24a-4193-ae66-ef6738a3489d",
   "metadata": {},
   "outputs": [
    {
     "data": {
      "text/plain": [
       "50000"
      ]
     },
     "execution_count": 507,
     "metadata": {},
     "output_type": "execute_result"
    }
   ],
   "source": [
    "len(train_dataset)"
   ]
  },
  {
   "cell_type": "code",
   "execution_count": 508,
   "id": "5a97059f-14b6-431e-bdc7-aedded602841",
   "metadata": {},
   "outputs": [
    {
     "data": {
      "text/plain": [
       "(32, 32, 3)"
      ]
     },
     "execution_count": 508,
     "metadata": {},
     "output_type": "execute_result"
    },
    {
     "data": {
      "image/png": "[encoded data removed]",
      "text/plain": [
       "<Figure size 640x480 with 1 Axes>"
      ]
     },
     "metadata": {},
     "output_type": "display_data"
    }
   ],
   "source": [
    "img, lab = train_dataset[1]\n",
    "img= img.numpy().transpose((1, 2, 0))\n",
    "plt.imshow(img)\n",
    "plt.title(lab)\n",
    "img.shape"
   ]
  },
  {
   "cell_type": "code",
   "execution_count": 509,
   "id": "25b18171-84f0-47eb-afc2-3f02b5e46c1b",
   "metadata": {},
   "outputs": [
    {
     "data": {
      "text/plain": [
       "10"
      ]
     },
     "execution_count": 509,
     "metadata": {},
     "output_type": "execute_result"
    }
   ],
   "source": [
    "num_classes = len(train_dataset.classes)\n",
    "num_classes"
   ]
  },
  {
   "cell_type": "code",
   "execution_count": 525,
   "id": "11e1a60c-60d0-49ce-8e00-eedd27194393",
   "metadata": {},
   "outputs": [
    {
     "name": "stdout",
     "output_type": "stream",
     "text": [
      "Mask Info...\n",
      "\tExpected Noise Rate: 0.733 | Actual Noise Rate:  0.732 | Samples : 50000\n"
     ]
    }
   ],
   "source": [
    "def NoiseLabels(dataset : CIFAR10, lower=LOWER, upper=UPPER, noise_rate=None):\n",
    "    if noise_rate == None:\n",
    "        noise_rate = random.uniform(lower, upper)\n",
    "    \n",
    "    targets = np.array(dataset.targets)\n",
    "    n_samples = len(targets)\n",
    "    noise_bools = np.random.rand(n_samples) < noise_rate\n",
    "    true_vals = np.sum(noise_bools)\n",
    "\n",
    "    #\n",
    "    print(f\"Mask Info...\\n\\tExpected Noise Rate: {noise_rate:.3f} | Actual Noise Rate: {true_vals/len(noise_bools) : .3f} | Samples : {(len(noise_bools))}\")\n",
    "\n",
    "    for i in range(len(noise_bools)):\n",
    "        if not noise_bools[i]:\n",
    "            continue\n",
    "\n",
    "        original_label = targets[i]\n",
    "\n",
    "        def RandomLabel():\n",
    "            random_label = np.random.choice(targets)\n",
    "            return random_label if random_label != original_label else RandomLabel()\n",
    "        new_label = RandomLabel()\n",
    "        targets[i] = new_label\n",
    "    dataset.targets = targets.tolist()\n",
    "\n",
    "    return dataset\n",
    "# train_data = datasets.CIFAR10(root='data', download=True, train=True, transform=transform)\n",
    "train_data_noise = NoiseLabels(copy.deepcopy(train_dataset))\n"
   ]
  },
  {
   "cell_type": "code",
   "execution_count": 448,
   "id": "23d90bba-276c-48fd-b638-edb3ee3ce4cc",
   "metadata": {},
   "outputs": [],
   "source": [
    "\n",
    "class NoisyDatset(CIFAR10):\n",
    "    def __init__(self, root='data', transform=None, train=True, download=True, lower=LOWER, upper=UPPER):\n",
    "            \n",
    "        super().__init__(root=root, train=train, transform=transform, download=download)\n",
    "        self.noise_rate = random.uniform(lower, upper)\n",
    "        # print(f\"Randomly chosen noise rate: {self.noise_rate}\")\n",
    "        # self.classes = len(self.classes)\n",
    "        self.ApplyNoise()\n",
    "        \n",
    "    def ApplyNoise(self):\n",
    "        targets = np.array(self.targets)\n",
    "        n_samples = len(targets)\n",
    "\n",
    "        noise_bools = np.random.rand(n_samples) < self.noise_rate\n",
    "        \n",
    "        #\n",
    "        true_vals = np.sum(noise_bools)\n",
    "        print(f\"Mask Info...\\n\\tExpected Noise Rate: {self.noise_rate:.3f} | Actual Noise Rate: {true_vals/len(noise_bools) : .3f} | True/False : {true_vals/(len(noise_bools) - true_vals) :.3f}\")\n",
    "        \n",
    "        for i in range(len(noise_bools)):\n",
    "            if not noise_bools[i]:\n",
    "                continue\n",
    "            \n",
    "            original_label = targets[i]\n",
    "            new_label = NoisyDatset.__ChooseRandomLabel(original_label, targets)\n",
    "            targets[i] = new_label\n",
    "            \n",
    "            #\n",
    "            # print(f\"Index {i} | {original_label=} | {new_label=}\")\n",
    "            \n",
    "        self.targets = targets.tolist()\n",
    "    def __ChooseRandomLabel(original_label, targets):\n",
    "        new_label = np.random.choice(targets)\n",
    "        return new_label if new_label != original_label else NoisyDatset.__ChooseRandomLabel(original_label, targets)"
   ]
  },
  {
   "cell_type": "code",
   "execution_count": 394,
   "id": "9d921f8a-38d7-48a0-bbc5-98ae24e45183",
   "metadata": {},
   "outputs": [
    {
     "name": "stdout",
     "output_type": "stream",
     "text": [
      "Files already downloaded and verified\n",
      "Mask Info...\n",
      "\tExpected Noise Rate: 0.595 | Actual Noise Rate:  0.594 | True/False : 1.465\n"
     ]
    }
   ],
   "source": [
    "train_data_noise = NoisyDatset(root='data', train=True, transform=transform)"
   ]
  },
  {
   "cell_type": "code",
   "execution_count": null,
   "id": "33c2f412-15e4-499c-8f3c-46347d644592",
   "metadata": {},
   "outputs": [],
   "source": []
  }
 ],
 "metadata": {
  "kernelspec": {
   "display_name": "Python [conda env:.conda-ml_stuff]",
   "language": "python",
   "name": "conda-env-.conda-ml_stuff-py"
  },
  "language_info": {
   "codemirror_mode": {
    "name": "ipython",
    "version": 3
   },
   "file_extension": ".py",
   "mimetype": "text/x-python",
   "name": "python",
   "nbconvert_exporter": "python",
   "pygments_lexer": "ipython3",
   "version": "3.11.11"
  }
 },
 "nbformat": 4,
 "nbformat_minor": 5
}
