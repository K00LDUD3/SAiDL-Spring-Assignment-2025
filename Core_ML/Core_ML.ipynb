{
 "cells": [
  {
   "cell_type": "markdown",
   "id": "26db4bc7-d91f-4b89-92fb-989cbcbef833",
   "metadata": {},
   "source": [
    "- [x] Noisy Dataset\n",
    "- [x] Normalized Cross Entropy Loss\n",
    "- [x] Normalized Focal Loss\n",
    "- [x] Focal Loss\n",
    "- [x] Normalized Mean Absolute Error Loss\n",
    "- [x] Normalized Reversed Cross Entropy Loss\n",
    "- [x] Reversed Cross Entropy Loss\n",
    "- [x] Loggers\n",
    "- [x] Comprehensive Model & Metric Storage\n",
    "- [ ] Model & Metric Retrieval\n",
    "- [x] APL Framework"
   ]
  },
  {
   "cell_type": "markdown",
   "id": "078a4c59-ec13-43e1-8f4e-a0f470b9770b",
   "metadata": {},
   "source": [
    "## Import Block"
   ]
  },
  {
   "cell_type": "code",
   "execution_count": 63,
   "id": "3e8a38fc-2aca-4116-9e4a-1572d7b04516",
   "metadata": {},
   "outputs": [
    {
     "data": {
      "text/plain": [
       "\"DEVICE='cuda', torch.__version__='2.6.0+cu118'\""
      ]
     },
     "execution_count": 63,
     "metadata": {},
     "output_type": "execute_result"
    }
   ],
   "source": [
    "import torch\n",
    "from torch import nn\n",
    "import torch.nn.functional as F\n",
    "from torch.utils.data import DataLoader, Dataset\n",
    "from torchvision import datasets, transforms\n",
    "from torchvision.datasets import CIFAR10\n",
    "\n",
    "\n",
    "import random\n",
    "import numpy as np\n",
    "import matplotlib.pyplot as plt\n",
    "\n",
    "import os\n",
    "import sys\n",
    "sys.path.append(os.path.dirname(os.getcwd()))\n",
    "from LogTracker import IntegerTracker\n",
    "\n",
    "import copy\n",
    "import math\n",
    "import time \n",
    "\n",
    "DEVICE = 'cuda' if torch.cuda.is_available() else 'cpu'\n",
    "torch.manual_seed(24)\n",
    "LOWER, UPPER = 0.2, 0.8\n",
    "LOSS_TYPES = ['NCE', 'NFL', 'FL', 'NMAEL', 'NRCEL', 'RCEL', 'APL', 'CE']\n",
    "torch.cuda.set_per_process_memory_fraction(0.5, device=0)\n",
    "f\"{DEVICE=}, {torch.__version__=}\""
   ]
  },
  {
   "cell_type": "markdown",
   "id": "15a94a4b-9d36-49ae-9627-1fb672f4bcfb",
   "metadata": {},
   "source": [
    "___\n",
    "# **Architecture:**\n",
    "---"
   ]
  },
  {
   "cell_type": "markdown",
   "id": "c335cff0-92c4-42e1-a952-1ed67a714370",
   "metadata": {},
   "source": [
    "## Transforms"
   ]
  },
  {
   "cell_type": "code",
   "execution_count": 64,
   "id": "649af436-0e44-4947-8d7e-faa84a76eeaf",
   "metadata": {},
   "outputs": [],
   "source": [
    "transform_v1 = transforms.Compose([ ### VER 1\n",
    "    transforms.ToTensor(),\n",
    "    transforms.Normalize((0.5, 0.5, 0.5), (0.5, 0.5, 0.5))\n",
    "])\n",
    "transform_v2 = transforms.Compose([ ###VER 2\n",
    "    transforms.RandomCrop(32, padding=4),\n",
    "    transforms.RandomHorizontalFlip(p=0.5),\n",
    "    transforms.ColorJitter(brightness=0.2, contrast=0.2, saturation=0.2, hue=0.1),\n",
    "    transforms.RandomRotation(15),\n",
    "    transforms.RandomAffine(degrees=0, translate=(0.1, 0.1)),\n",
    "    transforms.ToTensor(),\n",
    "    transforms.Normalize((0.5, 0.5, 0.5), (0.5, 0.5, 0.5)),\n",
    "    transforms.RandomErasing(p=0.2)\n",
    "])\n",
    "\n",
    "transform_v3 = transforms.Compose([ ###VER 3\n",
    "    transforms.RandomHorizontalFlip(p=0.5), \n",
    "    transforms.RandomRotation(10),\n",
    "    transforms.RandomCrop(32, padding=4),\n",
    "    transforms.ToTensor(),\n",
    "    transforms.Normalize((0.5, 0.5, 0.5), (0.5, 0.5, 0.5))\n",
    "])\n",
    "transform = transforms.Compose([ ###VER 4\n",
    "    transforms.RandomCrop(32, padding=4),\n",
    "    transforms.RandomHorizontalFlip(),\n",
    "    transforms.ToTensor()\n",
    "])\n",
    "    "
   ]
  },
  {
   "cell_type": "code",
   "execution_count": 65,
   "id": "5a97059f-14b6-431e-bdc7-aedded602841",
   "metadata": {},
   "outputs": [],
   "source": [
    "# img, lab = train_dataset[1]\n",
    "# img= img.numpy().transpose((1, 2, 0))\n",
    "# plt.imshow(img)\n",
    "# plt.title(lab)\n",
    "# img.shape"
   ]
  },
  {
   "cell_type": "code",
   "execution_count": 66,
   "id": "11e1a60c-60d0-49ce-8e00-eedd27194393",
   "metadata": {
    "scrolled": true
   },
   "outputs": [],
   "source": [
    "# def NoiseLabels(dataset : CIFAR10, lower=LOWER, upper=UPPER, noise_rate=None):\n",
    "#     if noise_rate == None:\n",
    "#         noise_rate = random.uniform(lower, upper)\n",
    "    \n",
    "#     targets = np.array(dataset.targets)\n",
    "#     n_samples = len(targets)\n",
    "    \n",
    "#     noise_bools = np.random.rand(n_samples) < noise_rate\n",
    "#     true_vals = np.sum(noise_bools)\n",
    "\n",
    "#     #\n",
    "#     print(f\"Mask Info...\\n\\tExpected Noise Rate: {noise_rate:.3f} | Actual Noise Rate: {true_vals/len(noise_bools) : .3f} | Samples : {(len(noise_bools))}\")\n",
    "\n",
    "#     for i in range(len(noise_bools)):\n",
    "#         if not noise_bools[i]:\n",
    "#             continue\n",
    "\n",
    "#         original_label = targets[i]\n",
    "\n",
    "#         def RandomLabel():\n",
    "#             random_label = np.random.choice(targets)\n",
    "#             return random_label if random_label != original_label else RandomLabel()\n",
    "#         new_label = RandomLabel()\n",
    "#         targets[i] = new_label\n",
    "#     dataset.targets = targets.tolist()\n",
    "#     return dataset\n"
   ]
  },
  {
   "cell_type": "markdown",
   "id": "7aecc64b-d0f9-46a6-8b70-28010e0ae7f2",
   "metadata": {},
   "source": [
    "## Noisy Dataset - Inherited Class"
   ]
  },
  {
   "cell_type": "code",
   "execution_count": 67,
   "id": "23d90bba-276c-48fd-b638-edb3ee3ce4cc",
   "metadata": {
    "scrolled": true
   },
   "outputs": [],
   "source": [
    "class NoisyDataset(CIFAR10):\n",
    "    def __init__(self, root='data', transform=None, train=True, download=True, lower=LOWER, upper=UPPER, noise_rate=None):\n",
    "            \n",
    "        super().__init__(root=root, train=train, transform=transform, download=download)\n",
    "        self.noise_rate = 0.2 + (0.8 - 0.2) * torch.rand(1).item() if noise_rate == None else noise_rate\n",
    "        # print(f\"Randomly chosen noise rate: {self.noise_rate}\")\n",
    "        # self.classes = len(self.classes)\n",
    "        self.__Corrupt()\n",
    "\n",
    "    def __Corrupt(self):\n",
    "        targets = torch.tensor(self.targets)\n",
    "        n_samples = targets.size(0)\n",
    "        noise_bools = torch.rand(n_samples) < self.noise_rate\n",
    "        \n",
    "        true_vals = noise_bools.sum().item()\n",
    "        print(f\"Mask Info...\\n\\tExpected Noise Rate: {self.noise_rate:.3f} | Actual Noise Rate: {true_vals/len(noise_bools) : .3f} | True/False : {true_vals/(len(noise_bools) - true_vals) :.3f}\")\n",
    "        \n",
    "        for i in range(len(noise_bools)):\n",
    "            if not noise_bools[i]:\n",
    "                continue\n",
    "                \n",
    "            original_label = targets[i]\n",
    "            new_label = self.__ChooseRandomLabel(original_label, targets)\n",
    "            targets[i] = new_label\n",
    "            \n",
    "        self.targets = targets.tolist()\n",
    "\n",
    "    @staticmethod\n",
    "    def __ChooseRandomLabel(original_label, targets):\n",
    "        possible_labels = list(range(num_classes))\n",
    "        possible_labels.remove(original_label)\n",
    "        new_label = possible_labels[torch.randint(0, len(possible_labels), (1,)).item()]\n",
    "        return new_label\n"
   ]
  },
  {
   "cell_type": "markdown",
   "id": "7879f311-af04-4044-a955-e109df2a401b",
   "metadata": {},
   "source": [
    "## Normalized Cross Entropy - V1"
   ]
  },
  {
   "cell_type": "code",
   "execution_count": null,
   "id": "064b0cd3-8d29-4be9-8c75-aab3f3d4a955",
   "metadata": {},
   "outputs": [],
   "source": [
    "class NormalizedCrossEntropyLoss_v1(nn.Module):\n",
    "    def __init__(self, reduction='mean'):\n",
    "        super(NormalizedCrossEntropyLoss_v1, self).__init__()\n",
    "        self.reduction = reduction\n",
    "        self.cross_entropy = nn.CrossEntropyLoss(reduction='none')\n",
    "\n",
    "    def forward(self, logits, targets):\n",
    "        # Compute standard cross-entropy loss\n",
    "        ce_loss = self.cross_entropy(logits, targets)\n",
    "        \n",
    "        # Compute the entropy of the target distribution\n",
    "        target_probs = torch.softmax(logits, dim=-1)\n",
    "        entropy = -torch.sum(target_probs * torch.log(target_probs + 1e-12), dim=-1)\n",
    "\n",
    "        # Normalize the cross-entropy loss by entropy\n",
    "        normalized_loss = ce_loss / (entropy + 1e-12)\n",
    "\n",
    "        if self.reduction == 'mean':\n",
    "            return normalized_loss.mean()\n",
    "        elif self.reduction == 'sum':\n",
    "            return normalized_loss.sum()\n",
    "        else:\n",
    "            return normalized_loss"
   ]
  },
  {
   "cell_type": "markdown",
   "id": "5be9bd0a-3944-4076-a732-53c321bfae5e",
   "metadata": {},
   "source": [
    "## Normalized Cross Entropy - V2 REVISED"
   ]
  },
  {
   "cell_type": "code",
   "execution_count": null,
   "id": "f981cddd-838e-4cd9-b440-822fcd85b305",
   "metadata": {},
   "outputs": [],
   "source": [
    "class NormalizedCrossEntropyLoss(nn.Module):\n",
    "    def __init__(self):\n",
    "        super(NormalizedCrossEntropyLoss, self).__init__()\n",
    "        self.cross_entropy = nn.CrossEntropyLoss(reduction='none')\n",
    "\n",
    "    def forward(self, logits, targets):\n",
    "        # Compute standard cross-entropy loss\n",
    "        ce_loss = self.cross_entropy(logits, targets)\n",
    "        \n",
    "        # Compute the entropy of the target distribution\n",
    "        target_probs = torch.softmax(logits, dim=-1)\n",
    "        entropy = -torch.sum(target_probs * torch.log(target_probs + 1e-12), dim=-1)\n",
    "\n",
    "        # Normalize the cross-entropy loss by entropy\n",
    "        normalized_loss = ce_loss / (entropy + 1e-12)\n",
    "\n",
    "\n",
    "        if torch.isnan(normalized_loss).any():\n",
    "                print(\"NaN detected!\")\n",
    "                print(\"Logits:\", logits)\n",
    "                print(\"Target probs:\", target_probs)\n",
    "                print(\"Entropy:\", entropy)\n",
    "                print(\"CE loss:\", ce_loss)\n",
    "\n",
    "\n",
    "\n",
    "        return normalized_loss.mean()  # Scalar\n",
    "        \n",
    "\n"
   ]
  },
  {
   "cell_type": "markdown",
   "id": "c18ab692",
   "metadata": {},
   "source": [
    "## Normalized Cross Entropy - V3"
   ]
  },
  {
   "cell_type": "code",
   "execution_count": null,
   "id": "6ea7f22d",
   "metadata": {},
   "outputs": [],
   "source": [
    "class NormalizedCrossEntropyLoss_v3(nn.Module):\n",
    "    def __init__(self, reduction='sum'):\n",
    "        super(NormalizedCrossEntropyLoss_v3, self).__init__()\n",
    "        self.reduction = reduction\n",
    "        self.cross_entropy = nn.CrossEntropyLoss(reduction='none')\n",
    "\n",
    "    def forward(self, logits, targets):\n",
    "        ce_loss = self.cross_entropy(logits, targets)\n",
    "\n",
    "        log_probs = torch.log_softmax(logits, dim=-1)\n",
    "        probs = torch.softmax(logits, dim=-1)\n",
    "        entropy = -torch.sum(probs * log_probs, dim=-1)\n",
    "        entropy = torch.clamp(entropy, min=1e-6)\n",
    "\n",
    "        normalized_loss = ce_loss / entropy\n",
    "\n",
    "        if torch.isnan(normalized_loss).any():\n",
    "            print(\"NaN detected!\")\n",
    "            print(\"Logits:\", logits)\n",
    "            print(\"Target probs:\", log_probs)\n",
    "            print(\"Entropy:\", entropy)\n",
    "            print(\"CE loss:\", ce_loss)\n",
    "\n",
    "\n",
    "        if self.reduction == 'mean':\n",
    "            return normalized_loss.mean()\n",
    "        elif self.reduction == 'sum':\n",
    "            return normalized_loss.sum()\n",
    "        else:\n",
    "            return normalized_loss\n"
   ]
  },
  {
   "cell_type": "markdown",
   "id": "3c34b620-5766-4a01-aa02-f2b707d62983",
   "metadata": {},
   "source": [
    "## Normalized Focal Loss"
   ]
  },
  {
   "cell_type": "code",
   "execution_count": null,
   "id": "90d5c39f-9789-40f5-9f66-92696331a663",
   "metadata": {},
   "outputs": [],
   "source": [
    "class NormalizedFocalLoss(nn.Module):\n",
    "    def __init__(self, gamma=2.0, epsilon=1e-12):\n",
    "        super(NormalizedFocalLoss, self).__init__()\n",
    "        self.gamma = gamma\n",
    "        self.epsilon = epsilon\n",
    "\n",
    "    def forward(self, logits, targets):\n",
    "        probs = F.softmax(logits, dim=-1)\n",
    "        log_probs = F.log_softmax(logits, dim=-1)\n",
    "\n",
    "        targets_one_hot = F.one_hot(targets, num_classes=logits.shape[-1])\n",
    "        pt = (probs * targets_one_hot).sum(dim=-1)\n",
    "        focal_term = (1 - pt).pow(self.gamma)\n",
    "        loss = -focal_term * log_probs.gather(dim=-1, index=targets.unsqueeze(-1)).squeeze(-1)\n",
    "\n",
    "        entropy = -torch.sum(probs * log_probs, dim=-1)\n",
    "        loss /= (entropy + self.epsilon)\n",
    "\n",
    "        return loss.mean()"
   ]
  },
  {
   "cell_type": "markdown",
   "id": "11e48c16-0933-427a-88ab-b7fbe79f72b0",
   "metadata": {},
   "source": [
    "## Focal Loss"
   ]
  },
  {
   "cell_type": "code",
   "execution_count": null,
   "id": "2584c943-ee3d-4e7a-9837-3899452e11ad",
   "metadata": {},
   "outputs": [],
   "source": [
    "class FocalLoss(nn.Module):\n",
    "    def __init__(self, gamma=2.0):\n",
    "        super(FocalLoss, self).__init__()\n",
    "        self.gamma = gamma\n",
    "\n",
    "    def forward(self, logits, targets):\n",
    "        log_probs = F.log_softmax(logits, dim=-1)\n",
    "        probs = torch.exp(log_probs)\n",
    "\n",
    "        targets_one_hot = F.one_hot(targets, num_classes=logits.shape[-1])\n",
    "\n",
    "        pt = (probs * targets_one_hot).sum(dim=-1)\n",
    "\n",
    "        focal_term = (1 - pt).pow(self.gamma)\n",
    "        loss = -focal_term * log_probs.gather(dim=-1, index=targets.unsqueeze(-1)).squeeze(-1)\n",
    "\n",
    "\n",
    "        return loss.mean()"
   ]
  },
  {
   "cell_type": "markdown",
   "id": "847b029e-3f03-4f5e-8793-496e5e19490c",
   "metadata": {},
   "source": [
    "## Normalized MAE Loss"
   ]
  },
  {
   "cell_type": "code",
   "execution_count": null,
   "id": "78c269a2-235a-42c6-bed4-74b5dacc6820",
   "metadata": {},
   "outputs": [],
   "source": [
    "class NormalizedMAE(nn.Module):\n",
    "    def __init__(self, reduction='sum', epsilon=1e-12):\n",
    "        super(NormalizedMAE, self).__init__()\n",
    "        self.reduction = reduction\n",
    "        self.epsilon = epsilon\n",
    "        self.mae_loss = nn.L1Loss(reduction='none')\n",
    "\n",
    "    def forward(self, logits, targets):\n",
    "        probs = F.softmax(logits, dim=-1)\n",
    "\n",
    "\n",
    "        targets_one_hot = F.one_hot(targets, num_classes=logits.shape[-1]).float()\n",
    "\n",
    "        mae = self.mae_loss(probs, targets_one_hot).sum(dim=-1)\n",
    "\n",
    "        entropy = -torch.sum(probs * torch.log(probs + self.epsilon), dim=-1)\n",
    "        normalized_mae = mae / (entropy + self.epsilon)\n",
    "\n",
    "        return normalized_mae.mean()"
   ]
  },
  {
   "cell_type": "markdown",
   "id": "6f3eae09-d825-49c7-83be-5c2322234bfb",
   "metadata": {},
   "source": [
    "## Normalized Reversed Cross Entropy Loss"
   ]
  },
  {
   "cell_type": "code",
   "execution_count": null,
   "id": "78a925e8-d1ae-488f-b09d-fa79cdadd173",
   "metadata": {},
   "outputs": [],
   "source": [
    "class NormalizedReversedCrossEntropyLoss(nn.Module):\n",
    "    def __init__(self, epsilon=1e-12):\n",
    "        super(NormalizedReversedCrossEntropyLoss, self).__init__()\n",
    "        self.epsilon = epsilon\n",
    "\n",
    "    def forward(self, logits, targets):\n",
    "        probs = F.softmax(logits, dim=-1)\n",
    "\n",
    "        targets_one_hot = F.one_hot(targets, num_classes=logits.shape[-1]).float()\n",
    "        rce_loss = -torch.sum(targets_one_hot * torch.log(probs + self.epsilon), dim=-1)\n",
    "        entropy = -torch.sum(probs * torch.log(probs + self.epsilon), dim=-1)\n",
    "\n",
    "        normalized_loss = rce_loss / (entropy + self.epsilon)\n",
    "\n",
    "        return normalized_loss.mean()"
   ]
  },
  {
   "cell_type": "markdown",
   "id": "abed42eb-4ad4-49dc-a7b9-4b38812e6570",
   "metadata": {},
   "source": [
    "## Reversed Cross Entropy Loss"
   ]
  },
  {
   "cell_type": "code",
   "execution_count": null,
   "id": "78555ffa-eb46-4df5-9fc2-4cc9825540ae",
   "metadata": {},
   "outputs": [],
   "source": [
    "class ReversedCrossEntropyLoss(nn.Module):\n",
    "    def __init__(self, epsilon=1e-12):\n",
    "        super(ReversedCrossEntropyLoss, self).__init__()\n",
    "        self.epsilon = epsilon\n",
    "\n",
    "    def forward(self, logits, targets):\n",
    "        probs = F.softmax(logits, dim=-1)\n",
    "        targets_one_hot = F.one_hot(targets, num_classes=logits.shape[-1]).float()\n",
    "        rce_loss = -torch.sum(targets_one_hot * torch.log(probs + self.epsilon), dim=-1)\n",
    "\n",
    "        return rce_loss.mean()"
   ]
  },
  {
   "cell_type": "code",
   "execution_count": null,
   "id": "a3732a04-67cd-4f69-9b80-79eefba0ac1e",
   "metadata": {
    "scrolled": true
   },
   "outputs": [],
   "source": [
    "def show_images_with_labels(data_loader, class_names, num_images=16):\n",
    "    images, labels = next(iter(data_loader))\n",
    "    \n",
    "    grid_size = int(np.sqrt(num_images))\n",
    "    assert grid_size ** 2 == num_images, \"num_images must be a perfect square.\"\n",
    "    \n",
    "    images = images.permute(0, 2, 3, 1).numpy()  # Convert to (batch_size, height, width, channels)\n",
    "    images = (images * 0.5) + 0.5  # Assuming images were normalized to [-1, 1]\n",
    "    \n",
    "    fig, axes = plt.subplots(grid_size, grid_size, figsize=(8, 8))\n",
    "    fig.suptitle(\"Images and Labels\", fontsize=16)\n",
    "    \n",
    "    for i, ax in enumerate(axes.flatten()):\n",
    "        if i >= num_images:\n",
    "            break\n",
    "        ax.imshow(images[i])\n",
    "        ax.axis(\"off\") \n",
    "        ax.set_title(class_names[labels[i].item()], fontsize=10, color=\"black\")\n",
    "    \n",
    "    plt.tight_layout()\n",
    "    plt.show()\n",
    "\n",
    "\n",
    "# show_images_with_labels(train_data_loader, classes, num_images=16)"
   ]
  },
  {
   "cell_type": "markdown",
   "id": "2312a65b-e38e-47c0-9a5a-9f63692481be",
   "metadata": {},
   "source": [
    "## Model - V1"
   ]
  },
  {
   "cell_type": "code",
   "execution_count": 76,
   "id": "60663117-c0db-4c15-b4c8-1481fdff4f4e",
   "metadata": {},
   "outputs": [],
   "source": [
    "\n",
    "class CNN_V1(nn.Module):\n",
    "    def __init__(self, input_shape, output_shape, hidden_units=128):\n",
    "        super().__init__()\n",
    "        self.block1 = nn.Sequential(\n",
    "            nn.Conv2d(in_channels=input_shape, out_channels=hidden_units, kernel_size=3, stride=1, padding=1),\n",
    "            nn.ReLU(),\n",
    "            nn.Conv2d(in_channels=hidden_units, out_channels=hidden_units, kernel_size=3, stride=1, padding=1),\n",
    "            nn.ReLU(),\n",
    "            nn.MaxPool2d(kernel_size=2, stride=2)  # Reduces 32x32 -> 16x16\n",
    "        )\n",
    "        self.block2 = nn.Sequential(\n",
    "            nn.Conv2d(in_channels=hidden_units, out_channels=hidden_units * 2, kernel_size=3, stride=1, padding=1),\n",
    "            nn.ReLU(),\n",
    "            nn.Conv2d(in_channels=hidden_units * 2, out_channels=hidden_units * 2, kernel_size=3, stride=1, padding=1),\n",
    "            nn.ReLU(),\n",
    "            nn.MaxPool2d(kernel_size=2, stride=2)  # Reduces 16x16 -> 8x8\n",
    "        )\n",
    "        self.block3 = nn.Sequential(\n",
    "            nn.Conv2d(in_channels=hidden_units * 2, out_channels=hidden_units * 4, kernel_size=3, stride=1, padding=1),\n",
    "            nn.ReLU(),\n",
    "            nn.Conv2d(in_channels=hidden_units * 4, out_channels=hidden_units * 4, kernel_size=3, stride=1, padding=1),\n",
    "            nn.ReLU(),\n",
    "            nn.MaxPool2d(kernel_size=2, stride=2)  # Reduces 8x8 -> 4x4\n",
    "        )\n",
    "        self.classifier = nn.Sequential(\n",
    "            nn.Flatten(),\n",
    "            nn.Linear(in_features=hidden_units * 4 * 4 * 4, out_features=256),  # Flattened size: 4x4x(hidden_units * 4)\n",
    "            nn.ReLU(),\n",
    "            nn.Dropout(0.5),\n",
    "            nn.Linear(in_features=256, out_features=output_shape)  # Output size: number of classes\n",
    "        )\n",
    "\n",
    "    def forward(self, x, print_dims=False):\n",
    "        y_b1 = self.block1(x)\n",
    "        y_b2 = self.block2(y_b1)\n",
    "        y_b3 = self.block3(y_b2)\n",
    "        y = self.classifier(y_b3)\n",
    "        if print_dims:\n",
    "            print(f\"{y_b1.shape=}\")\n",
    "            print(f\"{y_b2.shape=}\")\n",
    "            print(f\"{y_b3.shape=}\")\n",
    "            print(f\"{y.shape=}\")\n",
    "        return y"
   ]
  },
  {
   "cell_type": "markdown",
   "id": "f796ab6b-d0e1-4e5d-8f72-1b63cec9809b",
   "metadata": {},
   "source": [
    "## Model - V2"
   ]
  },
  {
   "cell_type": "code",
   "execution_count": 77,
   "id": "a7eeb3f1-2c52-4caf-8953-15ecb8a42d91",
   "metadata": {},
   "outputs": [],
   "source": [
    "class CNN_V2(nn.Module):\n",
    "    def __init__(self, num_classes=10):\n",
    "        super(CNN_V2, self).__init__()\n",
    "        \n",
    "        self.conv_layers = nn.Sequential(\n",
    "            nn.Conv2d(3, 32, kernel_size=3, padding=1),\n",
    "            nn.BatchNorm2d(32),\n",
    "            nn.ReLU(),\n",
    "            nn.Conv2d(32, 32, kernel_size=3, padding=1),\n",
    "            nn.BatchNorm2d(32),\n",
    "            nn.ReLU(),\n",
    "            nn.MaxPool2d(2, 2),  # 32x32 -> 16x16\n",
    "\n",
    "            nn.Conv2d(32, 64, kernel_size=3, padding=1),\n",
    "            nn.BatchNorm2d(64),\n",
    "            nn.ReLU(),\n",
    "            nn.Conv2d(64, 64, kernel_size=3, padding=1),\n",
    "            nn.BatchNorm2d(64),\n",
    "            nn.ReLU(),\n",
    "            nn.MaxPool2d(2, 2),  # 16x16 -> 8x8\n",
    "\n",
    "            nn.Conv2d(64, 128, kernel_size=3, padding=1),\n",
    "            nn.BatchNorm2d(128),\n",
    "            nn.ReLU(),\n",
    "            nn.Conv2d(128, 128, kernel_size=3, padding=1),\n",
    "            nn.BatchNorm2d(128),\n",
    "            nn.ReLU(),\n",
    "            nn.MaxPool2d(2, 2)  # 8x8 -> 4x4\n",
    "        )\n",
    "\n",
    "        self.fc_layers = nn.Sequential(\n",
    "            nn.Flatten(),\n",
    "            nn.Linear(128 * 4 * 4, 256),\n",
    "            nn.ReLU(),\n",
    "            nn.Dropout(0.5),\n",
    "            nn.Linear(256, num_classes)\n",
    "        )\n",
    "\n",
    "    def forward(self, x):\n",
    "        x = self.conv_layers(x)\n",
    "        x = self.fc_layers(x)\n",
    "        return x"
   ]
  },
  {
   "cell_type": "markdown",
   "id": "a5fe2101-d673-4be8-811b-61938110ba4d",
   "metadata": {},
   "source": [
    "## Model - V3"
   ]
  },
  {
   "cell_type": "code",
   "execution_count": 78,
   "id": "cedae6ed-a439-47bd-9e5c-be97ae28c761",
   "metadata": {},
   "outputs": [],
   "source": [
    "class CNN_V3(nn.Module):\n",
    "    def __init__(self, num_classes=10):\n",
    "        super(CNN_V3, self).__init__()\n",
    "        \n",
    "        self.conv_layers = nn.Sequential(\n",
    "            nn.Conv2d(3, 32, kernel_size=3, padding=1),\n",
    "            nn.LayerNorm([32, 32, 32]),  # LayerNorm instead of BatchNorm\n",
    "            nn.ReLU(),\n",
    "            nn.Conv2d(32, 32, kernel_size=3, padding=1),\n",
    "            nn.LayerNorm([32, 32, 32]),\n",
    "            nn.ReLU(),\n",
    "            nn.MaxPool2d(2, 2),  # 32x32 -> 16x16\n",
    "\n",
    "            nn.Conv2d(32, 64, kernel_size=3, padding=1),\n",
    "            nn.LayerNorm([64, 16, 16]),\n",
    "            nn.ReLU(),\n",
    "            nn.Conv2d(64, 64, kernel_size=3, padding=1),\n",
    "            nn.LayerNorm([64, 16, 16]),\n",
    "            nn.ReLU(),\n",
    "            nn.MaxPool2d(2, 2),  # 16x16 -> 8x8\n",
    "\n",
    "            nn.Conv2d(64, 128, kernel_size=3, padding=1),\n",
    "            nn.LayerNorm([128, 8, 8]),\n",
    "            nn.ReLU(),\n",
    "            nn.Conv2d(128, 128, kernel_size=3, padding=1),\n",
    "            nn.LayerNorm([128, 8, 8]),\n",
    "            nn.ReLU(),\n",
    "            nn.MaxPool2d(2, 2)  # 8x8 -> 4x4\n",
    "        )\n",
    "\n",
    "        self.fc_layers = nn.Sequential(\n",
    "            nn.Flatten(),\n",
    "            nn.Linear(128 * 4 * 4, 256),\n",
    "            nn.ReLU(),\n",
    "            nn.Dropout(0.5),\n",
    "            nn.Linear(256, num_classes)\n",
    "        )\n",
    "\n",
    "    def forward(self, x):\n",
    "        x = self.conv_layers(x)\n",
    "        x = self.fc_layers(x)\n",
    "        return x\n"
   ]
  },
  {
   "cell_type": "markdown",
   "id": "39433ebf-55a0-4b67-9163-7af5df174ec8",
   "metadata": {},
   "source": [
    "## Model - V4"
   ]
  },
  {
   "cell_type": "code",
   "execution_count": 79,
   "id": "a5b3fa98-a09f-4566-99d9-f76b2c5ece9f",
   "metadata": {},
   "outputs": [],
   "source": [
    "class CNN_V4(nn.Module):\n",
    "    def __init__(self, num_classes=10):\n",
    "        super(CNN_V4, self).__init__()\n",
    "        \n",
    "        self.conv_layers = nn.Sequential(\n",
    "            nn.Conv2d(3, 32, kernel_size=3, padding=1),\n",
    "            nn.GroupNorm(num_groups=8, num_channels=32),  # GroupNorm instead of LayerNorm\n",
    "            nn.ReLU(),\n",
    "            nn.Conv2d(32, 32, kernel_size=3, padding=1),\n",
    "            nn.GroupNorm(num_groups=8, num_channels=32),\n",
    "            nn.ReLU(),\n",
    "            nn.MaxPool2d(2, 2),  # 32x32 -> 16x16\n",
    "\n",
    "            nn.Conv2d(32, 64, kernel_size=3, padding=1),\n",
    "            nn.GroupNorm(num_groups=8, num_channels=64),\n",
    "            nn.ReLU(),\n",
    "            nn.Conv2d(64, 64, kernel_size=3, padding=1),\n",
    "            nn.GroupNorm(num_groups=8, num_channels=64),\n",
    "            nn.ReLU(),\n",
    "            nn.MaxPool2d(2, 2),  # 16x16 -> 8x8\n",
    "\n",
    "            nn.Conv2d(64, 128, kernel_size=3, padding=1),\n",
    "            nn.GroupNorm(num_groups=8, num_channels=128),\n",
    "            nn.ReLU(),\n",
    "            nn.Conv2d(128, 128, kernel_size=3, padding=1),\n",
    "            nn.GroupNorm(num_groups=8, num_channels=128),\n",
    "            nn.ReLU(),\n",
    "            nn.MaxPool2d(2, 2)  # 8x8 -> 4x4\n",
    "        )\n",
    "\n",
    "        self.fc_layers = nn.Sequential(\n",
    "            nn.Flatten(),\n",
    "            nn.Linear(128 * 4 * 4, 256),\n",
    "            nn.ReLU(),\n",
    "            nn.Dropout(0.5),\n",
    "            nn.Linear(256, num_classes)\n",
    "        )\n",
    "\n",
    "    def forward(self, x):\n",
    "        x = self.conv_layers(x)\n",
    "        x = self.fc_layers(x)\n",
    "        return x\n"
   ]
  },
  {
   "cell_type": "markdown",
   "id": "3fcfaeab-b9be-4bde-ac62-ba29a5a98c75",
   "metadata": {},
   "source": [
    "## Model - V3"
   ]
  },
  {
   "cell_type": "code",
   "execution_count": 80,
   "id": "374a7b98",
   "metadata": {},
   "outputs": [],
   "source": [
    "class CNN9Layer(nn.Module):\n",
    "    def __init__(self, num_classes=10, dropout_p=0.5):\n",
    "        super(CNN9Layer, self).__init__()\n",
    "        \n",
    "        # 3 convolutional blocks\n",
    "        self.conv_block1 = nn.Sequential(\n",
    "            nn.Conv2d(3, 128, kernel_size=3, padding=1),\n",
    "            nn.BatchNorm2d(128),\n",
    "            nn.ReLU(),\n",
    "            nn.MaxPool2d(2)\n",
    "        )\n",
    "        self.conv_block2 = nn.Sequential(\n",
    "            nn.Conv2d(128, 128, kernel_size=3, padding=1),\n",
    "            nn.BatchNorm2d(128),\n",
    "            nn.ReLU(),\n",
    "            nn.MaxPool2d(2)\n",
    "        )\n",
    "        self.conv_block3 = nn.Sequential(\n",
    "            nn.Conv2d(128, 128, kernel_size=3, padding=1),\n",
    "            nn.BatchNorm2d(128),\n",
    "            nn.ReLU(),\n",
    "            nn.MaxPool2d(2)\n",
    "        )\n",
    "\n",
    "        # Fully connected layers\n",
    "        self.fc1 = nn.Linear(128 * 4 * 4, 512)  # CIFAR-10 images are 32x32\n",
    "        self.dropout = nn.Dropout(p=dropout_p)\n",
    "        self.fc2 = nn.Linear(512, num_classes)\n",
    "\n",
    "    def forward(self, x):\n",
    "        x = self.conv_block1(x)\n",
    "        x = self.conv_block2(x)\n",
    "        x = self.conv_block3(x)\n",
    "        x = x.view(x.size(0), -1)  # Flatten\n",
    "        x = self.fc1(x)\n",
    "        x = F.relu(x)\n",
    "        x = self.dropout(x)\n",
    "        x = self.fc2(x)\n",
    "        return x"
   ]
  },
  {
   "cell_type": "markdown",
   "id": "37d3d9ae-ef05-4c09-bcb8-f269782ac744",
   "metadata": {},
   "source": [
    "### Termination flag checker, Logger, and Retriever for remote logger"
   ]
  },
  {
   "cell_type": "code",
   "execution_count": 114,
   "id": "52f0d73c-c21a-4dfa-ac00-aaa6999d1ff7",
   "metadata": {},
   "outputs": [],
   "source": [
    "def check_termination_flag(file_path=\"TFlag.txt\"):\n",
    "    try:\n",
    "        with open(file_path, 'r') as file:\n",
    "            content = file.read().strip()\n",
    "            if content == '0':\n",
    "                print(\"Received Termination Signal. Terminating...\")\n",
    "                return True\n",
    "            elif content == '1':\n",
    "                return False\n",
    "            else:\n",
    "                print(f\"Unexpected content in file: {content}. Expected '0' or '1'. Terminating Process...\")\n",
    "                return True\n",
    "    except FileNotFoundError:\n",
    "        print(f\"File not found: {file_path}\")\n",
    "        return False\n",
    "    except Exception as e:\n",
    "        print(f\"Error reading {e}. Terminating Process...\")\n",
    "        return True\n",
    "\n",
    "def log(message, loss_type, version):\n",
    "    if loss_type not in LOSS_TYPES:\n",
    "        print(\"Invalid loss type! Terminating Logger...\")\n",
    "        \n",
    "    \n",
    "    path = f\"{loss_type}\\\\Logs\\\\Log_{version}.txt\"\n",
    "    with open(path, \"a\") as f:\n",
    "        f.write(f\"{time.strftime('%H:%M:%S')} - {message}\\n\")\n",
    "# def load_saved_data(PATH):\n",
    "#     \"\"\"\n",
    "#     Loads the saved model, optimizer, criterion, scheduler, and metrics from the specified PATH.\n",
    "\n",
    "#     :param PATH: Path to the saved file.\n",
    "#     \"\"\"\n",
    "#     loaded_data = 0\n",
    "#     try:\n",
    "#         # Load the saved data\n",
    "#         saved_data = torch.load(PATH)\n",
    "        \n",
    "#         # Extract the components\n",
    "#         model_state_dict = saved_data['model_state_dict']\n",
    "#         optimizer_state_dict = saved_data['optimizer_state_dict']\n",
    "#         criterion_state_dict = saved_data['criterion_state_dict']\n",
    "#         scheduler_state_dict = saved_data['scheduler_state_dict']\n",
    "#         metrics = saved_data['metrics']\n",
    "        \n",
    "#         print(\"Data loaded successfully from:\", PATH)\n",
    "#         loaded_data= {\n",
    "#             'model_state_dict': model_state_dict,\n",
    "#             'optimizer_state_dict': optimizer_state_dict,\n",
    "#             'criterion_state_dict': criterion_state_dict,\n",
    "#             'scheduler_state_dict': scheduler_state_dict,\n",
    "#             'metrics': metrics\n",
    "#         }\n",
    "#         # Use the loaded data\n",
    "#         model.load_state_dict(loaded_data['model_state_dict'])\n",
    "#         optimizer.load_state_dict(loaded_data['optimizer_state_dict'])\n",
    "#         criterion.load_state_dict(loaded_data['criterion_state_dict'])\n",
    "#         scheduler.load_state_dict(loaded_data['scheduler_state_dict'])\n",
    "#         metrics = loaded_data['metrics']\n",
    "#         print(\"Data parsed succcessfully from: \", PATH)\n",
    "#         return model, criterion, optimizer, scheduler, metrics\n",
    "\n",
    "    \n",
    "#     except Exception as e:\n",
    "#         print(f\"An error occurred while loading the data: {e}\")\n",
    "#         return None\n",
    "#     print(\"Unable to parse \", PATH)\n",
    "\n",
    "# import torch\n",
    "\n",
    "def load_saved_data(PATH, model, optimizer, criterion, scheduler):\n",
    "    \"\"\"\n",
    "    Loads the saved model, optimizer, criterion, scheduler, and metrics from the specified PATH.\n",
    "\n",
    "    :param PATH: Path to the saved file.\n",
    "    :param model: The model instance to load weights into.\n",
    "    :param optimizer: The optimizer instance to load state.\n",
    "    :param criterion: The loss function instance to load state.\n",
    "    :param scheduler: The learning rate scheduler instance to load state.\n",
    "    :return: Tuple (model, criterion, optimizer, scheduler, metrics) or None if loading fails.\n",
    "    \"\"\"\n",
    "    try:\n",
    "        # Load the saved data\n",
    "        saved_data = torch.load(PATH)\n",
    "        \n",
    "        # Extract the components\n",
    "        model.load_state_dict(saved_data['model_state_dict'])\n",
    "        optimizer.load_state_dict(saved_data['optimizer_state_dict'])\n",
    "        criterion_state_dict = saved_data['criterion_state_dict']\n",
    "\n",
    "        try:\n",
    "            if scheduler is not None and 'scheduler_state_dict' in saved_data:\n",
    "                scheduler.load_state_dict(saved_data['scheduler_state_dict'])\n",
    "        except:\n",
    "            print(\"Scheduler state_dict not found. Loading default state.\")\n",
    "            scheduler = None\n",
    "        metrics = saved_data['metrics']\n",
    "        \n",
    "        print(\"Data loaded successfully from:\", PATH)\n",
    "\n",
    "        # If criterion has state_dict, load it\n",
    "        if hasattr(criterion, 'load_state_dict'):\n",
    "            criterion.load_state_dict(criterion_state_dict)\n",
    "\n",
    "        return model, criterion, optimizer, scheduler, metrics\n",
    "    \n",
    "    except Exception as e:\n",
    "        print(f\"An error occurred while loading the data: {e}\")\n",
    "        return None\n"
   ]
  },
  {
   "cell_type": "markdown",
   "id": "eb8b2e9f-ed33-4203-9bbc-50669c0a3d0d",
   "metadata": {},
   "source": [
    "## Test Accuracy "
   ]
  },
  {
   "cell_type": "code",
   "execution_count": 82,
   "id": "3cf50221-84ab-45a7-864c-c42fa09491bf",
   "metadata": {},
   "outputs": [],
   "source": [
    "def evaluate_model(model, dataloader, loss_fn, device='cuda'):\n",
    "    model.to(device)\n",
    "    model.eval()  # Set the model to evaluation mode\n",
    "\n",
    "    correct = 0\n",
    "    total = 0\n",
    "    running_loss = 0.0\n",
    "\n",
    "    with torch.no_grad():  # Disable gradient computation for efficiency\n",
    "        for images, labels in dataloader:\n",
    "            images, labels = images.to(device), labels.to(device)\n",
    "\n",
    "            # Forward pass\n",
    "            outputs = model(images)\n",
    "            loss = loss_fn(outputs, labels)\n",
    "            loss = loss.mean() if loss.dim() > 0 else loss\n",
    "\n",
    "            running_loss += loss.item() * images.size(0)\n",
    "            _, predicted = torch.max(outputs, 1)\n",
    "            total += labels.size(0)\n",
    "            correct += (predicted == labels).sum().item()\n",
    "\n",
    "    test_loss = running_loss / total\n",
    "    test_acc = correct / total\n",
    "\n",
    "    \n",
    "    model.train()\n",
    "    return test_loss, test_acc\n",
    "    \n",
    "# test_loss, test_acc = evaluate_model(model, test_data_loader, device=DEVICE)"
   ]
  },
  {
   "cell_type": "markdown",
   "id": "3f4f9322-0cb1-421d-a7e9-8bf1ab6b168a",
   "metadata": {},
   "source": [
    "## Train Loop - V1"
   ]
  },
  {
   "cell_type": "code",
   "execution_count": 83,
   "id": "18b6fd9c-3214-4755-83be-ebb97f800ea1",
   "metadata": {},
   "outputs": [],
   "source": [
    "def train_model(model, dataloader, optimizer, loss_fn, num_epochs=10, device='cuda'):\n",
    "    model.to(device)\n",
    "    for epoch in range(num_epochs):\n",
    "        model.train()\n",
    "        running_loss = 0.0\n",
    "        correct = 0\n",
    "        total = 0\n",
    "\n",
    "        \n",
    "        for images, labels in dataloader:\n",
    "            images, labels = images.to(device), labels.to(device)\n",
    "\n",
    "            # Forward pass\n",
    "            outputs = model(images)\n",
    "            # print(\"Logits range:\", outputs.min().item(), outputs.max().item())\n",
    "            loss = loss_fn(outputs, labels)\n",
    "            loss = loss.mean() if loss.dim() > 0 else loss\n",
    "            # print(f\"Loss shape: {loss.shape}\")\n",
    "\n",
    "            \n",
    "            # Backward pass\n",
    "            model.train()\n",
    "            optimizer.zero_grad()\n",
    "            loss.backward()\n",
    "            optimizer.step()\n",
    "\n",
    "            # Statistics\n",
    "            #ADD Testaccruracy\n",
    "            \n",
    "            running_loss += loss.item() * images.size(0)\n",
    "            _, predicted = torch.max(outputs, 1)\n",
    "            total += labels.size(0)\n",
    "            correct += (predicted == labels).sum().item()\n",
    "\n",
    "        epoch_loss = running_loss / total\n",
    "        epoch_acc = correct / total\n",
    "        test_loss, test_acc = evaluate_model(model, test_data_loader, device=DEVICE)\n",
    "        test_loss, test_acc = 0,0\n",
    "        print(f\"Epoch {epoch + 1}/{num_epochs} | Loss: {epoch_loss:.4f}, Accuracy: {epoch_acc:.4f} | Test Loss: {test_loss:.4f}, Test Accuracy: {test_acc:.4f}\") \n",
    "\n",
    "# Train the model\n",
    "# train_model(model, train_data_loader, optimizer, loss_fn=loss_fn_cnn, num_epochs=10, device=DEVICE)"
   ]
  },
  {
   "cell_type": "code",
   "execution_count": null,
   "id": "2aecce3e-0bd2-4d30-be1d-ce9b65841f41",
   "metadata": {},
   "outputs": [],
   "source": []
  },
  {
   "cell_type": "markdown",
   "id": "4053e6a7-cf56-477e-9e23-59e6b1ba5f26",
   "metadata": {},
   "source": [
    "## Train Loop - V2"
   ]
  },
  {
   "cell_type": "code",
   "execution_count": 84,
   "id": "6162b5e6-44b5-46a2-a690-edb2cc79c9d7",
   "metadata": {},
   "outputs": [],
   "source": [
    "# device = torch.device(\"cuda\" if torch.cuda.is_available() else \"cpu\")\n",
    "# model.to(device)\n",
    "\n",
    "# INCLUDE_TEST = True\n",
    "\n",
    "# num_epochs = 100  # Train for more epochs\n",
    "\n",
    "# train_losses, train_accuracies, test_losses, test_accuracies = torch.Tensor(num_epochs), torch.Tensor(num_epochs), torch.Tensor(num_epochs), torch.Tensor(num_epochs)\n",
    "\n",
    "\n",
    "\n",
    "# start_time = time.time()\n",
    "# for epoch in range(num_epochs):\n",
    "#     if check_termination_flag():\n",
    "#         log(\"Termination Train Loop (Manual)\")\n",
    "#         break\n",
    "#     model.train()\n",
    "#     total_loss, correct, total = 0, 0, 0\n",
    "    \n",
    "#     for images, labels in train_data_loader:\n",
    "#         images, labels = images.to(device), labels.to(device)\n",
    "\n",
    "#         optimizer.zero_grad()\n",
    "#         outputs = model(images)\n",
    "#         loss = criterion(outputs, labels)\n",
    "#         loss = loss.mean() if loss.dim() > 0 else loss\n",
    "\n",
    "#         loss.backward()\n",
    "#         optimizer.step()\n",
    "\n",
    "#         total_loss += loss.item()\n",
    "#         _, preds = outputs.max(1)\n",
    "#         correct += preds.eq(labels).sum().item()\n",
    "#         total += labels.size(0)\n",
    "\n",
    "#     #Test Accuracy:\n",
    "#     test_loss, test_acc = 0,0\n",
    "#     if INCLUDE_TEST:\n",
    "#         model.eval()\n",
    "#         test_loss, test_acc = evaluate_model(model, test_data_loader, criterion, device=DEVICE)\n",
    "#         model.train()\n",
    "#     test_losses[epoch] = test_loss\n",
    "#     test_accuracies[epoch] = test_acc\n",
    "    \n",
    "#     scheduler.step()  # Adjust LR\n",
    "    \n",
    "\n",
    "    \n",
    "#     train_loss = total_loss/len(train_data_loader)\n",
    "#     train_accuracy = correct/total\n",
    "#     train_losses[epoch] = train_loss\n",
    "#     train_accuracies[epoch] = train_accuracy\n",
    "    \n",
    "#     print(f\"Epoch {epoch+1}/{num_epochs} | Train Loss: {train_loss:.4f}, Train Accuracy: {train_accuracy:.4f} | Test Loss: {test_loss:.4f}, Test Accuracy: {test_acc:.4f} | Time Stamp: {(time.time()-start_time):.3f} s\")\n",
    "#     log(f\"Epoch {epoch+1}/{num_epochs} | Train Loss: {train_loss:.4f}, Train Accuracy: {train_accuracy:.4f} | Test Loss: {test_loss:.4f}, Test Accuracy: {test_acc:.4f}\", 'NCE')\n",
    "# end_time = time.time()\n",
    "# train_time = end_time-start_time\n",
    "# print(f\"Train Time : {train_time:.6f}s\")"
   ]
  },
  {
   "cell_type": "markdown",
   "id": "376b7b5c-7a72-4ed4-b4b9-847110d02ef7",
   "metadata": {},
   "source": [
    "## Train Loop - V2 (Methodized)"
   ]
  },
  {
   "cell_type": "code",
   "execution_count": null,
   "id": "67498e61-0f63-4345-9a19-f485c4de0202",
   "metadata": {},
   "outputs": [],
   "source": [
    "def train_loop(model, train_data_loader, test_data_loader,\n",
    "               criterion, optimizer, scheduler, loss_type,\n",
    "               num_epochs=50, INCLUDE_TEST=True, DEVICE=None, noise_rate=None,\n",
    "               continuation=False, old_metrics=None, continuation_version=None):\n",
    "    if loss_type not in LOSS_TYPES:\n",
    "        print(f\"{loss_type} Not a Valid Loss Type. Exiting Train Loop...\")\n",
    "        return 0\n",
    "    elif noise_rate == None:\n",
    "        print(f\"Invalid noise rate. Exiting Train Loop...\")\n",
    "        return 0\n",
    "    else:\n",
    "        print(f\"Criterion: {loss_type}\")\n",
    "        print(f\"Noise Rate: {noise_rate}\")\n",
    "\n",
    "    tracker = IntegerTracker(file_name=f\"{loss_type}\\\\version_control.txt\")\n",
    "    version = tracker.read_value() if continuation==False else continuation_version\n",
    "    print(f\"{version=}\")\n",
    "    if version == None:\n",
    "        print(\"Version is NONE TYPE. Terminating... \")\n",
    "        return None, None\n",
    "\n",
    "    \n",
    "\n",
    "\n",
    "    old_epochs = 0\n",
    "\n",
    "    \n",
    "    if continuation:\n",
    "        # log(\"\\n\\nResuming Training (New Session) with same model... \\n\\n\", loss_type, version)\n",
    "        print(f\"\\n\\nResuming Training (New Session) with same model({version=})... \\n\\n\")\n",
    "        old_epochs = len(old_metrics['Train Accuracy'])\n",
    "        \n",
    "    else:\n",
    "        arch = [criterion.state_dict, optimizer.state_dict, f\"NOISE RATE ---- {noise_rate}\"]\n",
    "        if scheduler is not None:\n",
    "            arch.append(scheduler.state_dict)\n",
    "        for i in arch:\n",
    "            log(i,loss_type, version)\n",
    "            log('\\n', loss_type, version)\n",
    "    \n",
    "    if DEVICE is None:\n",
    "        DEVICE = torch.device(\"cuda\" if torch.cuda.is_available() else \"cpu\")\n",
    "    model = model.to(DEVICE)\n",
    "\n",
    "\n",
    "    # If no continuation\n",
    "    train_losses, train_accuracies, test_losses, test_accuracies = torch.zeros(num_epochs), torch.zeros(num_epochs), torch.zeros(num_epochs), torch.zeros(num_epochs)\n",
    "\n",
    "    #If theres a continutation\n",
    "    if continuation:\n",
    "        train_losses, train_accuracies, test_losses, test_accuracies = [torch.cat([old_metrics[i],torch.zeros(num_epochs)]) for i in old_metrics]\n",
    "    \n",
    "        print(f\"\\n\\nResuming Training (New Session) with same model ({version=})... \\n\\n\")\n",
    "\n",
    "    print(f\"{train_losses.shape=}\")\n",
    "    \n",
    "        \n",
    "    start_time = time.time()\n",
    "    for epoch in range(num_epochs):\n",
    "        if check_termination_flag():\n",
    "            log(\"Terminate Train Loop (Manual)\", loss_type, version)\n",
    "            break\n",
    "\n",
    "        model.train()\n",
    "        total_loss, correct, total = 0, 0, 0\n",
    "\n",
    "        for images, labels in train_data_loader:\n",
    "            images, labels = images.to(DEVICE), labels.to(DEVICE)\n",
    "\n",
    "            optimizer.zero_grad()\n",
    "            outputs = model(images)\n",
    "            loss = criterion(outputs, labels)\n",
    "            loss = loss.sum() if loss.dim() > 0 else loss\n",
    "            \n",
    "            loss.backward()\n",
    "            optimizer.step()\n",
    "\n",
    "            total_loss += loss.item()\n",
    "            _, preds = outputs.max(1)\n",
    "            correct += preds.eq(labels).sum().item()\n",
    "            total += labels.size(0)\n",
    "\n",
    "        # Test Accuracy\n",
    "        test_loss, test_acc = 0, 0\n",
    "        if INCLUDE_TEST:\n",
    "            model.eval()\n",
    "            test_loss, test_acc = evaluate_model(model, test_data_loader, criterion, device=DEVICE)\n",
    "            model.train()\n",
    "        test_losses[epoch+old_epochs] = test_loss\n",
    "        test_accuracies[epoch+old_epochs] = test_acc\n",
    "\n",
    "        if scheduler is not None:\n",
    "            scheduler.step()  # Adjust LR\n",
    "\n",
    "        train_loss = total_loss / len(train_data_loader)\n",
    "        train_accuracy = correct / total\n",
    "        train_losses[epoch+old_epochs] = train_loss\n",
    "        train_accuracies[epoch+old_epochs] = train_accuracy\n",
    "\n",
    "        print(f\"Epoch {epoch+1+old_epochs}/{num_epochs+old_epochs} | Train Loss: {train_loss:.4f}, Train Accuracy: {train_accuracy:.4f} | Test Loss: {test_loss:.4f}, Test Accuracy: {test_acc:.4f} | {(time.time()-start_time):.3f} s\")\n",
    "        log(f\"Epoch {epoch+1+old_epochs}/{num_epochs+old_epochs} | Train Loss: {train_loss:.4f}, Train Accuracy: {train_accuracy:.4f} | Test Loss: {test_loss:.4f}, Test Accuracy: {test_acc:.4f}\", loss_type, version)\n",
    "\n",
    "    end_time = time.time()\n",
    "    train_time = end_time - start_time\n",
    "\n",
    "    \n",
    "    if continuation:\n",
    "        print(f\"Train Time (New Session): {train_time:.6f}s\")\n",
    "        log(f\"Train Time (New Session): {train_time:.6f}s\\nFinished Training...\", loss_type, version)\n",
    "    else:\n",
    "        print(f\"Train Time : {train_time:.6f}s\")\n",
    "        log(f\"Train Time : {train_time:.6f}s\\nFinished Training...\", loss_type, version)\n",
    "    \n",
    "\n",
    "\n",
    "    \n",
    "    metrics = {\n",
    "        \"Train Accuracy\":train_accuracies,\n",
    "        \"Train Loss\":train_losses,\n",
    "        \"Test Loss\":test_losses,\n",
    "        \"Test Accuracy\":test_accuracies,\n",
    "    }\n",
    "\n",
    "    \n",
    "    #Saving Models\n",
    "    model_path = f'{loss_type}\\\\Models\\\\cnn_{version}.pth'\n",
    "    torch.save({\n",
    "        'model_state_dict':model.state_dict(),\n",
    "        'optimizer_state_dict':optimizer.state_dict(),\n",
    "        'criterion_state_dict':criterion.state_dict(),\n",
    "        'scheduler_state_dict':scheduler.state_dict() if scheduler is not None else None,\n",
    "        'metrics':metrics\n",
    "    }, model_path)\n",
    "    print(f\"Arch & metrics Saved to {model_path}...\")\n",
    "    log(f\"Arch & metrics Saved to {model_path}...\", loss_type, version)\n",
    "\n",
    "    if not continuation:\n",
    "        tracker.increment_value()\n",
    "    return metrics, train_time"
   ]
  },
  {
   "cell_type": "markdown",
   "id": "6078135c-ea00-42e4-9238-2da6054447f7",
   "metadata": {},
   "source": [
    "## APL Framework\n",
    "**Table: Examples of active and passive loss functions.**\n",
    "\n",
    "| Loss Type  | Active           | Passive             |\n",
    "|------------|-----------------|---------------------|\n",
    "| Examples   | CE, NCE, FL, NFL | MAE, NMAE, RCE, NRCE |\n"
   ]
  },
  {
   "cell_type": "code",
   "execution_count": 140,
   "id": "90c34120-784e-44af-a428-e2d09b306319",
   "metadata": {},
   "outputs": [],
   "source": [
    "class APLLoss(nn.Module):\n",
    "    def __init__(self, active_loss, passive_loss, alpha=0.5, beta=0.5):\n",
    "        super(APLLoss, self).__init__()\n",
    "        self.active_loss = active_loss\n",
    "        self.passive_loss = passive_loss\n",
    "        self.alpha = torch.tensor(alpha, requires_grad=False)\n",
    "        self.beta = torch.tensor(beta, requires_grad=False)\n",
    "\n",
    "    def forward(self, logits, targets):\n",
    "        active_loss_value = self.active_loss(logits, targets)\n",
    "        passive_loss_value = self.passive_loss(logits, targets)\n",
    "\n",
    "        total_loss = self.alpha * active_loss_value + self.beta * passive_loss_value\n",
    "\n",
    "        return total_loss\n",
    "\n",
    "    def state_dict(self):\n",
    "        state = super().state_dict()\n",
    "        state['alpha'] = self.alpha\n",
    "        state['beta'] = self.beta\n",
    "\n",
    "        return state\n",
    "\n",
    "    def load_state_dict(self, state_dict):\n",
    "        self.alpha = state_dict.pop('alpha', self.alpha)\n",
    "        self.beta = state_dict.pop('beta', self.beta)\n",
    "        super().load_state_dict(state_dict)"
   ]
  },
  {
   "cell_type": "markdown",
   "id": "91ed9315-4063-4152-955b-bf523320fc9a",
   "metadata": {},
   "source": [
    "## Plot Metrics"
   ]
  },
  {
   "cell_type": "code",
   "execution_count": null,
   "id": "f9fc142f-b900-4c81-9006-17ec3c65fd14",
   "metadata": {},
   "outputs": [],
   "source": [
    "def plot_metrics(metrics, title=\"Blank\", save=\"plot.png\"):\n",
    "    plt.figure(figsize=(10, 6))\n",
    "    \n",
    "    for metric_name, values in metrics.items():\n",
    "        x_values = range(len(values))\n",
    "        plt.plot(x_values, values, linestyle='-', label=metric_name)\n",
    "\n",
    "    plt.xlabel('Epoch')\n",
    "    plt.ylabel('Metrics')\n",
    "    plt.title(title)\n",
    "    plt.legend()\n",
    "    plt.savefig(save, dpi=300, bbox_inches='tight')\n",
    "    plt.grid(False)\n",
    "    plt.show()"
   ]
  },
  {
   "cell_type": "markdown",
   "id": "82737f90-64dc-4eeb-a509-3adc43b5f3ed",
   "metadata": {},
   "source": [
    "___"
   ]
  },
  {
   "cell_type": "markdown",
   "id": "27b1f78a-90ed-48c8-be01-e958dcb4291e",
   "metadata": {},
   "source": [
    "# **Function Calls:**\n",
    "---"
   ]
  },
  {
   "cell_type": "code",
   "execution_count": 51,
   "id": "a0ec9534-d24a-4193-ae66-ef6738a3489d",
   "metadata": {},
   "outputs": [
    {
     "data": {
      "text/plain": [
       "(50000, 10000)"
      ]
     },
     "execution_count": 51,
     "metadata": {},
     "output_type": "execute_result"
    }
   ],
   "source": [
    "train_dataset = CIFAR10(root='data', download=True ,transform=transform, train=True)\n",
    "test_dataset = CIFAR10(root='data', download=True ,transform=transform, train=False)\n",
    "len(train_dataset), len(test_dataset)"
   ]
  },
  {
   "cell_type": "code",
   "execution_count": 52,
   "id": "25b18171-84f0-47eb-afc2-3f02b5e46c1b",
   "metadata": {},
   "outputs": [
    {
     "data": {
      "text/plain": [
       "10"
      ]
     },
     "execution_count": 52,
     "metadata": {},
     "output_type": "execute_result"
    }
   ],
   "source": [
    "num_classes = len(train_dataset.classes)\n",
    "num_classes"
   ]
  },
  {
   "cell_type": "code",
   "execution_count": 53,
   "id": "dc0e2319-fd8f-43f6-889e-51a80d0de039",
   "metadata": {
    "scrolled": true
   },
   "outputs": [
    {
     "name": "stdout",
     "output_type": "stream",
     "text": [
      "Mask Info...\n",
      "\tExpected Noise Rate: 0.400 | Actual Noise Rate:  0.398 | True/False : 0.662\n"
     ]
    }
   ],
   "source": [
    "train_data_noise = NoisyDataset(root='data', train=True, transform=transform, noise_rate=0.4)"
   ]
  },
  {
   "cell_type": "markdown",
   "id": "2e1c5ab3-9612-456a-98b9-6cac144d0e04",
   "metadata": {},
   "source": [
    "## Dataloaders && Batch Size"
   ]
  },
  {
   "cell_type": "code",
   "execution_count": 54,
   "id": "9dfd694a-b312-4429-97ff-68e5c74ba989",
   "metadata": {},
   "outputs": [
    {
     "data": {
      "text/plain": [
       "(781, 156)"
      ]
     },
     "execution_count": 54,
     "metadata": {},
     "output_type": "execute_result"
    }
   ],
   "source": [
    "BATCH_SIZE = 64\n",
    "\n",
    "train_data_loader = DataLoader(\n",
    "    train_data_noise, \n",
    "    batch_size=BATCH_SIZE,\n",
    "    shuffle=True,\n",
    "    drop_last=True\n",
    ")\n",
    "\n",
    "test_data_loader = DataLoader(\n",
    "    test_dataset, \n",
    "    batch_size=BATCH_SIZE,\n",
    "    shuffle=True,\n",
    "    drop_last=True\n",
    ")\n",
    "\n",
    "len(train_data_loader), len(test_data_loader)"
   ]
  },
  {
   "cell_type": "code",
   "execution_count": 55,
   "id": "ed60da24-233f-42d1-9ede-474976377ec3",
   "metadata": {},
   "outputs": [
    {
     "data": {
      "text/plain": [
       "CNN_V1(\n",
       "  (block1): Sequential(\n",
       "    (0): Conv2d(3, 64, kernel_size=(3, 3), stride=(1, 1), padding=(1, 1))\n",
       "    (1): ReLU()\n",
       "    (2): Conv2d(64, 64, kernel_size=(3, 3), stride=(1, 1), padding=(1, 1))\n",
       "    (3): ReLU()\n",
       "    (4): MaxPool2d(kernel_size=2, stride=2, padding=0, dilation=1, ceil_mode=False)\n",
       "  )\n",
       "  (block2): Sequential(\n",
       "    (0): Conv2d(64, 128, kernel_size=(3, 3), stride=(1, 1), padding=(1, 1))\n",
       "    (1): ReLU()\n",
       "    (2): Conv2d(128, 128, kernel_size=(3, 3), stride=(1, 1), padding=(1, 1))\n",
       "    (3): ReLU()\n",
       "    (4): MaxPool2d(kernel_size=2, stride=2, padding=0, dilation=1, ceil_mode=False)\n",
       "  )\n",
       "  (block3): Sequential(\n",
       "    (0): Conv2d(128, 256, kernel_size=(3, 3), stride=(1, 1), padding=(1, 1))\n",
       "    (1): ReLU()\n",
       "    (2): Conv2d(256, 256, kernel_size=(3, 3), stride=(1, 1), padding=(1, 1))\n",
       "    (3): ReLU()\n",
       "    (4): MaxPool2d(kernel_size=2, stride=2, padding=0, dilation=1, ceil_mode=False)\n",
       "  )\n",
       "  (classifier): Sequential(\n",
       "    (0): Flatten(start_dim=1, end_dim=-1)\n",
       "    (1): Linear(in_features=4096, out_features=256, bias=True)\n",
       "    (2): ReLU()\n",
       "    (3): Dropout(p=0.5, inplace=False)\n",
       "    (4): Linear(in_features=256, out_features=10, bias=True)\n",
       "  )\n",
       ")"
      ]
     },
     "execution_count": 55,
     "metadata": {},
     "output_type": "execute_result"
    }
   ],
   "source": [
    "# model_CE = CNN_V2(num_classes=num_classes)\n",
    "# model_NFL = CNN_V2(num_classes=num_classes)\n",
    "model_APL = CNN_V1(input_shape=3, output_shape=num_classes, hidden_units=64)\n",
    "# model_APL = CNN_V2(num_classes=num_classes)\n",
    "# model_APL = CNN_V3()\n",
    "# model_APL = CNN_V4()\n",
    "model_APL #model_CE, model_NFL"
   ]
  },
  {
   "cell_type": "markdown",
   "id": "c6d053ea-c1ad-409f-85de-e024f3c6957f",
   "metadata": {},
   "source": [
    "## Loss Function & Optimizer - V1"
   ]
  },
  {
   "cell_type": "code",
   "execution_count": 56,
   "id": "13051435-9b32-4a91-92f2-90f05885c8ff",
   "metadata": {},
   "outputs": [],
   "source": [
    "# loss_fn_cnn = NormalizedCrossEntropyLoss_REVISED(model)\n",
    "# loss_fn_cnn = nn.CrossEntropyLoss()\n",
    "# optimizer = torch.optim.AdamW(model.parameters(), lr=0.001, weight_decay=1e-4)"
   ]
  },
  {
   "cell_type": "markdown",
   "id": "b699d9ac-1f44-4b23-be50-1402f580a557",
   "metadata": {},
   "source": [
    "## Loss Function & Optimizer - V2 USE THIS FOR ACTIVE LOSS"
   ]
  },
  {
   "cell_type": "code",
   "execution_count": null,
   "id": "4e2f04a1-41e8-4ed1-8bde-7fd6ff22361b",
   "metadata": {},
   "outputs": [],
   "source": [
    "# optimizer_NCE = torch.optim.SGD(model_NCE.parameters(), lr=0.01, momentum=0.9, weight_decay=1e-3)\n",
    "# scheduler_NCE = torch.optim.lr_scheduler.StepLR(optimizer_NCE, step_size=10, gamma=0.5)\n",
    "# criterion_NCE = NormalizedCrossEntropyLoss_REVISED(model_NCE)\n",
    "# optimizer_NFL = torch.optim.SGD(model_NFL.parameters(), lr=0.01, momentum=0.9, weight_decay=1e-3)\n",
    "# scheduler_NFL = torch.optim.lr_scheduler.StepLR(optimizer_NFL, step_size=10, gamma=0.5)\n",
    "# criterion_NFL = NormalizedFocalLoss(gamma=2.0, reduction='mean')"
   ]
  },
  {
   "cell_type": "markdown",
   "id": "ff16ace9-58cf-4bdf-b670-0ab4c5e3ebda",
   "metadata": {},
   "source": [
    "## Loss Function & Optimizer - V3 (AdamW & Plateau)"
   ]
  },
  {
   "cell_type": "code",
   "execution_count": null,
   "id": "bce9940c-e9ef-4855-bb83-033c104ba26b",
   "metadata": {},
   "outputs": [],
   "source": [
    "# optimizer_NCE = torch.optim.AdamW(model_NCE.parameters(), lr=0.001, weight_decay=5e-4)\n",
    "# scheduler_NCE = torch.optim.lr_scheduler.StepLR(optimizer_NCE, step_size=10, gamma=0.5)\n",
    "# criterion_NCE = NormalizedCrossEntropyLoss_REVISED(model_NCE)\n",
    "# optimizer_NFL = torch.optim.AdamW(model_NFL.parameters(), lr=0.001, weight_decay=5e-4)\n",
    "# scheduler_NFL = torch.optim.lr_scheduler.StepLR(optimizer_NFL, step_size=10, gamma=0.5)\n",
    "# criterion_NFL = NormalizedFocalLoss(gamma=2.0, reduction='mean')\n",
    "\n",
    "\n",
    "# optimizer = torch.optim.AdamW(model.parameters(), lr=0.001, weight_decay=5e-4)\n",
    "# scheduler = torch.optim.lr_scheduler.StepLR(optimizer, step_size=10, gamma=0.5)\n",
    "# scheduler = torch.optim.lr_scheduler.CosineAnnealingLR(optimizer, T_max=100, eta_min=1e-5)\n",
    "# scheduler = torch.optim.lr_scheduler.ReduceLROnPlateau(optimizer, mode='min', factor=0.5, patience=5)"
   ]
  },
  {
   "cell_type": "markdown",
   "id": "356c9f84-1c05-4ba2-8031-e00e45e8e9bb",
   "metadata": {},
   "source": [
    "## **APL Testing** - Loss Function & Optimizer - V4"
   ]
  },
  {
   "cell_type": "code",
   "execution_count": null,
   "id": "ea9c0fe1-39b4-4cab-a9d2-637ef9ac69f4",
   "metadata": {},
   "outputs": [],
   "source": [
    "active_loss_fn = NormalizedCrossEntropyLoss(model_APL)\n",
    "passive_loss_fn = ReversedCrossEntropyLoss()  # Assume you've already implemented this\n",
    "\n",
    "apl_loss_fn = APLLoss(active_loss_fn, passive_loss_fn, alpha=0.7, beta=0.3)\n",
    "apl_loss_fn\n",
    "\n",
    "optimizer_APL = torch.optim.SGD(model_APL.parameters(), lr=0.01, momentum=0.9, weight_decay=5e-4)\n",
    "scheduler_APL = torch.optim.lr_scheduler.StepLR(optimizer_APL, step_size=10, gamma=0.5)\n",
    "criterion = apl_loss_fn"
   ]
  },
  {
   "cell_type": "markdown",
   "id": "f14e337b-0ebb-437e-a09f-be68ba009715",
   "metadata": {},
   "source": [
    "## **APL Testing** - Loss Function & Optimizer - V5"
   ]
  },
  {
   "cell_type": "code",
   "execution_count": 60,
   "id": "efe78611-cc43-448e-a3ec-a6459bcdecd3",
   "metadata": {},
   "outputs": [],
   "source": [
    "\n",
    "\n",
    "# active_loss_fn = NormalizedCrossEntropyLoss(model_APL)\n",
    "# passive_loss_fn = ReversedCrossEntropyLoss()  # Assume you've already implemented this\n",
    "\n",
    "# alpha = 0.85\n",
    "\n",
    "# alpha_v2 = 0.85\n",
    "\n",
    "# apl_loss_fn = APLLoss(active_loss=active_loss_fn, passive_loss=passive_loss_fn, alpha=alpha, beta=1-alpha)\n",
    "# apl_loss_fn\n",
    "\n",
    "# optimizer_APL = torch.optim.SGD(model_APL.parameters(), lr=0.01, momentum=0.9, weight_decay=5e-4)\n",
    "# # optimizer_APL_v2 = torch.optim.AdamW(model_APL.parameters(), lr=0.03, betas=(0.9, 0.999), weight_decay=1e-3)\n",
    "\n",
    "# scheduler_APL = torch.optim.lr_scheduler.CosineAnnealingLR(optimizer_APL, T_max=50, eta_min=1e-6)\n",
    "# # scheduler_APL_v2 = torch.optim.lr_scheduler.CosineAnnealingWarmRestarts(optimizer_APL, T_0=20, T_mult=2, eta_min=1e-6)\n",
    "# criterion = apl_loss_fn"
   ]
  },
  {
   "cell_type": "code",
   "execution_count": 61,
   "id": "2aa42ecb-924f-4bb0-a2aa-947de680078a",
   "metadata": {},
   "outputs": [
    {
     "name": "stdout",
     "output_type": "stream",
     "text": [
      "Criterion: APL\n",
      "Noise Rate: 0.4\n",
      "version=16\n",
      "train_losses.shape=torch.Size([50])\n",
      "Received Termination Signal. Terminating...\n",
      "Train Time : 0.001001s\n",
      "Arch & metrics Saved to APL\\Models\\cnn_16.pth...\n"
     ]
    }
   ],
   "source": [
    "metrics_APL, train_time_APL = train_loop(\n",
    "    model=model_APL,\n",
    "    train_data_loader=train_data_loader,\n",
    "    test_data_loader=test_data_loader,\n",
    "    criterion=apl_loss_fn,\n",
    "    optimizer=optimizer_APL,\n",
    "    scheduler=scheduler_APL,\n",
    "    loss_type=\"APL\",\n",
    "    num_epochs=50,\n",
    "    INCLUDE_TEST=True,\n",
    "    DEVICE=DEVICE,\n",
    "    noise_rate=train_data_noise.noise_rate\n",
    ")"
   ]
  },
  {
   "cell_type": "code",
   "execution_count": 62,
   "id": "83df3ff9-ab71-436a-ab6a-84f5ea56c8d7",
   "metadata": {},
   "outputs": [
    {
     "ename": "TypeError",
     "evalue": "IntegerTracker.__init__() missing 1 required positional argument: 'file_name'",
     "output_type": "error",
     "traceback": [
      "\u001b[31m---------------------------------------------------------------------------\u001b[39m",
      "\u001b[31mTypeError\u001b[39m                                 Traceback (most recent call last)",
      "\u001b[36mCell\u001b[39m\u001b[36m \u001b[39m\u001b[32mIn[62]\u001b[39m\u001b[32m, line 1\u001b[39m\n\u001b[32m----> \u001b[39m\u001b[32m1\u001b[39m tracker = \u001b[43mIntegerTracker\u001b[49m\u001b[43m(\u001b[49m\u001b[43m)\u001b[49m\n",
      "\u001b[31mTypeError\u001b[39m: IntegerTracker.__init__() missing 1 required positional argument: 'file_name'"
     ]
    }
   ],
   "source": [
    "tracker = IntegerTracker()"
   ]
  },
  {
   "cell_type": "markdown",
   "id": "0d5236af-5576-4193-a2f0-b26e074206f7",
   "metadata": {},
   "source": [
    "### NCE - AL"
   ]
  },
  {
   "cell_type": "code",
   "execution_count": null,
   "id": "5ce0dbe2-d15d-41f5-a557-21325eefdf12",
   "metadata": {},
   "outputs": [],
   "source": [
    "# metrics_NCE, train_time_NCE = train_loop(model_NCE, \n",
    "#                                          train_data_loader, test_data_loader, \n",
    "#                                          criterion_NCE, optimizer_NCE, \n",
    "#                                          scheduler_NCE, loss_type='NCE', noise_rate=train_data_noise.noise_rate)\n",
    "# # info = f\"Noise Rate: {train_data_noise.noise_rate:.4f} \\nTrain Time: {train_time_NCE:.6f}s \\nTransforms: HOR_FLIP ROT_10 NORM \\nLoss({criterion_NCE.__class__}) \\nOptimizer({optimizer_NCE.__class__}) \\nScheduler({scheduler_NCE.__class__})\""
   ]
  },
  {
   "cell_type": "markdown",
   "id": "772b0dc4-8387-41c8-81d9-a117e4b9c59d",
   "metadata": {},
   "source": [
    "### NFL - AL"
   ]
  },
  {
   "cell_type": "code",
   "execution_count": null,
   "id": "52e76fb3-a660-4160-8575-df433fffdc1f",
   "metadata": {
    "scrolled": true
   },
   "outputs": [],
   "source": [
    "# metrics_NFL, train_time_NFL = train_loop(model_NFL, \n",
    "#                                          train_data_loader, test_data_loader, \n",
    "#                                          criterion_NFL, optimizer_NFL, \n",
    "#                                          scheduler_NFL, loss_type='NFL', noise_rate=train_data_noise.noise_rate)"
   ]
  },
  {
   "cell_type": "code",
   "execution_count": null,
   "id": "9283ed96-7090-47c1-8e91-730f760784b0",
   "metadata": {},
   "outputs": [
    {
     "data": {
      "image/png": "[encoded data removed]",
      "text/plain": [
       "<Figure size 1000x600 with 1 Axes>"
      ]
     },
     "metadata": {},
     "output_type": "display_data"
    }
   ],
   "source": [
    "\n",
    "plot_metrics(metrics_APL, title=\"CNN V4\", save=None)\n",
    "# plot_metrics(metrics_NFL)\n"
   ]
  },
  {
   "cell_type": "markdown",
   "id": "1436902c-2bf6-43ee-b712-23158b1075cc",
   "metadata": {},
   "source": [
    "### NCE + CE - APL"
   ]
  },
  {
   "cell_type": "code",
   "execution_count": null,
   "id": "dd217783-1cf5-4a3e-af20-484ab13841ee",
   "metadata": {},
   "outputs": [],
   "source": []
  },
  {
   "cell_type": "code",
   "execution_count": null,
   "id": "28906bf3-0e30-4e5e-930f-f8bc84e0526e",
   "metadata": {},
   "outputs": [
    {
     "ename": "NameError",
     "evalue": "name 'model_APL' is not defined",
     "output_type": "error",
     "traceback": [
      "\u001b[1;31m---------------------------------------------------------------------------\u001b[0m",
      "\u001b[1;31mNameError\u001b[0m                                 Traceback (most recent call last)",
      "Cell \u001b[1;32mIn[7], line 8\u001b[0m\n\u001b[0;32m      1\u001b[0m \u001b[38;5;66;03m# Define model, optimizer, loss function, and scheduler\u001b[39;00m\n\u001b[0;32m      2\u001b[0m \u001b[38;5;66;03m# model_V5 = CNN_V3()  # Make sure this is correctly instantiated\u001b[39;00m\n\u001b[0;32m      3\u001b[0m \u001b[38;5;66;03m# optimizer_V5 = torch.optim.SGD(model.parameters(), lr=0.01, momentum=0.9, weight_decay=1e-3)\u001b[39;00m\n\u001b[1;32m   (...)\u001b[0m\n\u001b[0;32m      6\u001b[0m \n\u001b[0;32m      7\u001b[0m \u001b[38;5;66;03m# Load the saved data\u001b[39;00m\n\u001b[1;32m----> 8\u001b[0m loaded \u001b[38;5;241m=\u001b[39m load_saved_data(\u001b[38;5;124m\"\u001b[39m\u001b[38;5;124mAPL\u001b[39m\u001b[38;5;130;01m\\\\\u001b[39;00m\u001b[38;5;124mModels\u001b[39m\u001b[38;5;130;01m\\\\\u001b[39;00m\u001b[38;5;124mcnn_5.pth\u001b[39m\u001b[38;5;124m\"\u001b[39m, model_APL, optimizer_APL, criterion, scheduler_APL)\n\u001b[0;32m     10\u001b[0m \u001b[38;5;28;01mif\u001b[39;00m loaded:\n\u001b[0;32m     11\u001b[0m     model_APL, criterion, optimizer_APL, scheduler_APL, metrics_APL \u001b[38;5;241m=\u001b[39m loaded\n",
      "\u001b[1;31mNameError\u001b[0m: name 'model_APL' is not defined"
     ]
    }
   ],
   "source": [
    "# Define model, optimizer, loss function, and scheduler\n",
    "# model_V5 = CNN_V3()  # Make sure this is correctly instantiated\n",
    "# optimizer_V5 = torch.optim.SGD(model.parameters(), lr=0.01, momentum=0.9, weight_decay=1e-3)\n",
    "# criterion_V5 = NormalizedFocalLoss()  # Ensure this matches the saved model\n",
    "# scheduler_V5 = torch.optim.lr_scheduler.StepLR(optimizer, step_size=10, gamma=0.5)\n",
    "\n",
    "# Load the saved data\n",
    "loaded = load_saved_data(\"APL\\\\Models\\\\cnn_5.pth\", model_APL, optimizer_APL, criterion, scheduler_APL)\n",
    "\n",
    "if loaded:\n",
    "    model_APL, criterion, optimizer_APL, scheduler_APL, metrics_APL = loaded\n",
    "    print(\"Model and parameters successfully restored!\")\n",
    "    print(metrics)\n",
    "else:\n",
    "    print(\"Failed to load model parameters.\")\n"
   ]
  },
  {
   "cell_type": "code",
   "execution_count": null,
   "id": "30b43891-ccd0-42a0-840a-03f81e92e7f0",
   "metadata": {},
   "outputs": [
    {
     "data": {
      "text/plain": [
       "(torch.Size([51]), tensor(0.))"
      ]
     },
     "execution_count": 348,
     "metadata": {},
     "output_type": "execute_result"
    }
   ],
   "source": [
    "_,__,___,____ = [metrics_APL[i] for i in metrics_APL]\n",
    "test = torch.cat([_,torch.zeros(1)])\n",
    "test.shape, test[1+49]"
   ]
  },
  {
   "cell_type": "code",
   "execution_count": null,
   "id": "1858090b-35bf-4c48-b42c-2962214dddc8",
   "metadata": {},
   "outputs": [
    {
     "name": "stdout",
     "output_type": "stream",
     "text": [
      "Criterion: APL\n",
      "Noise Rate: 0.4\n",
      "version=5\n",
      "\n",
      "\n",
      "Resuming Training (New Session) with same model(version=5)... \n",
      "\n",
      "\n",
      "\n",
      "\n",
      "Resuming Training (New Session) with same model (version=5)... \n",
      "\n",
      "\n",
      "train_losses.shape=torch.Size([100])\n",
      "Epoch 51/100 | Train Loss: 1.0167, Train Accuracy: 0.4898 | Test Loss: 0.7812, Test Accuracy: 0.7806 | 30.292 s\n",
      "Epoch 52/100 | Train Loss: 1.0171, Train Accuracy: 0.4868 | Test Loss: 0.7816, Test Accuracy: 0.7737 | 61.303 s\n",
      "Epoch 53/100 | Train Loss: 1.0171, Train Accuracy: 0.4869 | Test Loss: 0.7810, Test Accuracy: 0.7751 | 92.577 s\n",
      "Epoch 54/100 | Train Loss: 1.0168, Train Accuracy: 0.4873 | Test Loss: 0.7837, Test Accuracy: 0.7735 | 123.746 s\n",
      "Epoch 55/100 | Train Loss: 1.0175, Train Accuracy: 0.4854 | Test Loss: 0.7850, Test Accuracy: 0.7736 | 155.016 s\n",
      "Epoch 56/100 | Train Loss: 1.0182, Train Accuracy: 0.4847 | Test Loss: 0.7850, Test Accuracy: 0.7702 | 186.064 s\n",
      "Epoch 57/100 | Train Loss: 1.0190, Train Accuracy: 0.4848 | Test Loss: 0.7886, Test Accuracy: 0.7692 | 218.256 s\n",
      "Received Termination Signal. Terminating...\n",
      "Train Time (New Session): 218.256838s\n",
      "Arch & metrics Saved to APL\\Models\\cnn_5.pth...\n"
     ]
    }
   ],
   "source": [
    "metrics_APL_NEW, train_time_APL_NEW = train_loop(\n",
    "    model=model_APL,\n",
    "    train_data_loader=train_data_loader,\n",
    "    test_data_loader=test_data_loader,\n",
    "    criterion=apl_loss_fn,\n",
    "    optimizer=optimizer_APL,\n",
    "    scheduler=scheduler_APL,\n",
    "    loss_type=\"APL\",\n",
    "    num_epochs=50,\n",
    "    INCLUDE_TEST=True,\n",
    "    DEVICE=DEVICE,\n",
    "    noise_rate=train_data_noise.noise_rate,\n",
    "    continuation=True,\n",
    "    old_metrics=metrics_APL,\n",
    "    continuation_version=5\n",
    ")"
   ]
  },
  {
   "cell_type": "code",
   "execution_count": null,
   "id": "a0202671-346b-4039-a1be-9014003ea7cc",
   "metadata": {},
   "outputs": [],
   "source": []
  },
  {
   "cell_type": "code",
   "execution_count": null,
   "id": "6ca385cc",
   "metadata": {},
   "outputs": [],
   "source": [
    "# criterion_NCE, optimizer_NCE, scheduler_NCE, criterion_NFL, optimizer_NFL, scheduler_NFL"
   ]
  },
  {
   "cell_type": "markdown",
   "id": "eb74d810",
   "metadata": {},
   "source": [
    "## **Paper Implementation**"
   ]
  },
  {
   "cell_type": "code",
   "execution_count": 110,
   "id": "c259cea9",
   "metadata": {},
   "outputs": [
    {
     "name": "stdout",
     "output_type": "stream",
     "text": [
      "Mask Info...\n",
      "\tExpected Noise Rate: 0.500 | Actual Noise Rate:  0.497 | True/False : 0.988\n"
     ]
    }
   ],
   "source": [
    "model = CNN9Layer(num_classes=10).to(DEVICE)\n",
    "optimizer = torch.optim.SGD(\n",
    "    model.parameters(),\n",
    "    lr=0.01,            # Learning rate used for CNNs\n",
    "    momentum=0.9,\n",
    "    weight_decay=5e-4\n",
    ")\n",
    "scheduler = torch.optim.lr_scheduler.CosineAnnealingLR(\n",
    "    optimizer,\n",
    "    T_max=100          # Number of epochs\n",
    ")\n",
    "\n",
    "criterion = NormalizedCrossEntropyLoss()\n",
    "\n",
    "transform_train = transforms.Compose([\n",
    "    transforms.RandomCrop(32, padding=4),\n",
    "    transforms.RandomHorizontalFlip(),\n",
    "    transforms.ToTensor()\n",
    "])\n",
    "\n",
    "transform_test = transforms.Compose([\n",
    "    transforms.ToTensor()\n",
    "])\n",
    "\n",
    "trainset = NoisyDataset(root='./data', train=True, download=True, transform=transform_train, noise_rate=0.5)\n",
    "trainloader = DataLoader(trainset, batch_size=128, shuffle=True, num_workers=0)\n",
    "\n",
    "testset = datasets.CIFAR10(root='./data', train=False, download=True, transform=transform_test)\n",
    "testloader = DataLoader(testset, batch_size=100, shuffle=False, num_workers=0)"
   ]
  },
  {
   "cell_type": "code",
   "execution_count": 112,
   "id": "5acb23fd",
   "metadata": {},
   "outputs": [
    {
     "name": "stdout",
     "output_type": "stream",
     "text": [
      "Criterion: NCE\n",
      "Noise Rate: 0.5\n",
      "version=26\n",
      "train_losses.shape=torch.Size([100])\n",
      "Epoch 1/100 | Train Loss: 0.9727, Train Accuracy: 0.2303 | Test Loss: 0.8708, Test Accuracy: 0.4637 | 26.467 s\n",
      "Epoch 2/100 | Train Loss: 0.9680, Train Accuracy: 0.2490 | Test Loss: 0.8589, Test Accuracy: 0.5072 | 55.259 s\n",
      "Epoch 3/100 | Train Loss: 0.9639, Train Accuracy: 0.2622 | Test Loss: 0.8511, Test Accuracy: 0.5396 | 82.180 s\n",
      "Epoch 4/100 | Train Loss: 0.9613, Train Accuracy: 0.2713 | Test Loss: 0.8428, Test Accuracy: 0.5515 | 107.439 s\n",
      "Epoch 5/100 | Train Loss: 0.9576, Train Accuracy: 0.2834 | Test Loss: 0.8366, Test Accuracy: 0.5789 | 132.910 s\n",
      "Epoch 6/100 | Train Loss: 0.9559, Train Accuracy: 0.2910 | Test Loss: 0.8284, Test Accuracy: 0.5615 | 158.108 s\n",
      "Epoch 7/100 | Train Loss: 0.9527, Train Accuracy: 0.2996 | Test Loss: 0.8290, Test Accuracy: 0.5822 | 184.698 s\n",
      "Epoch 8/100 | Train Loss: 0.9521, Train Accuracy: 0.3037 | Test Loss: 0.8310, Test Accuracy: 0.6014 | 212.654 s\n",
      "Epoch 9/100 | Train Loss: 0.9497, Train Accuracy: 0.3100 | Test Loss: 0.8131, Test Accuracy: 0.5990 | 240.556 s\n",
      "Epoch 10/100 | Train Loss: 0.9481, Train Accuracy: 0.3154 | Test Loss: 0.8215, Test Accuracy: 0.6281 | 268.581 s\n",
      "Epoch 11/100 | Train Loss: 0.9462, Train Accuracy: 0.3193 | Test Loss: 0.8092, Test Accuracy: 0.6196 | 296.458 s\n",
      "Epoch 12/100 | Train Loss: 0.9457, Train Accuracy: 0.3245 | Test Loss: 0.8057, Test Accuracy: 0.6356 | 324.117 s\n",
      "Epoch 13/100 | Train Loss: 0.9439, Train Accuracy: 0.3268 | Test Loss: 0.8095, Test Accuracy: 0.6455 | 352.551 s\n",
      "Epoch 14/100 | Train Loss: 0.9426, Train Accuracy: 0.3318 | Test Loss: 0.8007, Test Accuracy: 0.6305 | 379.657 s\n",
      "Epoch 15/100 | Train Loss: 0.9416, Train Accuracy: 0.3346 | Test Loss: 0.7881, Test Accuracy: 0.6424 | 404.820 s\n",
      "Epoch 16/100 | Train Loss: 0.9398, Train Accuracy: 0.3377 | Test Loss: 0.8243, Test Accuracy: 0.5701 | 430.014 s\n",
      "Epoch 17/100 | Train Loss: 0.9383, Train Accuracy: 0.3436 | Test Loss: 0.7820, Test Accuracy: 0.6666 | 454.816 s\n",
      "Epoch 18/100 | Train Loss: 0.9385, Train Accuracy: 0.3427 | Test Loss: 0.8002, Test Accuracy: 0.6276 | 479.633 s\n",
      "Epoch 19/100 | Train Loss: 0.9378, Train Accuracy: 0.3464 | Test Loss: 0.7900, Test Accuracy: 0.6961 | 504.502 s\n",
      "Epoch 20/100 | Train Loss: 0.9363, Train Accuracy: 0.3500 | Test Loss: 0.7770, Test Accuracy: 0.6929 | 529.431 s\n",
      "Epoch 21/100 | Train Loss: 0.9361, Train Accuracy: 0.3496 | Test Loss: 0.7945, Test Accuracy: 0.6876 | 554.219 s\n",
      "Epoch 22/100 | Train Loss: 0.9352, Train Accuracy: 0.3503 | Test Loss: 0.7882, Test Accuracy: 0.6535 | 579.170 s\n",
      "Epoch 23/100 | Train Loss: 0.9330, Train Accuracy: 0.3567 | Test Loss: 0.7969, Test Accuracy: 0.5906 | 604.247 s\n",
      "Epoch 24/100 | Train Loss: 0.9330, Train Accuracy: 0.3541 | Test Loss: 0.8066, Test Accuracy: 0.5931 | 629.488 s\n",
      "Epoch 25/100 | Train Loss: 0.9325, Train Accuracy: 0.3593 | Test Loss: 0.7787, Test Accuracy: 0.6906 | 654.413 s\n",
      "Epoch 26/100 | Train Loss: 0.9321, Train Accuracy: 0.3597 | Test Loss: 0.7932, Test Accuracy: 0.6497 | 679.716 s\n",
      "Epoch 27/100 | Train Loss: 0.9316, Train Accuracy: 0.3620 | Test Loss: 0.7980, Test Accuracy: 0.6396 | 704.647 s\n",
      "Epoch 28/100 | Train Loss: 0.9300, Train Accuracy: 0.3626 | Test Loss: 0.7722, Test Accuracy: 0.6825 | 729.722 s\n",
      "Epoch 29/100 | Train Loss: 0.9296, Train Accuracy: 0.3649 | Test Loss: 0.7806, Test Accuracy: 0.6501 | 754.592 s\n",
      "Epoch 30/100 | Train Loss: 0.9294, Train Accuracy: 0.3654 | Test Loss: 0.7975, Test Accuracy: 0.6668 | 779.868 s\n",
      "Epoch 31/100 | Train Loss: 0.9285, Train Accuracy: 0.3672 | Test Loss: 0.7852, Test Accuracy: 0.6774 | 805.221 s\n",
      "Epoch 32/100 | Train Loss: 0.9275, Train Accuracy: 0.3703 | Test Loss: 0.7848, Test Accuracy: 0.6678 | 830.354 s\n",
      "Epoch 33/100 | Train Loss: 0.9267, Train Accuracy: 0.3703 | Test Loss: 0.7908, Test Accuracy: 0.6834 | 855.154 s\n",
      "Epoch 34/100 | Train Loss: 0.9262, Train Accuracy: 0.3713 | Test Loss: 0.7760, Test Accuracy: 0.6809 | 880.274 s\n",
      "Epoch 35/100 | Train Loss: 0.9255, Train Accuracy: 0.3733 | Test Loss: 0.7476, Test Accuracy: 0.7009 | 904.637 s\n",
      "Epoch 36/100 | Train Loss: 0.9256, Train Accuracy: 0.3734 | Test Loss: 0.7788, Test Accuracy: 0.6890 | 928.633 s\n",
      "Epoch 37/100 | Train Loss: 0.9246, Train Accuracy: 0.3777 | Test Loss: 0.7599, Test Accuracy: 0.7211 | 953.136 s\n",
      "Epoch 38/100 | Train Loss: 0.9243, Train Accuracy: 0.3772 | Test Loss: 0.7741, Test Accuracy: 0.6940 | 978.070 s\n",
      "Epoch 39/100 | Train Loss: 0.9236, Train Accuracy: 0.3766 | Test Loss: 0.7630, Test Accuracy: 0.7286 | 1004.658 s\n",
      "Epoch 40/100 | Train Loss: 0.9231, Train Accuracy: 0.3793 | Test Loss: 0.7908, Test Accuracy: 0.6500 | 1032.336 s\n",
      "Epoch 41/100 | Train Loss: 0.9224, Train Accuracy: 0.3808 | Test Loss: 0.7737, Test Accuracy: 0.7119 | 1058.702 s\n",
      "Epoch 42/100 | Train Loss: 0.9224, Train Accuracy: 0.3798 | Test Loss: 0.7620, Test Accuracy: 0.6736 | 1086.234 s\n",
      "Epoch 43/100 | Train Loss: 0.9219, Train Accuracy: 0.3833 | Test Loss: 0.7607, Test Accuracy: 0.7014 | 1111.486 s\n",
      "Epoch 44/100 | Train Loss: 0.9207, Train Accuracy: 0.3846 | Test Loss: 0.7658, Test Accuracy: 0.7107 | 1136.707 s\n",
      "Epoch 45/100 | Train Loss: 0.9200, Train Accuracy: 0.3840 | Test Loss: 0.7426, Test Accuracy: 0.7454 | 1161.769 s\n",
      "Epoch 46/100 | Train Loss: 0.9194, Train Accuracy: 0.3886 | Test Loss: 0.7614, Test Accuracy: 0.6863 | 1186.701 s\n",
      "Epoch 47/100 | Train Loss: 0.9195, Train Accuracy: 0.3868 | Test Loss: 0.7819, Test Accuracy: 0.6840 | 1211.701 s\n",
      "Epoch 48/100 | Train Loss: 0.9185, Train Accuracy: 0.3882 | Test Loss: 0.7699, Test Accuracy: 0.7278 | 1236.907 s\n",
      "Epoch 49/100 | Train Loss: 0.9182, Train Accuracy: 0.3894 | Test Loss: 0.7628, Test Accuracy: 0.7187 | 1262.111 s\n",
      "Epoch 50/100 | Train Loss: 0.9177, Train Accuracy: 0.3910 | Test Loss: 0.7514, Test Accuracy: 0.7206 | 1287.027 s\n",
      "Epoch 51/100 | Train Loss: 0.9168, Train Accuracy: 0.3928 | Test Loss: 0.7761, Test Accuracy: 0.7247 | 1312.202 s\n",
      "Epoch 52/100 | Train Loss: 0.9167, Train Accuracy: 0.3923 | Test Loss: 0.7532, Test Accuracy: 0.7529 | 1337.147 s\n",
      "Epoch 53/100 | Train Loss: 0.9158, Train Accuracy: 0.3920 | Test Loss: 0.7489, Test Accuracy: 0.7395 | 1362.271 s\n",
      "Epoch 54/100 | Train Loss: 0.9151, Train Accuracy: 0.3962 | Test Loss: 0.7513, Test Accuracy: 0.7276 | 1387.694 s\n",
      "Epoch 55/100 | Train Loss: 0.9148, Train Accuracy: 0.3945 | Test Loss: 0.7519, Test Accuracy: 0.7345 | 1412.644 s\n",
      "Epoch 56/100 | Train Loss: 0.9147, Train Accuracy: 0.3963 | Test Loss: 0.7515, Test Accuracy: 0.7285 | 1437.798 s\n",
      "Epoch 57/100 | Train Loss: 0.9131, Train Accuracy: 0.3985 | Test Loss: 0.7465, Test Accuracy: 0.7372 | 1462.978 s\n",
      "Epoch 58/100 | Train Loss: 0.9132, Train Accuracy: 0.3988 | Test Loss: 0.7610, Test Accuracy: 0.7414 | 1487.963 s\n",
      "Epoch 59/100 | Train Loss: 0.9134, Train Accuracy: 0.3993 | Test Loss: 0.7552, Test Accuracy: 0.7331 | 1513.353 s\n",
      "Epoch 60/100 | Train Loss: 0.9119, Train Accuracy: 0.4009 | Test Loss: 0.7553, Test Accuracy: 0.6991 | 1538.437 s\n",
      "Epoch 61/100 | Train Loss: 0.9115, Train Accuracy: 0.4039 | Test Loss: 0.7483, Test Accuracy: 0.7535 | 1563.721 s\n",
      "Epoch 62/100 | Train Loss: 0.9114, Train Accuracy: 0.4027 | Test Loss: 0.7423, Test Accuracy: 0.7616 | 1588.792 s\n",
      "Epoch 63/100 | Train Loss: 0.9109, Train Accuracy: 0.4032 | Test Loss: 0.7488, Test Accuracy: 0.7317 | 1613.679 s\n",
      "Epoch 64/100 | Train Loss: 0.9108, Train Accuracy: 0.4037 | Test Loss: 0.7242, Test Accuracy: 0.7628 | 1638.630 s\n",
      "Epoch 65/100 | Train Loss: 0.9090, Train Accuracy: 0.4055 | Test Loss: 0.7379, Test Accuracy: 0.7464 | 1663.663 s\n",
      "Epoch 66/100 | Train Loss: 0.9092, Train Accuracy: 0.4061 | Test Loss: 0.7493, Test Accuracy: 0.7517 | 1688.871 s\n",
      "Epoch 67/100 | Train Loss: 0.9085, Train Accuracy: 0.4073 | Test Loss: 0.7360, Test Accuracy: 0.7719 | 1713.801 s\n",
      "Epoch 68/100 | Train Loss: 0.9080, Train Accuracy: 0.4084 | Test Loss: 0.7326, Test Accuracy: 0.7713 | 1738.351 s\n",
      "Epoch 69/100 | Train Loss: 0.9074, Train Accuracy: 0.4091 | Test Loss: 0.7385, Test Accuracy: 0.7486 | 1762.809 s\n",
      "Epoch 70/100 | Train Loss: 0.9063, Train Accuracy: 0.4107 | Test Loss: 0.7356, Test Accuracy: 0.7529 | 1787.202 s\n",
      "Epoch 71/100 | Train Loss: 0.9061, Train Accuracy: 0.4098 | Test Loss: 0.7289, Test Accuracy: 0.7595 | 1811.842 s\n",
      "Epoch 72/100 | Train Loss: 0.9057, Train Accuracy: 0.4120 | Test Loss: 0.7338, Test Accuracy: 0.7526 | 1835.901 s\n",
      "Epoch 73/100 | Train Loss: 0.9061, Train Accuracy: 0.4099 | Test Loss: 0.7305, Test Accuracy: 0.7707 | 1861.339 s\n",
      "Epoch 74/100 | Train Loss: 0.9051, Train Accuracy: 0.4132 | Test Loss: 0.7324, Test Accuracy: 0.7590 | 1885.067 s\n",
      "Epoch 75/100 | Train Loss: 0.9038, Train Accuracy: 0.4141 | Test Loss: 0.7284, Test Accuracy: 0.7698 | 1908.619 s\n",
      "Epoch 76/100 | Train Loss: 0.9040, Train Accuracy: 0.4154 | Test Loss: 0.7374, Test Accuracy: 0.7748 | 1934.431 s\n",
      "Epoch 77/100 | Train Loss: 0.9034, Train Accuracy: 0.4164 | Test Loss: 0.7248, Test Accuracy: 0.7771 | 1958.970 s\n",
      "Epoch 78/100 | Train Loss: 0.9028, Train Accuracy: 0.4166 | Test Loss: 0.7291, Test Accuracy: 0.7715 | 1982.962 s\n",
      "Epoch 79/100 | Train Loss: 0.9023, Train Accuracy: 0.4171 | Test Loss: 0.7268, Test Accuracy: 0.7675 | 2007.548 s\n",
      "Epoch 80/100 | Train Loss: 0.9013, Train Accuracy: 0.4181 | Test Loss: 0.7284, Test Accuracy: 0.7727 | 2031.877 s\n",
      "Epoch 81/100 | Train Loss: 0.9013, Train Accuracy: 0.4178 | Test Loss: 0.7211, Test Accuracy: 0.7782 | 2056.693 s\n",
      "Epoch 82/100 | Train Loss: 0.9005, Train Accuracy: 0.4179 | Test Loss: 0.7267, Test Accuracy: 0.7742 | 2080.698 s\n",
      "Epoch 83/100 | Train Loss: 0.9007, Train Accuracy: 0.4204 | Test Loss: 0.7197, Test Accuracy: 0.7808 | 2106.952 s\n",
      "Epoch 84/100 | Train Loss: 0.8997, Train Accuracy: 0.4220 | Test Loss: 0.7220, Test Accuracy: 0.7777 | 2133.016 s\n",
      "Epoch 85/100 | Train Loss: 0.8995, Train Accuracy: 0.4203 | Test Loss: 0.7157, Test Accuracy: 0.7793 | 2160.317 s\n",
      "Epoch 86/100 | Train Loss: 0.8994, Train Accuracy: 0.4226 | Test Loss: 0.7185, Test Accuracy: 0.7773 | 2185.368 s\n",
      "Epoch 87/100 | Train Loss: 0.8992, Train Accuracy: 0.4214 | Test Loss: 0.7215, Test Accuracy: 0.7840 | 2209.496 s\n",
      "Epoch 88/100 | Train Loss: 0.8988, Train Accuracy: 0.4223 | Test Loss: 0.7193, Test Accuracy: 0.7822 | 2233.352 s\n",
      "Epoch 89/100 | Train Loss: 0.8983, Train Accuracy: 0.4224 | Test Loss: 0.7171, Test Accuracy: 0.7803 | 2257.498 s\n",
      "Epoch 90/100 | Train Loss: 0.8973, Train Accuracy: 0.4229 | Test Loss: 0.7192, Test Accuracy: 0.7845 | 2283.121 s\n",
      "Epoch 91/100 | Train Loss: 0.8974, Train Accuracy: 0.4229 | Test Loss: 0.7203, Test Accuracy: 0.7811 | 2308.795 s\n",
      "Epoch 92/100 | Train Loss: 0.8980, Train Accuracy: 0.4247 | Test Loss: 0.7193, Test Accuracy: 0.7830 | 2336.487 s\n",
      "Epoch 93/100 | Train Loss: 0.8970, Train Accuracy: 0.4244 | Test Loss: 0.7174, Test Accuracy: 0.7843 | 2366.141 s\n",
      "Epoch 94/100 | Train Loss: 0.8970, Train Accuracy: 0.4251 | Test Loss: 0.7162, Test Accuracy: 0.7845 | 2395.647 s\n",
      "Epoch 95/100 | Train Loss: 0.8965, Train Accuracy: 0.4265 | Test Loss: 0.7172, Test Accuracy: 0.7838 | 2424.494 s\n",
      "Epoch 96/100 | Train Loss: 0.8973, Train Accuracy: 0.4243 | Test Loss: 0.7168, Test Accuracy: 0.7847 | 2455.677 s\n",
      "Epoch 97/100 | Train Loss: 0.8970, Train Accuracy: 0.4244 | Test Loss: 0.7172, Test Accuracy: 0.7826 | 2490.095 s\n",
      "Epoch 98/100 | Train Loss: 0.8963, Train Accuracy: 0.4251 | Test Loss: 0.7173, Test Accuracy: 0.7832 | 2526.990 s\n",
      "Epoch 99/100 | Train Loss: 0.8966, Train Accuracy: 0.4250 | Test Loss: 0.7172, Test Accuracy: 0.7842 | 2563.551 s\n",
      "Epoch 100/100 | Train Loss: 0.8958, Train Accuracy: 0.4280 | Test Loss: 0.7174, Test Accuracy: 0.7840 | 2600.900 s\n",
      "Train Time : 2600.899690s\n",
      "Arch & metrics Saved to NCE\\Models\\cnn_26.pth...\n"
     ]
    }
   ],
   "source": [
    "metrics_NEW, train_time_NEW = train_loop(\n",
    "    model=model,\n",
    "    train_data_loader=trainloader,\n",
    "    test_data_loader=testloader,\n",
    "    criterion=criterion,\n",
    "    optimizer=optimizer,\n",
    "    scheduler=scheduler,\n",
    "    loss_type=\"NCE\",\n",
    "    num_epochs=100,\n",
    "    INCLUDE_TEST=True,\n",
    "    DEVICE=DEVICE,\n",
    "    noise_rate=trainset.noise_rate,\n",
    "    continuation=False,\n",
    "    old_metrics=None,\n",
    "    continuation_version=None\n",
    ")"
   ]
  },
  {
   "cell_type": "code",
   "execution_count": null,
   "id": "29b01f1f",
   "metadata": {},
   "outputs": [
    {
     "name": "stdout",
     "output_type": "stream",
     "text": [
      "Scheduler state_dict not found. Loading default state.\n",
      "Data loaded successfully from: CE\\Models\\cnn_0.pth\n"
     ]
    },
    {
     "data": {
      "image/png": "[encoded data removed]",
      "text/plain": [
       "<Figure size 1000x600 with 1 Axes>"
      ]
     },
     "metadata": {},
     "output_type": "display_data"
    }
   ],
   "source": [
    "model_CE, criterion_CE, optimizer_CE, scheduler_CE, metrics_CE = load_saved_data(\"CE\\\\Models\\\\cnn_0.pth\", model, optimizer, criterion, scheduler)\n",
    "plot_metrics_v2(metrics_CE, title=\"CNN CE\", save=None)"
   ]
  },
  {
   "cell_type": "code",
   "execution_count": null,
   "id": "4b52a763",
   "metadata": {},
   "outputs": [
    {
     "name": "stdout",
     "output_type": "stream",
     "text": [
      "Data loaded successfully from: NCE\\Models\\cnn_26.pth\n"
     ]
    },
    {
     "data": {
      "text/plain": [
       "{'Train Accuracy': tensor([0.2303, 0.2490, 0.2622, 0.2713, 0.2834, 0.2910, 0.2996, 0.3037, 0.3100,\n",
       "         0.3154, 0.3193, 0.3245, 0.3268, 0.3318, 0.3346, 0.3377, 0.3436, 0.3427,\n",
       "         0.3464, 0.3500, 0.3496, 0.3503, 0.3567, 0.3541, 0.3593, 0.3597, 0.3620,\n",
       "         0.3626, 0.3649, 0.3654, 0.3672, 0.3703, 0.3703, 0.3713, 0.3733, 0.3734,\n",
       "         0.3777, 0.3772, 0.3766, 0.3793, 0.3808, 0.3798, 0.3833, 0.3846, 0.3840,\n",
       "         0.3886, 0.3868, 0.3882, 0.3894, 0.3910, 0.3928, 0.3923, 0.3920, 0.3962,\n",
       "         0.3945, 0.3963, 0.3985, 0.3988, 0.3993, 0.4009, 0.4039, 0.4027, 0.4032,\n",
       "         0.4037, 0.4055, 0.4061, 0.4073, 0.4084, 0.4091, 0.4107, 0.4098, 0.4120,\n",
       "         0.4099, 0.4132, 0.4141, 0.4154, 0.4164, 0.4166, 0.4171, 0.4181, 0.4178,\n",
       "         0.4179, 0.4204, 0.4220, 0.4203, 0.4226, 0.4214, 0.4223, 0.4224, 0.4229,\n",
       "         0.4229, 0.4247, 0.4244, 0.4251, 0.4265, 0.4243, 0.4244, 0.4251, 0.4250,\n",
       "         0.4280]),\n",
       " 'Train Loss': tensor([0.9727, 0.9680, 0.9639, 0.9613, 0.9576, 0.9559, 0.9527, 0.9521, 0.9497,\n",
       "         0.9481, 0.9462, 0.9457, 0.9439, 0.9426, 0.9416, 0.9398, 0.9383, 0.9385,\n",
       "         0.9378, 0.9363, 0.9361, 0.9352, 0.9330, 0.9330, 0.9325, 0.9321, 0.9316,\n",
       "         0.9300, 0.9296, 0.9294, 0.9285, 0.9275, 0.9267, 0.9262, 0.9255, 0.9256,\n",
       "         0.9246, 0.9243, 0.9236, 0.9231, 0.9224, 0.9224, 0.9219, 0.9207, 0.9200,\n",
       "         0.9194, 0.9195, 0.9185, 0.9182, 0.9177, 0.9168, 0.9167, 0.9158, 0.9151,\n",
       "         0.9148, 0.9147, 0.9131, 0.9132, 0.9134, 0.9119, 0.9115, 0.9114, 0.9109,\n",
       "         0.9108, 0.9090, 0.9092, 0.9085, 0.9080, 0.9074, 0.9063, 0.9061, 0.9057,\n",
       "         0.9061, 0.9051, 0.9038, 0.9040, 0.9034, 0.9028, 0.9023, 0.9013, 0.9013,\n",
       "         0.9005, 0.9007, 0.8997, 0.8995, 0.8994, 0.8992, 0.8988, 0.8983, 0.8973,\n",
       "         0.8974, 0.8980, 0.8970, 0.8970, 0.8965, 0.8973, 0.8970, 0.8963, 0.8966,\n",
       "         0.8958]),\n",
       " 'Test Loss': tensor([0.8708, 0.8589, 0.8511, 0.8428, 0.8366, 0.8284, 0.8290, 0.8310, 0.8131,\n",
       "         0.8215, 0.8092, 0.8057, 0.8095, 0.8007, 0.7881, 0.8243, 0.7820, 0.8002,\n",
       "         0.7900, 0.7770, 0.7945, 0.7882, 0.7969, 0.8066, 0.7787, 0.7932, 0.7980,\n",
       "         0.7722, 0.7806, 0.7975, 0.7852, 0.7848, 0.7908, 0.7760, 0.7476, 0.7788,\n",
       "         0.7599, 0.7741, 0.7630, 0.7908, 0.7737, 0.7620, 0.7607, 0.7658, 0.7426,\n",
       "         0.7614, 0.7819, 0.7699, 0.7628, 0.7514, 0.7761, 0.7532, 0.7489, 0.7513,\n",
       "         0.7519, 0.7515, 0.7465, 0.7610, 0.7552, 0.7553, 0.7483, 0.7423, 0.7488,\n",
       "         0.7242, 0.7379, 0.7493, 0.7360, 0.7326, 0.7385, 0.7356, 0.7289, 0.7338,\n",
       "         0.7305, 0.7324, 0.7284, 0.7374, 0.7248, 0.7291, 0.7268, 0.7284, 0.7211,\n",
       "         0.7267, 0.7197, 0.7220, 0.7157, 0.7185, 0.7215, 0.7193, 0.7171, 0.7192,\n",
       "         0.7203, 0.7193, 0.7174, 0.7162, 0.7172, 0.7168, 0.7172, 0.7173, 0.7172,\n",
       "         0.7174]),\n",
       " 'Test Accuracy': tensor([0.4637, 0.5072, 0.5396, 0.5515, 0.5789, 0.5615, 0.5822, 0.6014, 0.5990,\n",
       "         0.6281, 0.6196, 0.6356, 0.6455, 0.6305, 0.6424, 0.5701, 0.6666, 0.6276,\n",
       "         0.6961, 0.6929, 0.6876, 0.6535, 0.5906, 0.5931, 0.6906, 0.6497, 0.6396,\n",
       "         0.6825, 0.6501, 0.6668, 0.6774, 0.6678, 0.6834, 0.6809, 0.7009, 0.6890,\n",
       "         0.7211, 0.6940, 0.7286, 0.6500, 0.7119, 0.6736, 0.7014, 0.7107, 0.7454,\n",
       "         0.6863, 0.6840, 0.7278, 0.7187, 0.7206, 0.7247, 0.7529, 0.7395, 0.7276,\n",
       "         0.7345, 0.7285, 0.7372, 0.7414, 0.7331, 0.6991, 0.7535, 0.7616, 0.7317,\n",
       "         0.7628, 0.7464, 0.7517, 0.7719, 0.7713, 0.7486, 0.7529, 0.7595, 0.7526,\n",
       "         0.7707, 0.7590, 0.7698, 0.7748, 0.7771, 0.7715, 0.7675, 0.7727, 0.7782,\n",
       "         0.7742, 0.7808, 0.7777, 0.7793, 0.7773, 0.7840, 0.7822, 0.7803, 0.7845,\n",
       "         0.7811, 0.7830, 0.7843, 0.7845, 0.7838, 0.7847, 0.7826, 0.7832, 0.7842,\n",
       "         0.7840])}"
      ]
     },
     "execution_count": 134,
     "metadata": {},
     "output_type": "execute_result"
    }
   ],
   "source": [
    "model_NCE, criterion_NCE, optimizer_NCE, scheduler_NCE, metrics_NCE = load_saved_data(\"NCE\\\\Models\\\\cnn_26.pth\", model, optimizer, criterion, scheduler)\n",
    "plot_metrics(metrics_NCE, title=\"CNN with NCE\", save=\"CNN NCE.png\")\n",
    "metrics_NCE"
   ]
  },
  {
   "cell_type": "code",
   "execution_count": null,
   "id": "f12d10e2",
   "metadata": {},
   "outputs": [],
   "source": [
    "model_CE, criterion_CE, optimizer_CE, scheduler_CE, metrics_CE = load_saved_data(\"CE\\\\Models\\\\cnn_3.pth\", model, optimizer, criterion, scheduler)\n",
    "plot_metrics(metrics_CE, title=\"CNN with CE\", save=\"CNN CE.png\")\n",
    "metrics_CE"
   ]
  },
  {
   "cell_type": "code",
   "execution_count": 142,
   "id": "8b90666d",
   "metadata": {},
   "outputs": [
    {
     "name": "stdout",
     "output_type": "stream",
     "text": [
      "Data loaded successfully from: NFL\\Models\\cnn_3.pth\n"
     ]
    },
    {
     "data": {
      "image/png": "[encoded data removed]",
      "text/plain": [
       "<Figure size 1000x600 with 1 Axes>"
      ]
     },
     "metadata": {},
     "output_type": "display_data"
    },
    {
     "data": {
      "text/plain": [
       "{'Train Accuracy': tensor([0.2167, 0.2400, 0.2539, 0.2648, 0.2744, 0.2841, 0.2895, 0.2953, 0.3035,\n",
       "         0.3087, 0.3124, 0.3169, 0.3237, 0.3260, 0.3284, 0.3317, 0.3357, 0.3383,\n",
       "         0.3410, 0.3426, 0.3422, 0.3463, 0.3467, 0.3522, 0.3540, 0.3556, 0.3552,\n",
       "         0.3597, 0.3599, 0.3620, 0.3622, 0.3644, 0.3659, 0.3670, 0.3701, 0.3705,\n",
       "         0.3725, 0.3712, 0.3743, 0.3760, 0.3789, 0.3785, 0.3812, 0.3830, 0.3825,\n",
       "         0.3810, 0.3846, 0.3850, 0.3860, 0.3875, 0.3895, 0.3902, 0.3921, 0.3923,\n",
       "         0.3935, 0.3944, 0.3959, 0.3950, 0.3954, 0.4004, 0.4003, 0.4011, 0.4008,\n",
       "         0.4029, 0.4026, 0.4040, 0.4048, 0.4062, 0.4057, 0.4079, 0.4097, 0.4085,\n",
       "         0.4092, 0.4095, 0.4120, 0.4135, 0.4145, 0.4142, 0.4183, 0.4159, 0.4173,\n",
       "         0.4186, 0.4193, 0.4189, 0.4213, 0.4205, 0.4237, 0.4213, 0.4231, 0.4231,\n",
       "         0.4227, 0.4224, 0.4260, 0.4255, 0.4233, 0.4256, 0.4273, 0.4253, 0.4248,\n",
       "         0.4266]),\n",
       " 'Train Loss': tensor([0.7764, 0.7682, 0.7628, 0.7589, 0.7560, 0.7518, 0.7497, 0.7468, 0.7439,\n",
       "         0.7413, 0.7396, 0.7378, 0.7360, 0.7342, 0.7329, 0.7318, 0.7303, 0.7284,\n",
       "         0.7276, 0.7268, 0.7258, 0.7247, 0.7237, 0.7217, 0.7210, 0.7199, 0.7201,\n",
       "         0.7175, 0.7162, 0.7165, 0.7153, 0.7145, 0.7143, 0.7132, 0.7111, 0.7109,\n",
       "         0.7101, 0.7099, 0.7084, 0.7079, 0.7065, 0.7065, 0.7056, 0.7050, 0.7038,\n",
       "         0.7039, 0.7025, 0.7021, 0.7009, 0.7006, 0.6996, 0.6984, 0.6982, 0.6972,\n",
       "         0.6971, 0.6958, 0.6952, 0.6938, 0.6936, 0.6919, 0.6919, 0.6913, 0.6905,\n",
       "         0.6893, 0.6888, 0.6885, 0.6877, 0.6868, 0.6857, 0.6854, 0.6843, 0.6845,\n",
       "         0.6836, 0.6825, 0.6813, 0.6807, 0.6806, 0.6800, 0.6779, 0.6786, 0.6785,\n",
       "         0.6766, 0.6756, 0.6762, 0.6749, 0.6744, 0.6733, 0.6732, 0.6728, 0.6725,\n",
       "         0.6719, 0.6714, 0.6717, 0.6708, 0.6715, 0.6714, 0.6703, 0.6707, 0.6710,\n",
       "         0.6701]),\n",
       " 'Test Loss': tensor([0.6551, 0.6352, 0.6293, 0.5923, 0.6225, 0.5921, 0.5967, 0.5632, 0.5733,\n",
       "         0.5729, 0.5704, 0.5626, 0.5448, 0.5482, 0.5412, 0.5444, 0.5546, 0.5392,\n",
       "         0.5324, 0.5161, 0.5387, 0.5128, 0.5733, 0.5370, 0.5313, 0.5551, 0.5461,\n",
       "         0.5486, 0.5421, 0.5092, 0.5228, 0.5092, 0.5095, 0.4959, 0.5112, 0.5128,\n",
       "         0.5047, 0.5239, 0.4999, 0.5039, 0.4928, 0.5146, 0.5127, 0.5437, 0.4785,\n",
       "         0.5267, 0.4915, 0.4959, 0.4989, 0.4920, 0.4979, 0.4932, 0.4816, 0.4696,\n",
       "         0.4791, 0.4716, 0.4688, 0.4525, 0.4769, 0.4461, 0.4916, 0.4829, 0.4797,\n",
       "         0.4791, 0.4708, 0.4800, 0.4680, 0.4654, 0.4543, 0.4596, 0.4707, 0.4676,\n",
       "         0.4622, 0.4569, 0.4619, 0.4588, 0.4647, 0.4463, 0.4491, 0.4441, 0.4536,\n",
       "         0.4426, 0.4347, 0.4516, 0.4515, 0.4408, 0.4426, 0.4501, 0.4450, 0.4404,\n",
       "         0.4418, 0.4403, 0.4386, 0.4385, 0.4399, 0.4386, 0.4398, 0.4389, 0.4387,\n",
       "         0.4403]),\n",
       " 'Test Accuracy': tensor([0.4606, 0.4959, 0.4820, 0.5366, 0.4589, 0.5831, 0.5879, 0.5757, 0.5951,\n",
       "         0.5848, 0.6061, 0.6004, 0.6282, 0.6590, 0.6480, 0.6680, 0.6285, 0.6216,\n",
       "         0.6091, 0.6676, 0.6334, 0.6959, 0.5507, 0.6567, 0.6361, 0.5943, 0.5996,\n",
       "         0.6532, 0.6657, 0.7049, 0.6898, 0.6962, 0.6834, 0.6779, 0.7129, 0.7058,\n",
       "         0.7040, 0.6793, 0.6937, 0.7059, 0.7425, 0.6752, 0.6853, 0.6113, 0.7323,\n",
       "         0.6157, 0.7105, 0.7345, 0.7158, 0.7236, 0.7060, 0.7246, 0.7462, 0.7216,\n",
       "         0.7344, 0.7270, 0.7383, 0.7681, 0.7497, 0.7606, 0.7362, 0.7527, 0.7471,\n",
       "         0.7615, 0.7613, 0.7333, 0.7458, 0.7565, 0.7465, 0.7539, 0.7645, 0.7652,\n",
       "         0.7641, 0.7598, 0.7677, 0.7621, 0.7728, 0.7753, 0.7817, 0.7790, 0.7816,\n",
       "         0.7851, 0.7822, 0.7844, 0.7841, 0.7858, 0.7884, 0.7834, 0.7913, 0.7927,\n",
       "         0.7916, 0.7906, 0.7892, 0.7918, 0.7922, 0.7924, 0.7928, 0.7917, 0.7923,\n",
       "         0.7929])}"
      ]
     },
     "execution_count": 142,
     "metadata": {},
     "output_type": "execute_result"
    }
   ],
   "source": [
    "model_NFL, criterion_NFL, optimizer_NFL, scheduler_NFL, metrics_NFL = load_saved_data(\"NFL\\\\Models\\\\cnn_3.pth\", model, optimizer, criterion, scheduler)\n",
    "plot_metrics(metrics_NFL, title=\"CNN with NFL\", save=\"CNN NFL.png\")\n",
    "metrics_NFL"
   ]
  },
  {
   "cell_type": "code",
   "execution_count": null,
   "id": "e9f94d3e",
   "metadata": {},
   "outputs": [],
   "source": [
    "model_FL, criterion_FL, optimizer_FL, scheduler_FL, metrics_FL = load_saved_data(\"FL\\\\Models\\\\cnn_0.pth\", model, optimizer, criterion, scheduler)\n",
    "plot_metrics(metrics_FL, title=\"CNN with FL\", save=\"CNN FL.png\")\n",
    "metrics_CE"
   ]
  },
  {
   "cell_type": "code",
   "execution_count": null,
   "id": "ed59bfe2",
   "metadata": {},
   "outputs": [],
   "source": [
    "def merge_metrics(metrics_list, names):\n",
    "    \"\"\"\n",
    "    Merge multiple metrics dictionaries into separate dictionaries for each metric type.\n",
    "    \n",
    "    Args:\n",
    "        metrics_list: List of metrics dictionaries (m1, m2, ..., mn)\n",
    "        names: List of names corresponding to each metrics dictionary ([\"l1\", \"l2\", ..., \"ln\"])\n",
    "        \n",
    "    Returns:\n",
    "        Dictionary containing merged metrics separated by type with names added\n",
    "    \"\"\"\n",
    "    # Initialize merged dictionaries for each metric type\n",
    "    merged = {\n",
    "        \"Test Loss\": {},\n",
    "        \"Train Loss\": {},\n",
    "        \"Train Accuracy\": {},\n",
    "        \"Test Accuracy\": {}\n",
    "    }\n",
    "    \n",
    "    # Verify input lengths match\n",
    "    if len(metrics_list) != len(names):\n",
    "        raise ValueError(\"Length of metrics_list must match length of names\")\n",
    "    \n",
    "    # Iterate through each metrics dictionary and corresponding name\n",
    "    for metrics, name in zip(metrics_list, names):\n",
    "        # Add each metric to the merged dictionary with the given name\n",
    "        for metric_type in merged.keys():\n",
    "            if metric_type in metrics:\n",
    "                merged[metric_type][name] = metrics[metric_type]\n",
    "            else:\n",
    "                # Handle case where a metric type is missing (optional)\n",
    "                merged[metric_type][name] = None  # or you could raise an error\n",
    "    \n",
    "    return merged"
   ]
  },
  {
   "cell_type": "code",
   "execution_count": 125,
   "id": "d87631ef",
   "metadata": {},
   "outputs": [
    {
     "name": "stdout",
     "output_type": "stream",
     "text": [
      "Data loaded successfully from: NCE\\Models\\cnn_26.pth\n"
     ]
    }
   ],
   "source": [
    "data = load_saved_data(\"NCE\\\\Models\\\\cnn_26.pth\", model, optimizer, criterion, scheduler)"
   ]
  },
  {
   "cell_type": "code",
   "execution_count": null,
   "id": "92212701",
   "metadata": {},
   "outputs": [
    {
     "data": {
      "text/plain": [
       "{'Train Accuracy': tensor([0.2303, 0.2490, 0.2622, 0.2713, 0.2834, 0.2910, 0.2996, 0.3037, 0.3100,\n",
       "         0.3154, 0.3193, 0.3245, 0.3268, 0.3318, 0.3346, 0.3377, 0.3436, 0.3427,\n",
       "         0.3464, 0.3500, 0.3496, 0.3503, 0.3567, 0.3541, 0.3593, 0.3597, 0.3620,\n",
       "         0.3626, 0.3649, 0.3654, 0.3672, 0.3703, 0.3703, 0.3713, 0.3733, 0.3734,\n",
       "         0.3777, 0.3772, 0.3766, 0.3793, 0.3808, 0.3798, 0.3833, 0.3846, 0.3840,\n",
       "         0.3886, 0.3868, 0.3882, 0.3894, 0.3910, 0.3928, 0.3923, 0.3920, 0.3962,\n",
       "         0.3945, 0.3963, 0.3985, 0.3988, 0.3993, 0.4009, 0.4039, 0.4027, 0.4032,\n",
       "         0.4037, 0.4055, 0.4061, 0.4073, 0.4084, 0.4091, 0.4107, 0.4098, 0.4120,\n",
       "         0.4099, 0.4132, 0.4141, 0.4154, 0.4164, 0.4166, 0.4171, 0.4181, 0.4178,\n",
       "         0.4179, 0.4204, 0.4220, 0.4203, 0.4226, 0.4214, 0.4223, 0.4224, 0.4229,\n",
       "         0.4229, 0.4247, 0.4244, 0.4251, 0.4265, 0.4243, 0.4244, 0.4251, 0.4250,\n",
       "         0.4280]),\n",
       " 'Train Loss': tensor([0.9727, 0.9680, 0.9639, 0.9613, 0.9576, 0.9559, 0.9527, 0.9521, 0.9497,\n",
       "         0.9481, 0.9462, 0.9457, 0.9439, 0.9426, 0.9416, 0.9398, 0.9383, 0.9385,\n",
       "         0.9378, 0.9363, 0.9361, 0.9352, 0.9330, 0.9330, 0.9325, 0.9321, 0.9316,\n",
       "         0.9300, 0.9296, 0.9294, 0.9285, 0.9275, 0.9267, 0.9262, 0.9255, 0.9256,\n",
       "         0.9246, 0.9243, 0.9236, 0.9231, 0.9224, 0.9224, 0.9219, 0.9207, 0.9200,\n",
       "         0.9194, 0.9195, 0.9185, 0.9182, 0.9177, 0.9168, 0.9167, 0.9158, 0.9151,\n",
       "         0.9148, 0.9147, 0.9131, 0.9132, 0.9134, 0.9119, 0.9115, 0.9114, 0.9109,\n",
       "         0.9108, 0.9090, 0.9092, 0.9085, 0.9080, 0.9074, 0.9063, 0.9061, 0.9057,\n",
       "         0.9061, 0.9051, 0.9038, 0.9040, 0.9034, 0.9028, 0.9023, 0.9013, 0.9013,\n",
       "         0.9005, 0.9007, 0.8997, 0.8995, 0.8994, 0.8992, 0.8988, 0.8983, 0.8973,\n",
       "         0.8974, 0.8980, 0.8970, 0.8970, 0.8965, 0.8973, 0.8970, 0.8963, 0.8966,\n",
       "         0.8958]),\n",
       " 'Test Loss': tensor([0.8708, 0.8589, 0.8511, 0.8428, 0.8366, 0.8284, 0.8290, 0.8310, 0.8131,\n",
       "         0.8215, 0.8092, 0.8057, 0.8095, 0.8007, 0.7881, 0.8243, 0.7820, 0.8002,\n",
       "         0.7900, 0.7770, 0.7945, 0.7882, 0.7969, 0.8066, 0.7787, 0.7932, 0.7980,\n",
       "         0.7722, 0.7806, 0.7975, 0.7852, 0.7848, 0.7908, 0.7760, 0.7476, 0.7788,\n",
       "         0.7599, 0.7741, 0.7630, 0.7908, 0.7737, 0.7620, 0.7607, 0.7658, 0.7426,\n",
       "         0.7614, 0.7819, 0.7699, 0.7628, 0.7514, 0.7761, 0.7532, 0.7489, 0.7513,\n",
       "         0.7519, 0.7515, 0.7465, 0.7610, 0.7552, 0.7553, 0.7483, 0.7423, 0.7488,\n",
       "         0.7242, 0.7379, 0.7493, 0.7360, 0.7326, 0.7385, 0.7356, 0.7289, 0.7338,\n",
       "         0.7305, 0.7324, 0.7284, 0.7374, 0.7248, 0.7291, 0.7268, 0.7284, 0.7211,\n",
       "         0.7267, 0.7197, 0.7220, 0.7157, 0.7185, 0.7215, 0.7193, 0.7171, 0.7192,\n",
       "         0.7203, 0.7193, 0.7174, 0.7162, 0.7172, 0.7168, 0.7172, 0.7173, 0.7172,\n",
       "         0.7174]),\n",
       " 'Test Accuracy': tensor([0.4637, 0.5072, 0.5396, 0.5515, 0.5789, 0.5615, 0.5822, 0.6014, 0.5990,\n",
       "         0.6281, 0.6196, 0.6356, 0.6455, 0.6305, 0.6424, 0.5701, 0.6666, 0.6276,\n",
       "         0.6961, 0.6929, 0.6876, 0.6535, 0.5906, 0.5931, 0.6906, 0.6497, 0.6396,\n",
       "         0.6825, 0.6501, 0.6668, 0.6774, 0.6678, 0.6834, 0.6809, 0.7009, 0.6890,\n",
       "         0.7211, 0.6940, 0.7286, 0.6500, 0.7119, 0.6736, 0.7014, 0.7107, 0.7454,\n",
       "         0.6863, 0.6840, 0.7278, 0.7187, 0.7206, 0.7247, 0.7529, 0.7395, 0.7276,\n",
       "         0.7345, 0.7285, 0.7372, 0.7414, 0.7331, 0.6991, 0.7535, 0.7616, 0.7317,\n",
       "         0.7628, 0.7464, 0.7517, 0.7719, 0.7713, 0.7486, 0.7529, 0.7595, 0.7526,\n",
       "         0.7707, 0.7590, 0.7698, 0.7748, 0.7771, 0.7715, 0.7675, 0.7727, 0.7782,\n",
       "         0.7742, 0.7808, 0.7777, 0.7793, 0.7773, 0.7840, 0.7822, 0.7803, 0.7845,\n",
       "         0.7811, 0.7830, 0.7843, 0.7845, 0.7838, 0.7847, 0.7826, 0.7832, 0.7842,\n",
       "         0.7840])}"
      ]
     },
     "execution_count": 126,
     "metadata": {},
     "output_type": "execute_result"
    }
   ],
   "source": []
  },
  {
   "cell_type": "code",
   "execution_count": null,
   "id": "22846df6",
   "metadata": {},
   "outputs": [],
   "source": []
  }
 ],
 "metadata": {
  "kernelspec": {
   "display_name": "Python (rl_env)",
   "language": "python",
   "name": "rl_env"
  },
  "language_info": {
   "codemirror_mode": {
    "name": "ipython",
    "version": 3
   },
   "file_extension": ".py",
   "mimetype": "text/x-python",
   "name": "python",
   "nbconvert_exporter": "python",
   "pygments_lexer": "ipython3",
   "version": "3.11.9"
  }
 },
 "nbformat": 4,
 "nbformat_minor": 5
}
