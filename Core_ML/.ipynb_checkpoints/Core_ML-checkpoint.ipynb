{
 "cells": [
  {
   "cell_type": "markdown",
   "id": "26db4bc7-d91f-4b89-92fb-989cbcbef833",
   "metadata": {},
   "source": [
    "- [x] Noisy Dataset\n",
    "- [x] Normalized Cross Entropy Loss\n",
    "- [x] Normalized Focal Loss\n",
    "- [ ] Focal Loss\n",
    "- [ ] Normalized Mean Absolute Error Loss\n",
    "- [ ] Normalized Reversed Cross Entropy Loss\n",
    "- [ ] Reversed Cross Entropy Loss\n",
    "- [x] Loggers\n",
    "- [x] Comprehensive Model & Metric Storage\n",
    "- [ ] Model & Metric Retrieval\n",
    "- [ ] APL Framework"
   ]
  },
  {
   "cell_type": "markdown",
   "id": "078a4c59-ec13-43e1-8f4e-a0f470b9770b",
   "metadata": {},
   "source": [
    "## Import Block"
   ]
  },
  {
   "cell_type": "code",
   "execution_count": 1,
   "id": "3e8a38fc-2aca-4116-9e4a-1572d7b04516",
   "metadata": {},
   "outputs": [
    {
     "data": {
      "text/plain": [
       "\"DEVICE='cuda', torch.__version__='2.5.1+cu118'\""
      ]
     },
     "execution_count": 1,
     "metadata": {},
     "output_type": "execute_result"
    }
   ],
   "source": [
    "import torch\n",
    "from torch import nn\n",
    "import torch.nn.functional as F\n",
    "from torch.utils.data import DataLoader, Dataset\n",
    "from torchvision import datasets, transforms\n",
    "from torchvision.datasets import CIFAR10\n",
    "\n",
    "\n",
    "import random\n",
    "import numpy as np\n",
    "import matplotlib.pyplot as plt\n",
    "\n",
    "import os\n",
    "import sys\n",
    "sys.path.append(os.path.dirname(os.getcwd()))\n",
    "from LogTracker import IntegerTracker\n",
    "\n",
    "import copy\n",
    "import math\n",
    "import time \n",
    "\n",
    "DEVICE = 'cuda' if torch.cuda.is_available() else 'cpu'\n",
    "torch.manual_seed(24)\n",
    "LOWER, UPPER = 0.2, 0.8\n",
    "LOSS_TYPES = ['NCE', 'NFL', 'FL', 'NMAEL', 'NRCEL', 'RCEL', 'APL']\n",
    "f\"{DEVICE=}, {torch.__version__=}\""
   ]
  },
  {
   "cell_type": "markdown",
   "id": "15a94a4b-9d36-49ae-9627-1fb672f4bcfb",
   "metadata": {},
   "source": [
    "___\n",
    "# **Architecture:**\n",
    "---"
   ]
  },
  {
   "cell_type": "markdown",
   "id": "c335cff0-92c4-42e1-a952-1ed67a714370",
   "metadata": {},
   "source": [
    "## Transforms"
   ]
  },
  {
   "cell_type": "code",
   "execution_count": 6,
   "id": "649af436-0e44-4947-8d7e-faa84a76eeaf",
   "metadata": {},
   "outputs": [],
   "source": [
    "transform_v1 = transforms.Compose([ ### VER 1\n",
    "    transforms.ToTensor(),\n",
    "    transforms.Normalize((0.5, 0.5, 0.5), (0.5, 0.5, 0.5))\n",
    "])\n",
    "transform_v2 = transforms.Compose([ ###VER 2\n",
    "    transforms.RandomCrop(32, padding=4),  # Randomly crop with padding\n",
    "    transforms.RandomHorizontalFlip(p=0.5),  # Flip images with 50% probability\n",
    "    transforms.ColorJitter(brightness=0.2, contrast=0.2, saturation=0.2, hue=0.1),  # Color Augmentation\n",
    "    transforms.RandomRotation(15),  # Rotate by ±15 degrees\n",
    "    transforms.RandomAffine(degrees=0, translate=(0.1, 0.1)),  # Random shifting\n",
    "    transforms.ToTensor(),\n",
    "    transforms.Normalize((0.5, 0.5, 0.5), (0.5, 0.5, 0.5)),\n",
    "    transforms.RandomErasing(p=0.2)  # Randomly erase parts of the image\n",
    "])\n",
    "\n",
    "transform = transforms.Compose([ ###VER 3\n",
    "    transforms.RandomHorizontalFlip(p=0.5),  # 50% chance of mirroring\n",
    "    transforms.RandomRotation(10),  # Rotate by ±10 degrees\n",
    "    transforms.RandomCrop(32, padding=4),\n",
    "    transforms.ToTensor(),\n",
    "    transforms.Normalize((0.5, 0.5, 0.5), (0.5, 0.5, 0.5))\n",
    "])"
   ]
  },
  {
   "cell_type": "code",
   "execution_count": 7,
   "id": "5a97059f-14b6-431e-bdc7-aedded602841",
   "metadata": {},
   "outputs": [],
   "source": [
    "# img, lab = train_dataset[1]\n",
    "# img= img.numpy().transpose((1, 2, 0))\n",
    "# plt.imshow(img)\n",
    "# plt.title(lab)\n",
    "# img.shape"
   ]
  },
  {
   "cell_type": "code",
   "execution_count": 8,
   "id": "11e1a60c-60d0-49ce-8e00-eedd27194393",
   "metadata": {
    "scrolled": true
   },
   "outputs": [],
   "source": [
    "# def NoiseLabels(dataset : CIFAR10, lower=LOWER, upper=UPPER, noise_rate=None):\n",
    "#     if noise_rate == None:\n",
    "#         noise_rate = random.uniform(lower, upper)\n",
    "    \n",
    "#     targets = np.array(dataset.targets)\n",
    "#     n_samples = len(targets)\n",
    "    \n",
    "#     noise_bools = np.random.rand(n_samples) < noise_rate\n",
    "#     true_vals = np.sum(noise_bools)\n",
    "\n",
    "#     #\n",
    "#     print(f\"Mask Info...\\n\\tExpected Noise Rate: {noise_rate:.3f} | Actual Noise Rate: {true_vals/len(noise_bools) : .3f} | Samples : {(len(noise_bools))}\")\n",
    "\n",
    "#     for i in range(len(noise_bools)):\n",
    "#         if not noise_bools[i]:\n",
    "#             continue\n",
    "\n",
    "#         original_label = targets[i]\n",
    "\n",
    "#         def RandomLabel():\n",
    "#             random_label = np.random.choice(targets)\n",
    "#             return random_label if random_label != original_label else RandomLabel()\n",
    "#         new_label = RandomLabel()\n",
    "#         targets[i] = new_label\n",
    "#     dataset.targets = targets.tolist()\n",
    "#     return dataset\n"
   ]
  },
  {
   "cell_type": "markdown",
   "id": "7aecc64b-d0f9-46a6-8b70-28010e0ae7f2",
   "metadata": {},
   "source": [
    "## Noisy Dataset - Inherited Class"
   ]
  },
  {
   "cell_type": "code",
   "execution_count": 10,
   "id": "23d90bba-276c-48fd-b638-edb3ee3ce4cc",
   "metadata": {
    "scrolled": true
   },
   "outputs": [],
   "source": [
    "class NoisyDataset(CIFAR10):\n",
    "    def __init__(self, root='data', transform=None, train=True, download=True, lower=LOWER, upper=UPPER, noise_rate=None):\n",
    "            \n",
    "        super().__init__(root=root, train=train, transform=transform, download=download)\n",
    "        self.noise_rate = 0.2 + (0.8 - 0.2) * torch.rand(1).item() if noise_rate == None else noise_rate\n",
    "        # print(f\"Randomly chosen noise rate: {self.noise_rate}\")\n",
    "        # self.classes = len(self.classes)\n",
    "        self.__Corrupt()\n",
    "\n",
    "    def __Corrupt(self):\n",
    "        targets = torch.tensor(self.targets)\n",
    "        n_samples = targets.size(0)\n",
    "        noise_bools = torch.rand(n_samples) < self.noise_rate\n",
    "        \n",
    "        true_vals = noise_bools.sum().item()\n",
    "        print(f\"Mask Info...\\n\\tExpected Noise Rate: {self.noise_rate:.3f} | Actual Noise Rate: {true_vals/len(noise_bools) : .3f} | True/False : {true_vals/(len(noise_bools) - true_vals) :.3f}\")\n",
    "        \n",
    "        for i in range(len(noise_bools)):\n",
    "            if not noise_bools[i]:\n",
    "                continue\n",
    "                \n",
    "            original_label = targets[i]\n",
    "            new_label = self.__ChooseRandomLabel(original_label, targets)\n",
    "            targets[i] = new_label\n",
    "            \n",
    "        self.targets = targets.tolist()\n",
    "\n",
    "    @staticmethod\n",
    "    def __ChooseRandomLabel(original_label, targets):\n",
    "        possible_labels = list(range(num_classes))\n",
    "        possible_labels.remove(original_label)\n",
    "        new_label = possible_labels[torch.randint(0, len(possible_labels), (1,)).item()]\n",
    "        return new_label\n"
   ]
  },
  {
   "cell_type": "markdown",
   "id": "7879f311-af04-4044-a955-e109df2a401b",
   "metadata": {},
   "source": [
    "## Normalized Cross Entropy - V1"
   ]
  },
  {
   "cell_type": "code",
   "execution_count": 12,
   "id": "064b0cd3-8d29-4be9-8c75-aab3f3d4a955",
   "metadata": {},
   "outputs": [],
   "source": [
    "class NormalizedCrossEntropyLoss(nn.Module):\n",
    "    def __init__(self, reduction='mean'):\n",
    "        super(NormalizedCrossEntropyLoss, self).__init__()\n",
    "        self.reduction = reduction\n",
    "        self.cross_entropy = nn.CrossEntropyLoss(reduction='none')\n",
    "\n",
    "    def forward(self, logits, targets):\n",
    "        # Compute standard cross-entropy loss\n",
    "        ce_loss = self.cross_entropy(logits, targets)\n",
    "        \n",
    "        # Compute the entropy of the target distribution\n",
    "        target_probs = torch.softmax(logits, dim=-1)\n",
    "        entropy = -torch.sum(target_probs * torch.log(target_probs + 1e-12), dim=-1)\n",
    "\n",
    "        # Normalize the cross-entropy loss by entropy\n",
    "        normalized_loss = ce_loss / (entropy + 1e-12)\n",
    "\n",
    "        if self.reduction == 'mean':\n",
    "            return normalized_loss.mean()\n",
    "        elif self.reduction == 'sum':\n",
    "            return normalized_loss.sum()\n",
    "        else:\n",
    "            return normalized_loss"
   ]
  },
  {
   "cell_type": "markdown",
   "id": "5be9bd0a-3944-4076-a732-53c321bfae5e",
   "metadata": {},
   "source": [
    "## Normalized Cross Entropy - V2 REVISED"
   ]
  },
  {
   "cell_type": "code",
   "execution_count": 14,
   "id": "f981cddd-838e-4cd9-b440-822fcd85b305",
   "metadata": {},
   "outputs": [],
   "source": [
    "class NormalizedCrossEntropyLoss(nn.Module):\n",
    "    def __init__(self, reduction='mean'):\n",
    "        super(NormalizedCrossEntropyLoss, self).__init__()\n",
    "        self.reduction = reduction\n",
    "        self.cross_entropy = nn.CrossEntropyLoss(reduction='none')\n",
    "\n",
    "    def forward(self, logits, targets):\n",
    "        # Compute standard cross-entropy loss\n",
    "        ce_loss = self.cross_entropy(logits, targets)\n",
    "        \n",
    "        # Compute the entropy of the target distribution\n",
    "        target_probs = torch.softmax(logits, dim=-1)\n",
    "        entropy = -torch.sum(target_probs * torch.log(target_probs + 1e-12), dim=-1)\n",
    "\n",
    "        # Normalize the cross-entropy loss by entropy\n",
    "        normalized_loss = ce_loss / (entropy + 1e-12)\n",
    "\n",
    "        # Apply reduction\n",
    "        if self.reduction == 'mean':\n",
    "            return normalized_loss.mean()  # Scalar\n",
    "        elif self.reduction == 'sum':\n",
    "            return normalized_loss.sum()  # Scalar\n",
    "        else:\n",
    "            return normalized_loss  # No reduction, returns a tensor\n"
   ]
  },
  {
   "cell_type": "markdown",
   "id": "3c34b620-5766-4a01-aa02-f2b707d62983",
   "metadata": {},
   "source": [
    "## Normalized Focal Loss"
   ]
  },
  {
   "cell_type": "code",
   "execution_count": 16,
   "id": "90d5c39f-9789-40f5-9f66-92696331a663",
   "metadata": {},
   "outputs": [],
   "source": [
    "class NormalizedFocalLoss(nn.Module):\n",
    "    def __init__(self, gamma=2.0, alpha=None, reduction='mean', epsilon=1e-12):\n",
    "        \"\"\"\n",
    "        Normalized Focal Loss with entropy-based normalization.\n",
    "\n",
    "        :param gamma: Focusing parameter γ (default=2.0)\n",
    "        :param alpha: Class weighting (default=None, no weighting)\n",
    "        :param reduction: 'mean', 'sum', or 'none' (default='mean')\n",
    "        :param epsilon: Small value to avoid log(0) (default=1e-12)\n",
    "        \"\"\"\n",
    "        super(NormalizedFocalLoss, self).__init__()\n",
    "        self.gamma = gamma\n",
    "        self.alpha = alpha\n",
    "        self.reduction = reduction\n",
    "        self.epsilon = epsilon\n",
    "\n",
    "    def forward(self, logits, targets):\n",
    "        \"\"\"\n",
    "        Compute Normalized Focal Loss.\n",
    "\n",
    "        :param logits: Model outputs (raw scores before softmax) [batch_size, num_classes]\n",
    "        :param targets: Ground truth labels [batch_size]\n",
    "        :return: Normalized focal loss\n",
    "        \"\"\"\n",
    "        # Convert logits to probabilities\n",
    "        probs = F.softmax(logits, dim=-1)\n",
    "        log_probs = F.log_softmax(logits, dim=-1)\n",
    "\n",
    "        # Select only the probabilities for the correct class\n",
    "        targets_one_hot = F.one_hot(targets, num_classes=logits.shape[-1])\n",
    "        pt = (probs * targets_one_hot).sum(dim=-1)  # p_t\n",
    "\n",
    "        # Compute standard Focal Loss term\n",
    "        focal_term = (1 - pt).pow(self.gamma)\n",
    "        loss = -focal_term * log_probs.gather(dim=-1, index=targets.unsqueeze(-1)).squeeze(-1)\n",
    "\n",
    "        # Apply class weighting (optional)\n",
    "        if self.alpha is not None:\n",
    "            alpha_t = self.alpha[targets]  # Select alpha per target class\n",
    "            loss *= alpha_t\n",
    "\n",
    "        # Compute entropy for normalization\n",
    "        entropy = -torch.sum(probs * log_probs, dim=-1)\n",
    "        loss /= (entropy + self.epsilon)  # Normalize loss by entropy\n",
    "\n",
    "        # Apply reduction\n",
    "        if self.reduction == 'mean':\n",
    "            return loss.mean()\n",
    "        elif self.reduction == 'sum':\n",
    "            return loss.sum()\n",
    "        else:\n",
    "            return loss  # 'none' mode"
   ]
  },
  {
   "cell_type": "markdown",
   "id": "11e48c16-0933-427a-88ab-b7fbe79f72b0",
   "metadata": {},
   "source": [
    "## Focal Loss"
   ]
  },
  {
   "cell_type": "code",
   "execution_count": 18,
   "id": "2584c943-ee3d-4e7a-9837-3899452e11ad",
   "metadata": {},
   "outputs": [],
   "source": [
    "class FocalLoss(nn.Module):\n",
    "    def __init__(self, gamma=2.0, alpha=None, reduction='mean'):\n",
    "        super(FocalLoss, self).__init__()\n",
    "        self.gamma = gamma\n",
    "        self.alpha = alpha\n",
    "        self.reduction = reduction\n",
    "\n",
    "    def forward(self, logits, targets):\n",
    "        # Convert logits to log probabilities\n",
    "        log_probs = F.log_softmax(logits, dim=-1)\n",
    "        probs = torch.exp(log_probs)  # Get probabilities\n",
    "\n",
    "        # Get one-hot encoding of targets\n",
    "        targets_one_hot = F.one_hot(targets, num_classes=logits.shape[-1])\n",
    "\n",
    "        # Extract p_t (probability of the true class)\n",
    "        pt = (probs * targets_one_hot).sum(dim=-1)\n",
    "\n",
    "        # Compute standard Focal Loss term\n",
    "        focal_term = (1 - pt).pow(self.gamma)\n",
    "        loss = -focal_term * log_probs.gather(dim=-1, index=targets.unsqueeze(-1)).squeeze(-1)\n",
    "\n",
    "        # Apply class weighting if provided\n",
    "        if self.alpha is not None:\n",
    "            alpha_t = self.alpha[targets]  # Select alpha per target class\n",
    "            loss *= alpha_t\n",
    "\n",
    "        # Apply reduction\n",
    "        if self.reduction == 'mean':\n",
    "            return loss.mean()\n",
    "        elif self.reduction == 'sum':\n",
    "            return loss.sum()\n",
    "        else:\n",
    "            return loss  # 'none' mode"
   ]
  },
  {
   "cell_type": "markdown",
   "id": "847b029e-3f03-4f5e-8793-496e5e19490c",
   "metadata": {},
   "source": [
    "## Normalized MAE Loss"
   ]
  },
  {
   "cell_type": "code",
   "execution_count": 20,
   "id": "78c269a2-235a-42c6-bed4-74b5dacc6820",
   "metadata": {},
   "outputs": [],
   "source": [
    "class NormalizedMAE(nn.Module):\n",
    "    def __init__(self, reduction='mean', epsilon=1e-12):\n",
    "        super(NormalizedMAE, self).__init__()\n",
    "        self.reduction = reduction\n",
    "        self.epsilon = epsilon\n",
    "        self.mae_loss = nn.L1Loss(reduction='none')  # Keep 'none' for per-sample loss\n",
    "\n",
    "    def forward(self, logits, targets):\n",
    "        # Convert logits to probabilities\n",
    "        probs = F.softmax(logits, dim=-1)\n",
    "\n",
    "        # Get one-hot encoding of targets\n",
    "        targets_one_hot = F.one_hot(targets, num_classes=logits.shape[-1]).float()\n",
    "\n",
    "        # Compute standard MAE loss\n",
    "        mae = self.mae_loss(probs, targets_one_hot).sum(dim=-1)\n",
    "\n",
    "        # Compute entropy of the predicted distribution\n",
    "        entropy = -torch.sum(probs * torch.log(probs + self.epsilon), dim=-1)\n",
    "\n",
    "        # Normalize MAE by entropy\n",
    "        normalized_mae = mae / (entropy + self.epsilon)\n",
    "\n",
    "        # Apply reduction\n",
    "        if self.reduction == 'mean':\n",
    "            return normalized_mae.mean()\n",
    "        elif self.reduction == 'sum':\n",
    "            return normalized_mae.sum()\n",
    "        else:\n",
    "            return normalized_mae  # 'none' mode"
   ]
  },
  {
   "cell_type": "markdown",
   "id": "6f3eae09-d825-49c7-83be-5c2322234bfb",
   "metadata": {},
   "source": [
    "## Normalized Reversed Cross Entropy Loss"
   ]
  },
  {
   "cell_type": "code",
   "execution_count": 22,
   "id": "78a925e8-d1ae-488f-b09d-fa79cdadd173",
   "metadata": {},
   "outputs": [],
   "source": [
    "class NormalizedReversedCrossEntropyLoss(nn.Module):\n",
    "    def __init__(self, reduction='mean', epsilon=1e-12):\n",
    "        super(NormalizedReversedCrossEntropyLoss, self).__init__()\n",
    "        self.reduction = reduction\n",
    "        self.epsilon = epsilon\n",
    "\n",
    "    def forward(self, logits, targets):\n",
    "        # Convert logits to probabilities\n",
    "        probs = F.softmax(logits, dim=-1)\n",
    "\n",
    "        # Get one-hot encoding of targets\n",
    "        targets_one_hot = F.one_hot(targets, num_classes=logits.shape[-1]).float()\n",
    "\n",
    "        # Compute reversed cross entropy term\n",
    "        rce_loss = -torch.sum(targets_one_hot * torch.log(probs + self.epsilon), dim=-1)\n",
    "\n",
    "        # Compute entropy for normalization\n",
    "        entropy = -torch.sum(probs * torch.log(probs + self.epsilon), dim=-1)\n",
    "\n",
    "        # Normalize loss by entropy\n",
    "        normalized_loss = rce_loss / (entropy + self.epsilon)\n",
    "\n",
    "        # Apply reduction\n",
    "        if self.reduction == 'mean':\n",
    "            return normalized_loss.mean()\n",
    "        elif self.reduction == 'sum':\n",
    "            return normalized_loss.sum()\n",
    "        else:\n",
    "            return normalized_loss"
   ]
  },
  {
   "cell_type": "markdown",
   "id": "abed42eb-4ad4-49dc-a7b9-4b38812e6570",
   "metadata": {},
   "source": [
    "## Reversed Cross Entropy Loss"
   ]
  },
  {
   "cell_type": "code",
   "execution_count": 24,
   "id": "78555ffa-eb46-4df5-9fc2-4cc9825540ae",
   "metadata": {},
   "outputs": [],
   "source": [
    "class ReversedCrossEntropyLoss(nn.Module):\n",
    "    def __init__(self, reduction='mean', epsilon=1e-12):\n",
    "        super(ReversedCrossEntropyLoss, self).__init__()\n",
    "        self.reduction = reduction\n",
    "        self.epsilon = epsilon\n",
    "\n",
    "    def forward(self, logits, targets):\n",
    "        # Convert logits to probabilities\n",
    "        probs = F.softmax(logits, dim=-1)\n",
    "\n",
    "        # Get one-hot encoding of targets\n",
    "        targets_one_hot = F.one_hot(targets, num_classes=logits.shape[-1]).float()\n",
    "\n",
    "        # Compute the reversed cross entropy term\n",
    "        rce_loss = -torch.sum(targets_one_hot * torch.log(probs + self.epsilon), dim=-1)\n",
    "\n",
    "        # Apply reduction\n",
    "        if self.reduction == 'mean':\n",
    "            return rce_loss.mean()\n",
    "        elif self.reduction == 'sum':\n",
    "            return rce_loss.sum()\n",
    "        else:\n",
    "            return rce_loss  # 'none' mode"
   ]
  },
  {
   "cell_type": "code",
   "execution_count": 25,
   "id": "a3732a04-67cd-4f69-9b80-79eefba0ac1e",
   "metadata": {
    "scrolled": true
   },
   "outputs": [],
   "source": [
    "def show_images_with_labels(data_loader, class_names, num_images=16):\n",
    "    images, labels = next(iter(data_loader))\n",
    "    \n",
    "    grid_size = int(np.sqrt(num_images))\n",
    "    assert grid_size ** 2 == num_images, \"num_images must be a perfect square.\"\n",
    "    \n",
    "    images = images.permute(0, 2, 3, 1).numpy()  # Convert to (batch_size, height, width, channels)\n",
    "    images = (images * 0.5) + 0.5  # Assuming images were normalized to [-1, 1]\n",
    "    \n",
    "    # Create a grid of subplots\n",
    "    fig, axes = plt.subplots(grid_size, grid_size, figsize=(8, 8))\n",
    "    fig.suptitle(\"Images and Labels\", fontsize=16)\n",
    "    \n",
    "    for i, ax in enumerate(axes.flatten()):\n",
    "        if i >= num_images:\n",
    "            break\n",
    "        ax.imshow(images[i])\n",
    "        ax.axis(\"off\") \n",
    "        ax.set_title(class_names[labels[i].item()], fontsize=10, color=\"black\")\n",
    "    \n",
    "    plt.tight_layout()\n",
    "    plt.show()\n",
    "\n",
    "\n",
    "# show_images_with_labels(train_data_loader, classes, num_images=16)"
   ]
  },
  {
   "cell_type": "markdown",
   "id": "2312a65b-e38e-47c0-9a5a-9f63692481be",
   "metadata": {},
   "source": [
    "## Model - V1"
   ]
  },
  {
   "cell_type": "code",
   "execution_count": 27,
   "id": "60663117-c0db-4c15-b4c8-1481fdff4f4e",
   "metadata": {},
   "outputs": [],
   "source": [
    "\n",
    "class CNN_V1(nn.Module):\n",
    "    def __init__(self, input_shape, output_shape, hidden_units=128):\n",
    "        super().__init__()\n",
    "        self.block1 = nn.Sequential(\n",
    "            nn.Conv2d(in_channels=input_shape, out_channels=hidden_units, kernel_size=3, stride=1, padding=1),\n",
    "            nn.ReLU(),\n",
    "            nn.Conv2d(in_channels=hidden_units, out_channels=hidden_units, kernel_size=3, stride=1, padding=1),\n",
    "            nn.ReLU(),\n",
    "            nn.MaxPool2d(kernel_size=2, stride=2)  # Reduces 32x32 -> 16x16\n",
    "        )\n",
    "        self.block2 = nn.Sequential(\n",
    "            nn.Conv2d(in_channels=hidden_units, out_channels=hidden_units * 2, kernel_size=3, stride=1, padding=1),\n",
    "            nn.ReLU(),\n",
    "            nn.Conv2d(in_channels=hidden_units * 2, out_channels=hidden_units * 2, kernel_size=3, stride=1, padding=1),\n",
    "            nn.ReLU(),\n",
    "            nn.MaxPool2d(kernel_size=2, stride=2)  # Reduces 16x16 -> 8x8\n",
    "        )\n",
    "        self.block3 = nn.Sequential(\n",
    "            nn.Conv2d(in_channels=hidden_units * 2, out_channels=hidden_units * 4, kernel_size=3, stride=1, padding=1),\n",
    "            nn.ReLU(),\n",
    "            nn.Conv2d(in_channels=hidden_units * 4, out_channels=hidden_units * 4, kernel_size=3, stride=1, padding=1),\n",
    "            nn.ReLU(),\n",
    "            nn.MaxPool2d(kernel_size=2, stride=2)  # Reduces 8x8 -> 4x4\n",
    "        )\n",
    "        self.classifier = nn.Sequential(\n",
    "            nn.Flatten(),\n",
    "            nn.Linear(in_features=hidden_units * 4 * 4 * 4, out_features=256),  # Flattened size: 4x4x(hidden_units * 4)\n",
    "            nn.ReLU(),\n",
    "            nn.Dropout(0.5),\n",
    "            nn.Linear(in_features=256, out_features=output_shape)  # Output size: number of classes\n",
    "        )\n",
    "\n",
    "    def forward(self, x, print_dims=False):\n",
    "        y_b1 = self.block1(x)\n",
    "        y_b2 = self.block2(y_b1)\n",
    "        y_b3 = self.block3(y_b2)\n",
    "        y = self.classifier(y_b3)\n",
    "        if print_dims:\n",
    "            print(f\"{y_b1.shape=}\")\n",
    "            print(f\"{y_b2.shape=}\")\n",
    "            print(f\"{y_b3.shape=}\")\n",
    "            print(f\"{y.shape=}\")\n",
    "        return y"
   ]
  },
  {
   "cell_type": "markdown",
   "id": "f796ab6b-d0e1-4e5d-8f72-1b63cec9809b",
   "metadata": {},
   "source": [
    "## Model - V2"
   ]
  },
  {
   "cell_type": "code",
   "execution_count": 29,
   "id": "a7eeb3f1-2c52-4caf-8953-15ecb8a42d91",
   "metadata": {},
   "outputs": [],
   "source": [
    "class CNN_V2(nn.Module):\n",
    "    def __init__(self, num_classes=10):\n",
    "        super(CNN_V2, self).__init__()\n",
    "        \n",
    "        self.conv_layers = nn.Sequential(\n",
    "            nn.Conv2d(3, 32, kernel_size=3, padding=1),\n",
    "            nn.BatchNorm2d(32),\n",
    "            nn.ReLU(),\n",
    "            nn.Conv2d(32, 32, kernel_size=3, padding=1),\n",
    "            nn.BatchNorm2d(32),\n",
    "            nn.ReLU(),\n",
    "            nn.MaxPool2d(2, 2),  # 32x32 -> 16x16\n",
    "\n",
    "            nn.Conv2d(32, 64, kernel_size=3, padding=1),\n",
    "            nn.BatchNorm2d(64),\n",
    "            nn.ReLU(),\n",
    "            nn.Conv2d(64, 64, kernel_size=3, padding=1),\n",
    "            nn.BatchNorm2d(64),\n",
    "            nn.ReLU(),\n",
    "            nn.MaxPool2d(2, 2),  # 16x16 -> 8x8\n",
    "\n",
    "            nn.Conv2d(64, 128, kernel_size=3, padding=1),\n",
    "            nn.BatchNorm2d(128),\n",
    "            nn.ReLU(),\n",
    "            nn.Conv2d(128, 128, kernel_size=3, padding=1),\n",
    "            nn.BatchNorm2d(128),\n",
    "            nn.ReLU(),\n",
    "            nn.MaxPool2d(2, 2)  # 8x8 -> 4x4\n",
    "        )\n",
    "\n",
    "        self.fc_layers = nn.Sequential(\n",
    "            nn.Flatten(),\n",
    "            nn.Linear(128 * 4 * 4, 256),\n",
    "            nn.ReLU(),\n",
    "            nn.Dropout(0.5),\n",
    "            nn.Linear(256, num_classes)\n",
    "        )\n",
    "\n",
    "    def forward(self, x):\n",
    "        x = self.conv_layers(x)\n",
    "        x = self.fc_layers(x)\n",
    "        return x"
   ]
  },
  {
   "cell_type": "markdown",
   "id": "a5fe2101-d673-4be8-811b-61938110ba4d",
   "metadata": {},
   "source": [
    "## Model - V3"
   ]
  },
  {
   "cell_type": "code",
   "execution_count": 31,
   "id": "cedae6ed-a439-47bd-9e5c-be97ae28c761",
   "metadata": {},
   "outputs": [],
   "source": [
    "class CNN_V3(nn.Module):\n",
    "    def __init__(self, num_classes=10):\n",
    "        super(CNN_V3, self).__init__()\n",
    "        \n",
    "        self.conv_layers = nn.Sequential(\n",
    "            nn.Conv2d(3, 32, kernel_size=3, padding=1),\n",
    "            nn.LayerNorm([32, 32, 32]),  # LayerNorm instead of BatchNorm\n",
    "            nn.ReLU(),\n",
    "            nn.Conv2d(32, 32, kernel_size=3, padding=1),\n",
    "            nn.LayerNorm([32, 32, 32]),\n",
    "            nn.ReLU(),\n",
    "            nn.MaxPool2d(2, 2),  # 32x32 -> 16x16\n",
    "\n",
    "            nn.Conv2d(32, 64, kernel_size=3, padding=1),\n",
    "            nn.LayerNorm([64, 16, 16]),\n",
    "            nn.ReLU(),\n",
    "            nn.Conv2d(64, 64, kernel_size=3, padding=1),\n",
    "            nn.LayerNorm([64, 16, 16]),\n",
    "            nn.ReLU(),\n",
    "            nn.MaxPool2d(2, 2),  # 16x16 -> 8x8\n",
    "\n",
    "            nn.Conv2d(64, 128, kernel_size=3, padding=1),\n",
    "            nn.LayerNorm([128, 8, 8]),\n",
    "            nn.ReLU(),\n",
    "            nn.Conv2d(128, 128, kernel_size=3, padding=1),\n",
    "            nn.LayerNorm([128, 8, 8]),\n",
    "            nn.ReLU(),\n",
    "            nn.MaxPool2d(2, 2)  # 8x8 -> 4x4\n",
    "        )\n",
    "\n",
    "        self.fc_layers = nn.Sequential(\n",
    "            nn.Flatten(),\n",
    "            nn.Linear(128 * 4 * 4, 256),\n",
    "            nn.ReLU(),\n",
    "            nn.Dropout(0.5),\n",
    "            nn.Linear(256, num_classes)\n",
    "        )\n",
    "\n",
    "    def forward(self, x):\n",
    "        x = self.conv_layers(x)\n",
    "        x = self.fc_layers(x)\n",
    "        return x\n"
   ]
  },
  {
   "cell_type": "markdown",
   "id": "39433ebf-55a0-4b67-9163-7af5df174ec8",
   "metadata": {},
   "source": [
    "## Model - V4"
   ]
  },
  {
   "cell_type": "code",
   "execution_count": 33,
   "id": "a5b3fa98-a09f-4566-99d9-f76b2c5ece9f",
   "metadata": {},
   "outputs": [],
   "source": [
    "class CNN_V4(nn.Module):\n",
    "    def __init__(self, num_classes=10):\n",
    "        super(CNN_V4, self).__init__()\n",
    "        \n",
    "        self.conv_layers = nn.Sequential(\n",
    "            nn.Conv2d(3, 32, kernel_size=3, padding=1),\n",
    "            nn.GroupNorm(num_groups=8, num_channels=32),  # GroupNorm instead of LayerNorm\n",
    "            nn.ReLU(),\n",
    "            nn.Conv2d(32, 32, kernel_size=3, padding=1),\n",
    "            nn.GroupNorm(num_groups=8, num_channels=32),\n",
    "            nn.ReLU(),\n",
    "            nn.MaxPool2d(2, 2),  # 32x32 -> 16x16\n",
    "\n",
    "            nn.Conv2d(32, 64, kernel_size=3, padding=1),\n",
    "            nn.GroupNorm(num_groups=8, num_channels=64),\n",
    "            nn.ReLU(),\n",
    "            nn.Conv2d(64, 64, kernel_size=3, padding=1),\n",
    "            nn.GroupNorm(num_groups=8, num_channels=64),\n",
    "            nn.ReLU(),\n",
    "            nn.MaxPool2d(2, 2),  # 16x16 -> 8x8\n",
    "\n",
    "            nn.Conv2d(64, 128, kernel_size=3, padding=1),\n",
    "            nn.GroupNorm(num_groups=8, num_channels=128),\n",
    "            nn.ReLU(),\n",
    "            nn.Conv2d(128, 128, kernel_size=3, padding=1),\n",
    "            nn.GroupNorm(num_groups=8, num_channels=128),\n",
    "            nn.ReLU(),\n",
    "            nn.MaxPool2d(2, 2)  # 8x8 -> 4x4\n",
    "        )\n",
    "\n",
    "        self.fc_layers = nn.Sequential(\n",
    "            nn.Flatten(),\n",
    "            nn.Linear(128 * 4 * 4, 256),\n",
    "            nn.ReLU(),\n",
    "            nn.Dropout(0.5),\n",
    "            nn.Linear(256, num_classes)\n",
    "        )\n",
    "\n",
    "    def forward(self, x):\n",
    "        x = self.conv_layers(x)\n",
    "        x = self.fc_layers(x)\n",
    "        return x\n"
   ]
  },
  {
   "cell_type": "markdown",
   "id": "3fcfaeab-b9be-4bde-ac62-ba29a5a98c75",
   "metadata": {},
   "source": [
    "## Model - V3"
   ]
  },
  {
   "cell_type": "markdown",
   "id": "37d3d9ae-ef05-4c09-bcb8-f269782ac744",
   "metadata": {},
   "source": [
    "### Termination flag checker, Logger, and Retriever for remote logger"
   ]
  },
  {
   "cell_type": "code",
   "execution_count": 5,
   "id": "52f0d73c-c21a-4dfa-ac00-aaa6999d1ff7",
   "metadata": {},
   "outputs": [],
   "source": [
    "def check_termination_flag(file_path=\"TFlag.txt\"):\n",
    "    try:\n",
    "        with open(file_path, 'r') as file:  # Open the file in read mode\n",
    "            content = file.read().strip()  # Read the content and remove any extra whitespace\n",
    "            if content == '0':\n",
    "                print(\"Received Termination Signal. Terminating...\")\n",
    "                return True  # Terminate the loop\n",
    "            elif content == '1':\n",
    "                return False  # Continue the loop\n",
    "            else:\n",
    "                print(f\"Unexpected content in file: {content}. Expected '0' or '1'. Terminating Process...\")\n",
    "                return True  # Continue the loop by default\n",
    "    except FileNotFoundError:\n",
    "        print(f\"File not found: {file_path}\")\n",
    "        return False  # Continue the loop if the file doesn't exist\n",
    "    except Exception as e:\n",
    "        print(f\"Error reading {e}. Terminating Process...\")\n",
    "        return True  # Continue the loop in case of other errors|\n",
    "def log(message, loss_type, version):\n",
    "    if loss_type not in LOSS_TYPES:\n",
    "        print(\"Invalid loss type! Terminating Logger...\")\n",
    "        \n",
    "    \n",
    "    path = f\"{loss_type}\\\\Logs\\\\Log_{version}.txt\"\n",
    "    with open(path, \"a\") as f:\n",
    "        f.write(f\"{time.strftime('%H:%M:%S')} - {message}\\n\")\n",
    "# def load_saved_data(PATH):\n",
    "#     \"\"\"\n",
    "#     Loads the saved model, optimizer, criterion, scheduler, and metrics from the specified PATH.\n",
    "\n",
    "#     :param PATH: Path to the saved file.\n",
    "#     \"\"\"\n",
    "#     loaded_data = 0\n",
    "#     try:\n",
    "#         # Load the saved data\n",
    "#         saved_data = torch.load(PATH)\n",
    "        \n",
    "#         # Extract the components\n",
    "#         model_state_dict = saved_data['model_state_dict']\n",
    "#         optimizer_state_dict = saved_data['optimizer_state_dict']\n",
    "#         criterion_state_dict = saved_data['criterion_state_dict']\n",
    "#         scheduler_state_dict = saved_data['scheduler_state_dict']\n",
    "#         metrics = saved_data['metrics']\n",
    "        \n",
    "#         print(\"Data loaded successfully from:\", PATH)\n",
    "#         loaded_data= {\n",
    "#             'model_state_dict': model_state_dict,\n",
    "#             'optimizer_state_dict': optimizer_state_dict,\n",
    "#             'criterion_state_dict': criterion_state_dict,\n",
    "#             'scheduler_state_dict': scheduler_state_dict,\n",
    "#             'metrics': metrics\n",
    "#         }\n",
    "#         # Use the loaded data\n",
    "#         model.load_state_dict(loaded_data['model_state_dict'])\n",
    "#         optimizer.load_state_dict(loaded_data['optimizer_state_dict'])\n",
    "#         criterion.load_state_dict(loaded_data['criterion_state_dict'])\n",
    "#         scheduler.load_state_dict(loaded_data['scheduler_state_dict'])\n",
    "#         metrics = loaded_data['metrics']\n",
    "#         print(\"Data parsed succcessfully from: \", PATH)\n",
    "#         return model, criterion, optimizer, scheduler, metrics\n",
    "\n",
    "    \n",
    "#     except Exception as e:\n",
    "#         print(f\"An error occurred while loading the data: {e}\")\n",
    "#         return None\n",
    "#     print(\"Unable to parse \", PATH)\n",
    "\n",
    "# import torch\n",
    "\n",
    "def load_saved_data(PATH, model, optimizer, criterion, scheduler):\n",
    "    \"\"\"\n",
    "    Loads the saved model, optimizer, criterion, scheduler, and metrics from the specified PATH.\n",
    "\n",
    "    :param PATH: Path to the saved file.\n",
    "    :param model: The model instance to load weights into.\n",
    "    :param optimizer: The optimizer instance to load state.\n",
    "    :param criterion: The loss function instance to load state.\n",
    "    :param scheduler: The learning rate scheduler instance to load state.\n",
    "    :return: Tuple (model, criterion, optimizer, scheduler, metrics) or None if loading fails.\n",
    "    \"\"\"\n",
    "    try:\n",
    "        # Load the saved data\n",
    "        saved_data = torch.load(PATH)\n",
    "        \n",
    "        # Extract the components\n",
    "        model.load_state_dict(saved_data['model_state_dict'])\n",
    "        optimizer.load_state_dict(saved_data['optimizer_state_dict'])\n",
    "        criterion_state_dict = saved_data['criterion_state_dict']\n",
    "        scheduler.load_state_dict(saved_data['scheduler_state_dict'])\n",
    "        metrics = saved_data['metrics']\n",
    "        \n",
    "        print(\"Data loaded successfully from:\", PATH)\n",
    "\n",
    "        # If criterion has state_dict, load it\n",
    "        if hasattr(criterion, 'load_state_dict'):\n",
    "            criterion.load_state_dict(criterion_state_dict)\n",
    "\n",
    "        return model, criterion, optimizer, scheduler, metrics\n",
    "    \n",
    "    except Exception as e:\n",
    "        print(f\"An error occurred while loading the data: {e}\")\n",
    "        return None\n"
   ]
  },
  {
   "cell_type": "markdown",
   "id": "eb8b2e9f-ed33-4203-9bbc-50669c0a3d0d",
   "metadata": {},
   "source": [
    "## Test Accuracy "
   ]
  },
  {
   "cell_type": "code",
   "execution_count": 38,
   "id": "3cf50221-84ab-45a7-864c-c42fa09491bf",
   "metadata": {},
   "outputs": [],
   "source": [
    "def evaluate_model(model, dataloader, loss_fn, device='cuda'):\n",
    "    model.to(device)\n",
    "    model.eval()  # Set the model to evaluation mode\n",
    "\n",
    "    correct = 0\n",
    "    total = 0\n",
    "    running_loss = 0.0\n",
    "\n",
    "    with torch.no_grad():  # Disable gradient computation for efficiency\n",
    "        for images, labels in dataloader:\n",
    "            images, labels = images.to(device), labels.to(device)\n",
    "\n",
    "            # Forward pass\n",
    "            outputs = model(images)\n",
    "            loss = loss_fn(outputs, labels)\n",
    "            loss = loss.mean() if loss.dim() > 0 else loss\n",
    "\n",
    "            running_loss += loss.item() * images.size(0)\n",
    "            _, predicted = torch.max(outputs, 1)\n",
    "            total += labels.size(0)\n",
    "            correct += (predicted == labels).sum().item()\n",
    "\n",
    "    test_loss = running_loss / total\n",
    "    test_acc = correct / total\n",
    "\n",
    "    \n",
    "    model.train()\n",
    "    return test_loss, test_acc\n",
    "    \n",
    "# test_loss, test_acc = evaluate_model(model, test_data_loader, device=DEVICE)"
   ]
  },
  {
   "cell_type": "markdown",
   "id": "3f4f9322-0cb1-421d-a7e9-8bf1ab6b168a",
   "metadata": {},
   "source": [
    "## Train Loop - V1"
   ]
  },
  {
   "cell_type": "code",
   "execution_count": 40,
   "id": "18b6fd9c-3214-4755-83be-ebb97f800ea1",
   "metadata": {},
   "outputs": [],
   "source": [
    "def train_model(model, dataloader, optimizer, loss_fn, num_epochs=10, device='cuda'):\n",
    "    model.to(device)\n",
    "    for epoch in range(num_epochs):\n",
    "        model.train()\n",
    "        running_loss = 0.0\n",
    "        correct = 0\n",
    "        total = 0\n",
    "\n",
    "        \n",
    "        for images, labels in dataloader:\n",
    "            images, labels = images.to(device), labels.to(device)\n",
    "\n",
    "            # Forward pass\n",
    "            outputs = model(images)\n",
    "            # print(\"Logits range:\", outputs.min().item(), outputs.max().item())\n",
    "            loss = loss_fn(outputs, labels)\n",
    "            loss = loss.mean() if loss.dim() > 0 else loss\n",
    "            # print(f\"Loss shape: {loss.shape}\")\n",
    "\n",
    "            \n",
    "            # Backward pass\n",
    "            model.train()\n",
    "            optimizer.zero_grad()\n",
    "            loss.backward()\n",
    "            optimizer.step()\n",
    "\n",
    "            # Statistics\n",
    "            #ADD Testaccruracy\n",
    "            \n",
    "            running_loss += loss.item() * images.size(0)\n",
    "            _, predicted = torch.max(outputs, 1)\n",
    "            total += labels.size(0)\n",
    "            correct += (predicted == labels).sum().item()\n",
    "\n",
    "        epoch_loss = running_loss / total\n",
    "        epoch_acc = correct / total\n",
    "        test_loss, test_acc = evaluate_model(model, test_data_loader, device=DEVICE)\n",
    "        test_loss, test_acc = 0,0\n",
    "        print(f\"Epoch {epoch + 1}/{num_epochs} | Loss: {epoch_loss:.4f}, Accuracy: {epoch_acc:.4f} | Test Loss: {test_loss:.4f}, Test Accuracy: {test_acc:.4f}\") \n",
    "\n",
    "# Train the model\n",
    "# train_model(model, train_data_loader, optimizer, loss_fn=loss_fn_cnn, num_epochs=10, device=DEVICE)"
   ]
  },
  {
   "cell_type": "code",
   "execution_count": null,
   "id": "2aecce3e-0bd2-4d30-be1d-ce9b65841f41",
   "metadata": {},
   "outputs": [],
   "source": []
  },
  {
   "cell_type": "markdown",
   "id": "4053e6a7-cf56-477e-9e23-59e6b1ba5f26",
   "metadata": {},
   "source": [
    "## Train Loop - V2"
   ]
  },
  {
   "cell_type": "code",
   "execution_count": 42,
   "id": "6162b5e6-44b5-46a2-a690-edb2cc79c9d7",
   "metadata": {},
   "outputs": [],
   "source": [
    "# device = torch.device(\"cuda\" if torch.cuda.is_available() else \"cpu\")\n",
    "# model.to(device)\n",
    "\n",
    "# INCLUDE_TEST = True\n",
    "\n",
    "# num_epochs = 100  # Train for more epochs\n",
    "\n",
    "# train_losses, train_accuracies, test_losses, test_accuracies = torch.Tensor(num_epochs), torch.Tensor(num_epochs), torch.Tensor(num_epochs), torch.Tensor(num_epochs)\n",
    "\n",
    "\n",
    "\n",
    "# start_time = time.time()\n",
    "# for epoch in range(num_epochs):\n",
    "#     if check_termination_flag():\n",
    "#         log(\"Termination Train Loop (Manual)\")\n",
    "#         break\n",
    "#     model.train()\n",
    "#     total_loss, correct, total = 0, 0, 0\n",
    "    \n",
    "#     for images, labels in train_data_loader:\n",
    "#         images, labels = images.to(device), labels.to(device)\n",
    "\n",
    "#         optimizer.zero_grad()\n",
    "#         outputs = model(images)\n",
    "#         loss = criterion(outputs, labels)\n",
    "#         loss = loss.mean() if loss.dim() > 0 else loss\n",
    "\n",
    "#         loss.backward()\n",
    "#         optimizer.step()\n",
    "\n",
    "#         total_loss += loss.item()\n",
    "#         _, preds = outputs.max(1)\n",
    "#         correct += preds.eq(labels).sum().item()\n",
    "#         total += labels.size(0)\n",
    "\n",
    "#     #Test Accuracy:\n",
    "#     test_loss, test_acc = 0,0\n",
    "#     if INCLUDE_TEST:\n",
    "#         model.eval()\n",
    "#         test_loss, test_acc = evaluate_model(model, test_data_loader, criterion, device=DEVICE)\n",
    "#         model.train()\n",
    "#     test_losses[epoch] = test_loss\n",
    "#     test_accuracies[epoch] = test_acc\n",
    "    \n",
    "#     scheduler.step()  # Adjust LR\n",
    "    \n",
    "\n",
    "    \n",
    "#     train_loss = total_loss/len(train_data_loader)\n",
    "#     train_accuracy = correct/total\n",
    "#     train_losses[epoch] = train_loss\n",
    "#     train_accuracies[epoch] = train_accuracy\n",
    "    \n",
    "#     print(f\"Epoch {epoch+1}/{num_epochs} | Train Loss: {train_loss:.4f}, Train Accuracy: {train_accuracy:.4f} | Test Loss: {test_loss:.4f}, Test Accuracy: {test_acc:.4f} | Time Stamp: {(time.time()-start_time):.3f} s\")\n",
    "#     log(f\"Epoch {epoch+1}/{num_epochs} | Train Loss: {train_loss:.4f}, Train Accuracy: {train_accuracy:.4f} | Test Loss: {test_loss:.4f}, Test Accuracy: {test_acc:.4f}\", 'NCE')\n",
    "# end_time = time.time()\n",
    "# train_time = end_time-start_time\n",
    "# print(f\"Train Time : {train_time:.6f}s\")"
   ]
  },
  {
   "cell_type": "markdown",
   "id": "376b7b5c-7a72-4ed4-b4b9-847110d02ef7",
   "metadata": {},
   "source": [
    "## Train Loop - V2 (Methodized)"
   ]
  },
  {
   "cell_type": "code",
   "execution_count": 44,
   "id": "67498e61-0f63-4345-9a19-f485c4de0202",
   "metadata": {},
   "outputs": [],
   "source": [
    "def train_loop(model, train_data_loader, test_data_loader,\n",
    "               criterion, optimizer, scheduler, loss_type,\n",
    "               num_epochs=50, INCLUDE_TEST=True, DEVICE=None, noise_rate=None,\n",
    "               continuation=False, old_metrics=None, continuation_version=None):\n",
    "    if loss_type not in LOSS_TYPES:\n",
    "        print(f\"{loss_type} Not a Valid Loss Type. Exiting Train Loop...\")\n",
    "        return 0\n",
    "    elif noise_rate == None:\n",
    "        print(f\"Invalid noise rate. Exiting Train Loop...\")\n",
    "        return 0\n",
    "    else:\n",
    "        print(f\"Criterion: {loss_type}\")\n",
    "        print(f\"Noise Rate: {noise_rate}\")\n",
    "\n",
    "    tracker = IntegerTracker(file_name=f\"{loss_type}\\\\version_control.txt\")\n",
    "    version = tracker.read_value() if continuation==False else continuation_version\n",
    "    print(f\"{version=}\")\n",
    "    if version == None:\n",
    "        print(\"Version is NONE TYPE. Terminating... \")\n",
    "        return None, None\n",
    "\n",
    "    \n",
    "\n",
    "\n",
    "    old_epochs = 0\n",
    "\n",
    "    \n",
    "    if continuation:\n",
    "        # log(\"\\n\\nResuming Training (New Session) with same model... \\n\\n\", loss_type, version)\n",
    "        print(f\"\\n\\nResuming Training (New Session) with same model({version=})... \\n\\n\")\n",
    "        old_epochs = len(old_metrics['Train Accuracy'])\n",
    "        \n",
    "    else:\n",
    "        arch = [criterion.state_dict, optimizer.state_dict, scheduler.state_dict, f\"NOISE RATE ---- {noise_rate}\"]\n",
    "        for i in arch:\n",
    "            log(i,loss_type, version)\n",
    "            log('\\n', loss_type, version)\n",
    "    \n",
    "    if DEVICE is None:\n",
    "        DEVICE = torch.device(\"cuda\" if torch.cuda.is_available() else \"cpu\")\n",
    "    model = model.to(DEVICE)\n",
    "\n",
    "\n",
    "    # If no continuation\n",
    "    train_losses, train_accuracies, test_losses, test_accuracies = torch.zeros(num_epochs), torch.zeros(num_epochs), torch.zeros(num_epochs), torch.zeros(num_epochs)\n",
    "\n",
    "    #If theres a continutation\n",
    "    if continuation:\n",
    "        train_losses, train_accuracies, test_losses, test_accuracies = [torch.cat([old_metrics[i],torch.zeros(num_epochs)]) for i in old_metrics]\n",
    "    \n",
    "        print(f\"\\n\\nResuming Training (New Session) with same model ({version=})... \\n\\n\")\n",
    "\n",
    "    print(f\"{train_losses.shape=}\")\n",
    "    \n",
    "        \n",
    "    start_time = time.time()\n",
    "    for epoch in range(num_epochs):\n",
    "        if check_termination_flag():\n",
    "            log(\"Terminate Train Loop (Manual)\", loss_type, version)\n",
    "            break\n",
    "\n",
    "        model.train()\n",
    "        total_loss, correct, total = 0, 0, 0\n",
    "\n",
    "        for images, labels in train_data_loader:\n",
    "            images, labels = images.to(DEVICE), labels.to(DEVICE)\n",
    "\n",
    "            optimizer.zero_grad()\n",
    "            outputs = model(images)\n",
    "            loss = criterion(outputs, labels)\n",
    "            loss = loss.mean() if loss.dim() > 0 else loss\n",
    "\n",
    "            loss.backward()\n",
    "            optimizer.step()\n",
    "\n",
    "            total_loss += loss.item()\n",
    "            _, preds = outputs.max(1)\n",
    "            correct += preds.eq(labels).sum().item()\n",
    "            total += labels.size(0)\n",
    "\n",
    "        # Test Accuracy\n",
    "        test_loss, test_acc = 0, 0\n",
    "        if INCLUDE_TEST:\n",
    "            model.eval()\n",
    "            test_loss, test_acc = evaluate_model(model, test_data_loader, criterion, device=DEVICE)\n",
    "            model.train()\n",
    "        test_losses[epoch+old_epochs] = test_loss\n",
    "        test_accuracies[epoch+old_epochs] = test_acc\n",
    "\n",
    "        scheduler.step()  # Adjust LR\n",
    "\n",
    "        train_loss = total_loss / len(train_data_loader)\n",
    "        train_accuracy = correct / total\n",
    "        train_losses[epoch+old_epochs] = train_loss\n",
    "        train_accuracies[epoch+old_epochs] = train_accuracy\n",
    "\n",
    "        print(f\"Epoch {epoch+1+old_epochs}/{num_epochs+old_epochs} | Train Loss: {train_loss:.4f}, Train Accuracy: {train_accuracy:.4f} | Test Loss: {test_loss:.4f}, Test Accuracy: {test_acc:.4f} | {(time.time()-start_time):.3f} s\")\n",
    "        log(f\"Epoch {epoch+1+old_epochs}/{num_epochs+old_epochs} | Train Loss: {train_loss:.4f}, Train Accuracy: {train_accuracy:.4f} | Test Loss: {test_loss:.4f}, Test Accuracy: {test_acc:.4f}\", loss_type, version)\n",
    "\n",
    "    end_time = time.time()\n",
    "    train_time = end_time - start_time\n",
    "\n",
    "    \n",
    "    if continuation:\n",
    "        print(f\"Train Time (New Session): {train_time:.6f}s\")\n",
    "        log(f\"Train Time (New Session): {train_time:.6f}s\\nFinished Training...\", loss_type, version)\n",
    "    else:\n",
    "        print(f\"Train Time : {train_time:.6f}s\")\n",
    "        log(f\"Train Time : {train_time:.6f}s\\nFinished Training...\", loss_type, version)\n",
    "    \n",
    "\n",
    "\n",
    "    \n",
    "    metrics = {\n",
    "        \"Train Accuracy\":train_accuracies,\n",
    "        \"Train Loss\":train_losses,\n",
    "        \"Test Loss\":test_losses,\n",
    "        \"Test Accuracy\":test_accuracies,\n",
    "    }\n",
    "\n",
    "    \n",
    "    #Saving Models\n",
    "    model_path = f'{loss_type}\\\\Models\\\\cnn_{version}.pth'\n",
    "    torch.save({\n",
    "        'model_state_dict':model.state_dict(),\n",
    "        'optimizer_state_dict':optimizer.state_dict(),\n",
    "        'criterion_state_dict':criterion.state_dict(),\n",
    "        'scheduler_state_dict':scheduler.state_dict(),\n",
    "        'metrics':metrics\n",
    "    }, model_path)\n",
    "    print(f\"Arch & metrics Saved to {model_path}...\")\n",
    "    log(f\"Arch & metrics Saved to {model_path}...\", loss_type, version)\n",
    "\n",
    "    if not continuation:\n",
    "        tracker.increment_value()\n",
    "    return metrics, train_time"
   ]
  },
  {
   "cell_type": "markdown",
   "id": "6078135c-ea00-42e4-9238-2da6054447f7",
   "metadata": {},
   "source": [
    "## APL Framework\n",
    "**Table: Examples of active and passive loss functions.**\n",
    "\n",
    "| Loss Type  | Active           | Passive             |\n",
    "|------------|-----------------|---------------------|\n",
    "| Examples   | CE, NCE, FL, NFL | MAE, NMAE, RCE, NRCE |\n"
   ]
  },
  {
   "cell_type": "code",
   "execution_count": 46,
   "id": "90c34120-784e-44af-a428-e2d09b306319",
   "metadata": {},
   "outputs": [],
   "source": [
    "class APLLoss(nn.Module):\n",
    "    def __init__(self, active_loss, passive_loss, alpha=0.7, beta=0.3, reduction='mean'):\n",
    "        \"\"\"\n",
    "        Active-Passive Loss (APL) combining an active loss and a passive loss.\n",
    "\n",
    "        :param active_loss: Active loss function (e.g., CrossEntropy, Focal Loss)\n",
    "        :param passive_loss: Passive loss function (e.g., Mean Absolute Error, Reversed Cross Entropy)\n",
    "        :param alpha: Weight for the active loss (default=0.5)\n",
    "        :param beta: Weight for the passive loss (default=0.5)\n",
    "        :param reduction: 'mean' or 'sum' (default='mean')\n",
    "        \"\"\"\n",
    "        super(APLLoss, self).__init__()\n",
    "        self.active_loss = active_loss\n",
    "        self.passive_loss = passive_loss\n",
    "        self.alpha = torch.tensor(alpha, requires_grad=False)\n",
    "        self.beta = torch.tensor(beta, requires_grad=False)\n",
    "        self.reduction = reduction\n",
    "\n",
    "    def forward(self, logits, targets):\n",
    "        \"\"\"\n",
    "        Compute the APL Loss.\n",
    "\n",
    "        :param logits: Model predictions (raw scores) [batch_size, num_classes]\n",
    "        :param targets: Ground truth labels [batch_size]\n",
    "        :return: Combined APL loss\n",
    "        \"\"\"\n",
    "        # Compute active loss\n",
    "        active_loss_value = self.active_loss(logits, targets)\n",
    "        \n",
    "        # Compute passive loss\n",
    "        passive_loss_value = self.passive_loss(logits, targets)\n",
    "\n",
    "        # Weighted sum of both losses\n",
    "        total_loss = self.alpha * active_loss_value + self.beta * passive_loss_value\n",
    "\n",
    "        return total_loss\n",
    "\n",
    "    def state_dict(self):\n",
    "        \"\"\" Extend state_dict to include alpha & beta \"\"\"\n",
    "        state = super().state_dict()\n",
    "        state['alpha'] = self.alpha\n",
    "        state['beta'] = self.beta\n",
    "        return state\n",
    "\n",
    "    def load_state_dict(self, state_dict):\n",
    "        \"\"\" Load alpha & beta when restoring the loss function \"\"\"\n",
    "        self.alpha = state_dict.pop('alpha', self.alpha)\n",
    "        self.beta = state_dict.pop('beta', self.beta)\n",
    "        super().load_state_dict(state_dict)"
   ]
  },
  {
   "cell_type": "markdown",
   "id": "91ed9315-4063-4152-955b-bf523320fc9a",
   "metadata": {},
   "source": [
    "## Plot Metrics"
   ]
  },
  {
   "cell_type": "code",
   "execution_count": 205,
   "id": "f9fc142f-b900-4c81-9006-17ec3c65fd14",
   "metadata": {},
   "outputs": [],
   "source": [
    "def plot_metrics(metrics, title=\"Blank\", save=None):\n",
    "    # Create a figure and axis\n",
    "    plt.figure(figsize=(10, 6))\n",
    "    \n",
    "    # Iterate over the dictionary and plot each array\n",
    "    for metric_name, values in metrics.items():\n",
    "        x_values = range(len(values))  # Use indices as the x-axis\n",
    "        plt.plot(x_values, values, linestyle='-', label=metric_name)\n",
    "    \n",
    "    # Add labels and title\n",
    "    plt.xlabel('Epoch')\n",
    "    plt.ylabel('Metrics')\n",
    "    plt.title(title)\n",
    "    \n",
    "    # Add a legend\n",
    "    plt.legend()\n",
    "\n",
    "    if save == None:\n",
    "        plt.savefig(save, dpi=300, bbox_inches='tight')\n",
    "    plt.grid(False)\n",
    "    plt.show()"
   ]
  },
  {
   "cell_type": "markdown",
   "id": "82737f90-64dc-4eeb-a509-3adc43b5f3ed",
   "metadata": {},
   "source": [
    "___"
   ]
  },
  {
   "cell_type": "markdown",
   "id": "27b1f78a-90ed-48c8-be01-e958dcb4291e",
   "metadata": {},
   "source": [
    "# **Function Calls:**\n",
    "---"
   ]
  },
  {
   "cell_type": "code",
   "execution_count": 9,
   "id": "a0ec9534-d24a-4193-ae66-ef6738a3489d",
   "metadata": {},
   "outputs": [
    {
     "ename": "NameError",
     "evalue": "name 'transform' is not defined",
     "output_type": "error",
     "traceback": [
      "\u001b[1;31m---------------------------------------------------------------------------\u001b[0m",
      "\u001b[1;31mNameError\u001b[0m                                 Traceback (most recent call last)",
      "Cell \u001b[1;32mIn[9], line 1\u001b[0m\n\u001b[1;32m----> 1\u001b[0m train_dataset \u001b[38;5;241m=\u001b[39m CIFAR10(root\u001b[38;5;241m=\u001b[39m\u001b[38;5;124m'\u001b[39m\u001b[38;5;124mdata\u001b[39m\u001b[38;5;124m'\u001b[39m, download\u001b[38;5;241m=\u001b[39m\u001b[38;5;28;01mTrue\u001b[39;00m ,transform\u001b[38;5;241m=\u001b[39mtransform, train\u001b[38;5;241m=\u001b[39m\u001b[38;5;28;01mTrue\u001b[39;00m)\n\u001b[0;32m      2\u001b[0m test_dataset \u001b[38;5;241m=\u001b[39m CIFAR10(root\u001b[38;5;241m=\u001b[39m\u001b[38;5;124m'\u001b[39m\u001b[38;5;124mdata\u001b[39m\u001b[38;5;124m'\u001b[39m, download\u001b[38;5;241m=\u001b[39m\u001b[38;5;28;01mTrue\u001b[39;00m ,transform\u001b[38;5;241m=\u001b[39mtransform, train\u001b[38;5;241m=\u001b[39m\u001b[38;5;28;01mFalse\u001b[39;00m)\n\u001b[0;32m      3\u001b[0m \u001b[38;5;28mlen\u001b[39m(train_dataset), \u001b[38;5;28mlen\u001b[39m(test_dataset)\n",
      "\u001b[1;31mNameError\u001b[0m: name 'transform' is not defined"
     ]
    }
   ],
   "source": [
    "train_dataset = CIFAR10(root='data', download=True ,transform=transform, train=True)\n",
    "test_dataset = CIFAR10(root='data', download=True ,transform=transform, train=False)\n",
    "len(train_dataset), len(test_dataset)"
   ]
  },
  {
   "cell_type": "code",
   "execution_count": 11,
   "id": "25b18171-84f0-47eb-afc2-3f02b5e46c1b",
   "metadata": {},
   "outputs": [
    {
     "ename": "NameError",
     "evalue": "name 'train_dataset' is not defined",
     "output_type": "error",
     "traceback": [
      "\u001b[1;31m---------------------------------------------------------------------------\u001b[0m",
      "\u001b[1;31mNameError\u001b[0m                                 Traceback (most recent call last)",
      "Cell \u001b[1;32mIn[11], line 1\u001b[0m\n\u001b[1;32m----> 1\u001b[0m num_classes \u001b[38;5;241m=\u001b[39m \u001b[38;5;28mlen\u001b[39m(train_dataset\u001b[38;5;241m.\u001b[39mclasses)\n\u001b[0;32m      2\u001b[0m num_classes\n",
      "\u001b[1;31mNameError\u001b[0m: name 'train_dataset' is not defined"
     ]
    }
   ],
   "source": [
    "num_classes = len(train_dataset.classes)\n",
    "num_classes"
   ]
  },
  {
   "cell_type": "code",
   "execution_count": 13,
   "id": "dc0e2319-fd8f-43f6-889e-51a80d0de039",
   "metadata": {
    "scrolled": true
   },
   "outputs": [
    {
     "ename": "NameError",
     "evalue": "name 'NoisyDataset' is not defined",
     "output_type": "error",
     "traceback": [
      "\u001b[1;31m---------------------------------------------------------------------------\u001b[0m",
      "\u001b[1;31mNameError\u001b[0m                                 Traceback (most recent call last)",
      "Cell \u001b[1;32mIn[13], line 1\u001b[0m\n\u001b[1;32m----> 1\u001b[0m train_data_noise \u001b[38;5;241m=\u001b[39m NoisyDataset(root\u001b[38;5;241m=\u001b[39m\u001b[38;5;124m'\u001b[39m\u001b[38;5;124mdata\u001b[39m\u001b[38;5;124m'\u001b[39m, train\u001b[38;5;241m=\u001b[39m\u001b[38;5;28;01mTrue\u001b[39;00m, transform\u001b[38;5;241m=\u001b[39mtransform, noise_rate\u001b[38;5;241m=\u001b[39m\u001b[38;5;241m0.4\u001b[39m)\n",
      "\u001b[1;31mNameError\u001b[0m: name 'NoisyDataset' is not defined"
     ]
    }
   ],
   "source": [
    "train_data_noise = NoisyDataset(root='data', train=True, transform=transform, noise_rate=0.4)"
   ]
  },
  {
   "cell_type": "markdown",
   "id": "2e1c5ab3-9612-456a-98b9-6cac144d0e04",
   "metadata": {},
   "source": [
    "## Dataloaders && Batch Size"
   ]
  },
  {
   "cell_type": "code",
   "execution_count": 55,
   "id": "9dfd694a-b312-4429-97ff-68e5c74ba989",
   "metadata": {},
   "outputs": [
    {
     "data": {
      "text/plain": [
       "(781, 156)"
      ]
     },
     "execution_count": 55,
     "metadata": {},
     "output_type": "execute_result"
    }
   ],
   "source": [
    "BATCH_SIZE = 64\n",
    "\n",
    "train_data_loader = DataLoader(\n",
    "    train_data_noise, \n",
    "    batch_size=BATCH_SIZE,\n",
    "    shuffle=True,\n",
    "    drop_last=True\n",
    ")\n",
    "\n",
    "test_data_loader = DataLoader(\n",
    "    test_dataset, \n",
    "    batch_size=BATCH_SIZE,\n",
    "    shuffle=True,\n",
    "    drop_last=True\n",
    ")\n",
    "\n",
    "len(train_data_loader), len(test_data_loader)"
   ]
  },
  {
   "cell_type": "code",
   "execution_count": 229,
   "id": "ed60da24-233f-42d1-9ede-474976377ec3",
   "metadata": {},
   "outputs": [
    {
     "data": {
      "text/plain": [
       "CNN_V1(\n",
       "  (block1): Sequential(\n",
       "    (0): Conv2d(3, 64, kernel_size=(3, 3), stride=(1, 1), padding=(1, 1))\n",
       "    (1): ReLU()\n",
       "    (2): Conv2d(64, 64, kernel_size=(3, 3), stride=(1, 1), padding=(1, 1))\n",
       "    (3): ReLU()\n",
       "    (4): MaxPool2d(kernel_size=2, stride=2, padding=0, dilation=1, ceil_mode=False)\n",
       "  )\n",
       "  (block2): Sequential(\n",
       "    (0): Conv2d(64, 128, kernel_size=(3, 3), stride=(1, 1), padding=(1, 1))\n",
       "    (1): ReLU()\n",
       "    (2): Conv2d(128, 128, kernel_size=(3, 3), stride=(1, 1), padding=(1, 1))\n",
       "    (3): ReLU()\n",
       "    (4): MaxPool2d(kernel_size=2, stride=2, padding=0, dilation=1, ceil_mode=False)\n",
       "  )\n",
       "  (block3): Sequential(\n",
       "    (0): Conv2d(128, 256, kernel_size=(3, 3), stride=(1, 1), padding=(1, 1))\n",
       "    (1): ReLU()\n",
       "    (2): Conv2d(256, 256, kernel_size=(3, 3), stride=(1, 1), padding=(1, 1))\n",
       "    (3): ReLU()\n",
       "    (4): MaxPool2d(kernel_size=2, stride=2, padding=0, dilation=1, ceil_mode=False)\n",
       "  )\n",
       "  (classifier): Sequential(\n",
       "    (0): Flatten(start_dim=1, end_dim=-1)\n",
       "    (1): Linear(in_features=4096, out_features=256, bias=True)\n",
       "    (2): ReLU()\n",
       "    (3): Dropout(p=0.5, inplace=False)\n",
       "    (4): Linear(in_features=256, out_features=10, bias=True)\n",
       "  )\n",
       ")"
      ]
     },
     "execution_count": 229,
     "metadata": {},
     "output_type": "execute_result"
    }
   ],
   "source": [
    "# model_NCE = CNN_V2(num_classes=num_classes)\n",
    "# model_NFL = CNN_V2(num_classes=num_classes)\n",
    "model_APL = CNN_V1(input_shape=3, output_shape=num_classes, hidden_units=64)\n",
    "# model_APL = CNN_V2(num_classes=num_classes)\n",
    "# model_APL = CNN_V3()\n",
    "# model_APL = CNN_V4()\n",
    "model_APL #model_NCE, model_NFL"
   ]
  },
  {
   "cell_type": "markdown",
   "id": "c6d053ea-c1ad-409f-85de-e024f3c6957f",
   "metadata": {},
   "source": [
    "## Loss Function & Optimizer - V1"
   ]
  },
  {
   "cell_type": "code",
   "execution_count": 232,
   "id": "13051435-9b32-4a91-92f2-90f05885c8ff",
   "metadata": {},
   "outputs": [],
   "source": [
    "# loss_fn_cnn = NormalizedCrossEntropyLoss_REVISED(model)\n",
    "# loss_fn_cnn = nn.CrossEntropyLoss()\n",
    "# optimizer = torch.optim.AdamW(model.parameters(), lr=0.001, weight_decay=1e-4)"
   ]
  },
  {
   "cell_type": "markdown",
   "id": "b699d9ac-1f44-4b23-be50-1402f580a557",
   "metadata": {},
   "source": [
    "## Loss Function & Optimizer - V2 USE THIS FOR ACTIVE LOSS"
   ]
  },
  {
   "cell_type": "code",
   "execution_count": 235,
   "id": "4e2f04a1-41e8-4ed1-8bde-7fd6ff22361b",
   "metadata": {},
   "outputs": [],
   "source": [
    "# optimizer_NCE = torch.optim.SGD(model_NCE.parameters(), lr=0.01, momentum=0.9, weight_decay=1e-3)\n",
    "# scheduler_NCE = torch.optim.lr_scheduler.StepLR(optimizer_NCE, step_size=10, gamma=0.5)  # Reduce LR every 10 epochs\n",
    "# criterion_NCE = NormalizedCrossEntropyLoss_REVISED(model_NCE)\n",
    "# optimizer_NFL = torch.optim.SGD(model_NFL.parameters(), lr=0.01, momentum=0.9, weight_decay=1e-3)\n",
    "# scheduler_NFL = torch.optim.lr_scheduler.StepLR(optimizer_NFL, step_size=10, gamma=0.5)  # Reduce LR every 10 epochs\n",
    "# criterion_NFL = NormalizedFocalLoss(gamma=2.0, reduction='mean')"
   ]
  },
  {
   "cell_type": "markdown",
   "id": "ff16ace9-58cf-4bdf-b670-0ab4c5e3ebda",
   "metadata": {},
   "source": [
    "## Loss Function & Optimizer - V3 (AdamW & Plateau)"
   ]
  },
  {
   "cell_type": "code",
   "execution_count": 238,
   "id": "bce9940c-e9ef-4855-bb83-033c104ba26b",
   "metadata": {},
   "outputs": [],
   "source": [
    "# optimizer_NCE = torch.optim.AdamW(model_NCE.parameters(), lr=0.001, weight_decay=5e-4)\n",
    "# scheduler_NCE = torch.optim.lr_scheduler.StepLR(optimizer_NCE, step_size=10, gamma=0.5)  # Reduce LR every 10 epochs\n",
    "# criterion_NCE = NormalizedCrossEntropyLoss_REVISED(model_NCE)\n",
    "# optimizer_NFL = torch.optim.AdamW(model_NFL.parameters(), lr=0.001, weight_decay=5e-4)\n",
    "# scheduler_NFL = torch.optim.lr_scheduler.StepLR(optimizer_NFL, step_size=10, gamma=0.5)  # Reduce LR every 10 epochs\n",
    "# criterion_NFL = NormalizedFocalLoss(gamma=2.0, reduction='mean')\n",
    "\n",
    "\n",
    "# optimizer = torch.optim.AdamW(model.parameters(), lr=0.001, weight_decay=5e-4)\n",
    "# scheduler = torch.optim.lr_scheduler.StepLR(optimizer, step_size=10, gamma=0.5)\n",
    "# scheduler = torch.optim.lr_scheduler.CosineAnnealingLR(optimizer, T_max=100, eta_min=1e-5)\n",
    "# scheduler = torch.optim.lr_scheduler.ReduceLROnPlateau(optimizer, mode='min', factor=0.5, patience=5)"
   ]
  },
  {
   "cell_type": "code",
   "execution_count": 240,
   "id": "ca7be47b-adef-4746-941f-6cf3930f6db8",
   "metadata": {
    "scrolled": true
   },
   "outputs": [],
   "source": [
    "# criterion_NCE, optimizer_NCE, scheduler_NCE, criterion_NFL, optimizer_NFL, scheduler_NFL"
   ]
  },
  {
   "cell_type": "markdown",
   "id": "356c9f84-1c05-4ba2-8031-e00e45e8e9bb",
   "metadata": {},
   "source": [
    "## **APL Testing** - Loss Function & Optimizer - V4"
   ]
  },
  {
   "cell_type": "code",
   "execution_count": 243,
   "id": "ea9c0fe1-39b4-4cab-a9d2-637ef9ac69f4",
   "metadata": {},
   "outputs": [],
   "source": [
    "active_loss_fn = NormalizedCrossEntropyLoss(model_APL)\n",
    "passive_loss_fn = ReversedCrossEntropyLoss()  # Assume you've already implemented this\n",
    "\n",
    "apl_loss_fn = APLLoss(active_loss_fn, passive_loss_fn, alpha=0.7, beta=0.3)\n",
    "apl_loss_fn\n",
    "\n",
    "optimizer_APL = torch.optim.SGD(model_APL.parameters(), lr=0.01, momentum=0.9, weight_decay=5e-4)\n",
    "scheduler_APL = torch.optim.lr_scheduler.StepLR(optimizer_APL, step_size=10, gamma=0.5)  # Reduce LR every 10 epochs\n",
    "criterion = apl_loss_fn"
   ]
  },
  {
   "cell_type": "markdown",
   "id": "f14e337b-0ebb-437e-a09f-be68ba009715",
   "metadata": {},
   "source": [
    "## **APL Testing** - Loss Function & Optimizer - V5"
   ]
  },
  {
   "cell_type": "code",
   "execution_count": 246,
   "id": "efe78611-cc43-448e-a3ec-a6459bcdecd3",
   "metadata": {},
   "outputs": [],
   "source": [
    "\n",
    "\n",
    "# active_loss_fn = NormalizedCrossEntropyLoss(model_APL)\n",
    "# passive_loss_fn = ReversedCrossEntropyLoss()  # Assume you've already implemented this\n",
    "\n",
    "# alpha = 0.85\n",
    "\n",
    "# alpha_v2 = 0.85\n",
    "\n",
    "# apl_loss_fn = APLLoss(active_loss=active_loss_fn, passive_loss=passive_loss_fn, alpha=alpha, beta=1-alpha)\n",
    "# apl_loss_fn\n",
    "\n",
    "# optimizer_APL = torch.optim.SGD(model_APL.parameters(), lr=0.01, momentum=0.9, weight_decay=5e-4)\n",
    "# # optimizer_APL_v2 = torch.optim.AdamW(model_APL.parameters(), lr=0.03, betas=(0.9, 0.999), weight_decay=1e-3)\n",
    "\n",
    "# scheduler_APL = torch.optim.lr_scheduler.CosineAnnealingLR(optimizer_APL, T_max=50, eta_min=1e-6)\n",
    "# # scheduler_APL_v2 = torch.optim.lr_scheduler.CosineAnnealingWarmRestarts(optimizer_APL, T_0=20, T_mult=2, eta_min=1e-6)\n",
    "# criterion = apl_loss_fn"
   ]
  },
  {
   "cell_type": "code",
   "execution_count": 248,
   "id": "2aa42ecb-924f-4bb0-a2aa-947de680078a",
   "metadata": {},
   "outputs": [
    {
     "name": "stdout",
     "output_type": "stream",
     "text": [
      "Criterion: APL\n",
      "Noise Rate: 0.4\n",
      "version=15\n",
      "train_losses.shape=torch.Size([50])\n",
      "Epoch 1/50 | Train Loss: 1.3908, Train Accuracy: 0.1022 | Test Loss: 1.3902, Test Accuracy: 0.1142 | 31.016 s\n",
      "Epoch 2/50 | Train Loss: 1.3776, Train Accuracy: 0.1422 | Test Loss: 1.3182, Test Accuracy: 0.2431 | 62.454 s\n",
      "Epoch 3/50 | Train Loss: 1.3598, Train Accuracy: 0.1780 | Test Loss: 1.2904, Test Accuracy: 0.2790 | 93.746 s\n",
      "Epoch 4/50 | Train Loss: 1.3504, Train Accuracy: 0.1953 | Test Loss: 1.2631, Test Accuracy: 0.3186 | 125.190 s\n",
      "Epoch 5/50 | Train Loss: 1.3394, Train Accuracy: 0.2144 | Test Loss: 1.2260, Test Accuracy: 0.3411 | 156.665 s\n",
      "Epoch 6/50 | Train Loss: 1.3306, Train Accuracy: 0.2288 | Test Loss: 1.2307, Test Accuracy: 0.3686 | 188.300 s\n",
      "Epoch 7/50 | Train Loss: 1.3238, Train Accuracy: 0.2429 | Test Loss: 1.1988, Test Accuracy: 0.3861 | 219.858 s\n",
      "Epoch 8/50 | Train Loss: 1.3188, Train Accuracy: 0.2513 | Test Loss: 1.2068, Test Accuracy: 0.4093 | 251.588 s\n",
      "Epoch 9/50 | Train Loss: 1.3128, Train Accuracy: 0.2628 | Test Loss: 1.1587, Test Accuracy: 0.4185 | 283.898 s\n",
      "Epoch 10/50 | Train Loss: 1.3073, Train Accuracy: 0.2725 | Test Loss: 1.1693, Test Accuracy: 0.4356 | 316.577 s\n",
      "Epoch 11/50 | Train Loss: 1.2977, Train Accuracy: 0.2851 | Test Loss: 1.1465, Test Accuracy: 0.4578 | 348.370 s\n",
      "Epoch 12/50 | Train Loss: 1.2937, Train Accuracy: 0.2915 | Test Loss: 1.1294, Test Accuracy: 0.4652 | 380.204 s\n",
      "Epoch 13/50 | Train Loss: 1.2908, Train Accuracy: 0.2961 | Test Loss: 1.1234, Test Accuracy: 0.4746 | 411.747 s\n",
      "Epoch 14/50 | Train Loss: 1.2884, Train Accuracy: 0.3008 | Test Loss: 1.1174, Test Accuracy: 0.4932 | 443.174 s\n",
      "Epoch 15/50 | Train Loss: 1.2847, Train Accuracy: 0.3061 | Test Loss: 1.1110, Test Accuracy: 0.4743 | 474.730 s\n",
      "Epoch 16/50 | Train Loss: 1.2829, Train Accuracy: 0.3093 | Test Loss: 1.1088, Test Accuracy: 0.4982 | 506.622 s\n",
      "Epoch 17/50 | Train Loss: 1.2799, Train Accuracy: 0.3150 | Test Loss: 1.1240, Test Accuracy: 0.4954 | 540.276 s\n",
      "Epoch 18/50 | Train Loss: 1.2784, Train Accuracy: 0.3186 | Test Loss: 1.0991, Test Accuracy: 0.5154 | 572.641 s\n",
      "Epoch 19/50 | Train Loss: 1.2759, Train Accuracy: 0.3232 | Test Loss: 1.0815, Test Accuracy: 0.5243 | 604.789 s\n",
      "Epoch 20/50 | Train Loss: 1.2740, Train Accuracy: 0.3256 | Test Loss: 1.0750, Test Accuracy: 0.5401 | 636.731 s\n",
      "Epoch 21/50 | Train Loss: 1.2660, Train Accuracy: 0.3372 | Test Loss: 1.0702, Test Accuracy: 0.5519 | 668.487 s\n",
      "Epoch 22/50 | Train Loss: 1.2638, Train Accuracy: 0.3406 | Test Loss: 1.0631, Test Accuracy: 0.5587 | 700.229 s\n",
      "Epoch 23/50 | Train Loss: 1.2627, Train Accuracy: 0.3449 | Test Loss: 1.0669, Test Accuracy: 0.5564 | 731.774 s\n",
      "Epoch 24/50 | Train Loss: 1.2614, Train Accuracy: 0.3466 | Test Loss: 1.0716, Test Accuracy: 0.5609 | 763.255 s\n",
      "Epoch 25/50 | Train Loss: 1.2609, Train Accuracy: 0.3456 | Test Loss: 1.0725, Test Accuracy: 0.5473 | 794.565 s\n",
      "Epoch 26/50 | Train Loss: 1.2590, Train Accuracy: 0.3486 | Test Loss: 1.0705, Test Accuracy: 0.5669 | 826.032 s\n",
      "Epoch 27/50 | Train Loss: 1.2585, Train Accuracy: 0.3523 | Test Loss: 1.0542, Test Accuracy: 0.5689 | 857.503 s\n",
      "Epoch 28/50 | Train Loss: 1.2562, Train Accuracy: 0.3546 | Test Loss: 1.0466, Test Accuracy: 0.5749 | 888.862 s\n",
      "Epoch 29/50 | Train Loss: 1.2540, Train Accuracy: 0.3572 | Test Loss: 1.0600, Test Accuracy: 0.5780 | 920.244 s\n",
      "Epoch 30/50 | Train Loss: 1.2540, Train Accuracy: 0.3591 | Test Loss: 1.0537, Test Accuracy: 0.5707 | 951.861 s\n",
      "Epoch 31/50 | Train Loss: 1.2490, Train Accuracy: 0.3649 | Test Loss: 1.0397, Test Accuracy: 0.5866 | 983.308 s\n",
      "Epoch 32/50 | Train Loss: 1.2471, Train Accuracy: 0.3673 | Test Loss: 1.0439, Test Accuracy: 0.5839 | 1014.617 s\n",
      "Epoch 33/50 | Train Loss: 1.2473, Train Accuracy: 0.3685 | Test Loss: 1.0328, Test Accuracy: 0.5838 | 1046.000 s\n",
      "Epoch 34/50 | Train Loss: 1.2473, Train Accuracy: 0.3674 | Test Loss: 1.0198, Test Accuracy: 0.5912 | 1077.380 s\n",
      "Epoch 35/50 | Train Loss: 1.2449, Train Accuracy: 0.3730 | Test Loss: 1.0330, Test Accuracy: 0.5879 | 1108.675 s\n",
      "Epoch 36/50 | Train Loss: 1.2453, Train Accuracy: 0.3709 | Test Loss: 1.0305, Test Accuracy: 0.5995 | 1140.207 s\n",
      "Epoch 37/50 | Train Loss: 1.2452, Train Accuracy: 0.3705 | Test Loss: 1.0317, Test Accuracy: 0.6033 | 1171.597 s\n",
      "Epoch 38/50 | Train Loss: 1.2442, Train Accuracy: 0.3720 | Test Loss: 1.0217, Test Accuracy: 0.5984 | 1203.061 s\n",
      "Epoch 39/50 | Train Loss: 1.2431, Train Accuracy: 0.3740 | Test Loss: 1.0195, Test Accuracy: 0.5968 | 1234.366 s\n",
      "Epoch 40/50 | Train Loss: 1.2427, Train Accuracy: 0.3732 | Test Loss: 1.0154, Test Accuracy: 0.6090 | 1265.755 s\n",
      "Epoch 41/50 | Train Loss: 1.2393, Train Accuracy: 0.3797 | Test Loss: 1.0208, Test Accuracy: 0.6113 | 1297.031 s\n",
      "Epoch 42/50 | Train Loss: 1.2406, Train Accuracy: 0.3789 | Test Loss: 1.0208, Test Accuracy: 0.6086 | 1328.197 s\n",
      "Epoch 43/50 | Train Loss: 1.2380, Train Accuracy: 0.3807 | Test Loss: 1.0270, Test Accuracy: 0.6053 | 1359.492 s\n",
      "Epoch 44/50 | Train Loss: 1.2379, Train Accuracy: 0.3796 | Test Loss: 1.0076, Test Accuracy: 0.6040 | 1390.884 s\n",
      "Epoch 45/50 | Train Loss: 1.2370, Train Accuracy: 0.3825 | Test Loss: 1.0141, Test Accuracy: 0.6055 | 1422.547 s\n",
      "Epoch 46/50 | Train Loss: 1.2375, Train Accuracy: 0.3832 | Test Loss: 1.0176, Test Accuracy: 0.6152 | 1453.812 s\n",
      "Epoch 47/50 | Train Loss: 1.2365, Train Accuracy: 0.3852 | Test Loss: 1.0147, Test Accuracy: 0.6173 | 1485.012 s\n",
      "Epoch 48/50 | Train Loss: 1.2356, Train Accuracy: 0.3830 | Test Loss: 1.0082, Test Accuracy: 0.6097 | 1516.404 s\n",
      "Epoch 49/50 | Train Loss: 1.2361, Train Accuracy: 0.3842 | Test Loss: 1.0172, Test Accuracy: 0.6228 | 1548.131 s\n",
      "Epoch 50/50 | Train Loss: 1.2358, Train Accuracy: 0.3827 | Test Loss: 1.0131, Test Accuracy: 0.6135 | 1579.449 s\n",
      "Train Time : 1579.449604s\n",
      "Arch & metrics Saved to APL\\Models\\cnn_15.pth...\n"
     ]
    }
   ],
   "source": [
    "metrics_APL, train_time_APL = train_loop(\n",
    "    model=model_APL,\n",
    "    train_data_loader=train_data_loader,\n",
    "    test_data_loader=test_data_loader,\n",
    "    criterion=apl_loss_fn,\n",
    "    optimizer=optimizer_APL,\n",
    "    scheduler=scheduler_APL,\n",
    "    loss_type=\"APL\",\n",
    "    num_epochs=50,\n",
    "    INCLUDE_TEST=True,\n",
    "    DEVICE=DEVICE,\n",
    "    noise_rate=train_data_noise.noise_rate\n",
    ")"
   ]
  },
  {
   "cell_type": "code",
   "execution_count": null,
   "id": "83df3ff9-ab71-436a-ab6a-84f5ea56c8d7",
   "metadata": {},
   "outputs": [],
   "source": [
    "tracker = IntegerTracker()"
   ]
  },
  {
   "cell_type": "markdown",
   "id": "0d5236af-5576-4193-a2f0-b26e074206f7",
   "metadata": {},
   "source": [
    "### NCE - AL"
   ]
  },
  {
   "cell_type": "code",
   "execution_count": null,
   "id": "5ce0dbe2-d15d-41f5-a557-21325eefdf12",
   "metadata": {},
   "outputs": [],
   "source": [
    "# metrics_NCE, train_time_NCE = train_loop(model_NCE, \n",
    "#                                          train_data_loader, test_data_loader, \n",
    "#                                          criterion_NCE, optimizer_NCE, \n",
    "#                                          scheduler_NCE, loss_type='NCE', noise_rate=train_data_noise.noise_rate)\n",
    "# # info = f\"Noise Rate: {train_data_noise.noise_rate:.4f} \\nTrain Time: {train_time_NCE:.6f}s \\nTransforms: HOR_FLIP ROT_10 NORM \\nLoss({criterion_NCE.__class__}) \\nOptimizer({optimizer_NCE.__class__}) \\nScheduler({scheduler_NCE.__class__})\""
   ]
  },
  {
   "cell_type": "markdown",
   "id": "772b0dc4-8387-41c8-81d9-a117e4b9c59d",
   "metadata": {},
   "source": [
    "### NFL - AL"
   ]
  },
  {
   "cell_type": "code",
   "execution_count": null,
   "id": "52e76fb3-a660-4160-8575-df433fffdc1f",
   "metadata": {
    "scrolled": true
   },
   "outputs": [],
   "source": [
    "# metrics_NFL, train_time_NFL = train_loop(model_NFL, \n",
    "#                                          train_data_loader, test_data_loader, \n",
    "#                                          criterion_NFL, optimizer_NFL, \n",
    "#                                          scheduler_NFL, loss_type='NFL', noise_rate=train_data_noise.noise_rate)"
   ]
  },
  {
   "cell_type": "code",
   "execution_count": 198,
   "id": "9283ed96-7090-47c1-8e91-730f760784b0",
   "metadata": {},
   "outputs": [
    {
     "data": {
      "image/png": "[encoded data removed]",
      "text/plain": [
       "<Figure size 1000x600 with 1 Axes>"
      ]
     },
     "metadata": {},
     "output_type": "display_data"
    }
   ],
   "source": [
    "\n",
    "plot_metrics(metrics_APL, title=\"CNN V4\", save=None)\n",
    "# plot_metrics(metrics_NFL)\n"
   ]
  },
  {
   "cell_type": "markdown",
   "id": "1436902c-2bf6-43ee-b712-23158b1075cc",
   "metadata": {},
   "source": [
    "### NCE + CE - APL"
   ]
  },
  {
   "cell_type": "code",
   "execution_count": null,
   "id": "dd217783-1cf5-4a3e-af20-484ab13841ee",
   "metadata": {},
   "outputs": [],
   "source": []
  },
  {
   "cell_type": "code",
   "execution_count": 7,
   "id": "28906bf3-0e30-4e5e-930f-f8bc84e0526e",
   "metadata": {},
   "outputs": [
    {
     "ename": "NameError",
     "evalue": "name 'model_APL' is not defined",
     "output_type": "error",
     "traceback": [
      "\u001b[1;31m---------------------------------------------------------------------------\u001b[0m",
      "\u001b[1;31mNameError\u001b[0m                                 Traceback (most recent call last)",
      "Cell \u001b[1;32mIn[7], line 8\u001b[0m\n\u001b[0;32m      1\u001b[0m \u001b[38;5;66;03m# Define model, optimizer, loss function, and scheduler\u001b[39;00m\n\u001b[0;32m      2\u001b[0m \u001b[38;5;66;03m# model_V5 = CNN_V3()  # Make sure this is correctly instantiated\u001b[39;00m\n\u001b[0;32m      3\u001b[0m \u001b[38;5;66;03m# optimizer_V5 = torch.optim.SGD(model.parameters(), lr=0.01, momentum=0.9, weight_decay=1e-3)\u001b[39;00m\n\u001b[1;32m   (...)\u001b[0m\n\u001b[0;32m      6\u001b[0m \n\u001b[0;32m      7\u001b[0m \u001b[38;5;66;03m# Load the saved data\u001b[39;00m\n\u001b[1;32m----> 8\u001b[0m loaded \u001b[38;5;241m=\u001b[39m load_saved_data(\u001b[38;5;124m\"\u001b[39m\u001b[38;5;124mAPL\u001b[39m\u001b[38;5;130;01m\\\\\u001b[39;00m\u001b[38;5;124mModels\u001b[39m\u001b[38;5;130;01m\\\\\u001b[39;00m\u001b[38;5;124mcnn_5.pth\u001b[39m\u001b[38;5;124m\"\u001b[39m, model_APL, optimizer_APL, criterion, scheduler_APL)\n\u001b[0;32m     10\u001b[0m \u001b[38;5;28;01mif\u001b[39;00m loaded:\n\u001b[0;32m     11\u001b[0m     model_APL, criterion, optimizer_APL, scheduler_APL, metrics_APL \u001b[38;5;241m=\u001b[39m loaded\n",
      "\u001b[1;31mNameError\u001b[0m: name 'model_APL' is not defined"
     ]
    }
   ],
   "source": [
    "# Define model, optimizer, loss function, and scheduler\n",
    "# model_V5 = CNN_V3()  # Make sure this is correctly instantiated\n",
    "# optimizer_V5 = torch.optim.SGD(model.parameters(), lr=0.01, momentum=0.9, weight_decay=1e-3)\n",
    "# criterion_V5 = NormalizedFocalLoss()  # Ensure this matches the saved model\n",
    "# scheduler_V5 = torch.optim.lr_scheduler.StepLR(optimizer, step_size=10, gamma=0.5)\n",
    "\n",
    "# Load the saved data\n",
    "loaded = load_saved_data(\"APL\\\\Models\\\\cnn_5.pth\", model_APL, optimizer_APL, criterion, scheduler_APL)\n",
    "\n",
    "if loaded:\n",
    "    model_APL, criterion, optimizer_APL, scheduler_APL, metrics_APL = loaded\n",
    "    print(\"Model and parameters successfully restored!\")\n",
    "    print(metrics)\n",
    "else:\n",
    "    print(\"Failed to load model parameters.\")\n"
   ]
  },
  {
   "cell_type": "code",
   "execution_count": 348,
   "id": "30b43891-ccd0-42a0-840a-03f81e92e7f0",
   "metadata": {},
   "outputs": [
    {
     "data": {
      "text/plain": [
       "(torch.Size([51]), tensor(0.))"
      ]
     },
     "execution_count": 348,
     "metadata": {},
     "output_type": "execute_result"
    }
   ],
   "source": [
    "_,__,___,____ = [metrics_APL[i] for i in metrics_APL]\n",
    "test = torch.cat([_,torch.zeros(1)])\n",
    "test.shape, test[1+49]"
   ]
  },
  {
   "cell_type": "code",
   "execution_count": 384,
   "id": "1858090b-35bf-4c48-b42c-2962214dddc8",
   "metadata": {},
   "outputs": [
    {
     "name": "stdout",
     "output_type": "stream",
     "text": [
      "Criterion: APL\n",
      "Noise Rate: 0.4\n",
      "version=5\n",
      "\n",
      "\n",
      "Resuming Training (New Session) with same model(version=5)... \n",
      "\n",
      "\n",
      "\n",
      "\n",
      "Resuming Training (New Session) with same model (version=5)... \n",
      "\n",
      "\n",
      "train_losses.shape=torch.Size([100])\n",
      "Epoch 51/100 | Train Loss: 1.0167, Train Accuracy: 0.4898 | Test Loss: 0.7812, Test Accuracy: 0.7806 | 30.292 s\n",
      "Epoch 52/100 | Train Loss: 1.0171, Train Accuracy: 0.4868 | Test Loss: 0.7816, Test Accuracy: 0.7737 | 61.303 s\n",
      "Epoch 53/100 | Train Loss: 1.0171, Train Accuracy: 0.4869 | Test Loss: 0.7810, Test Accuracy: 0.7751 | 92.577 s\n",
      "Epoch 54/100 | Train Loss: 1.0168, Train Accuracy: 0.4873 | Test Loss: 0.7837, Test Accuracy: 0.7735 | 123.746 s\n",
      "Epoch 55/100 | Train Loss: 1.0175, Train Accuracy: 0.4854 | Test Loss: 0.7850, Test Accuracy: 0.7736 | 155.016 s\n",
      "Epoch 56/100 | Train Loss: 1.0182, Train Accuracy: 0.4847 | Test Loss: 0.7850, Test Accuracy: 0.7702 | 186.064 s\n",
      "Epoch 57/100 | Train Loss: 1.0190, Train Accuracy: 0.4848 | Test Loss: 0.7886, Test Accuracy: 0.7692 | 218.256 s\n",
      "Received Termination Signal. Terminating...\n",
      "Train Time (New Session): 218.256838s\n",
      "Arch & metrics Saved to APL\\Models\\cnn_5.pth...\n"
     ]
    }
   ],
   "source": [
    "metrics_APL_NEW, train_time_APL_NEW = train_loop(\n",
    "    model=model_APL,\n",
    "    train_data_loader=train_data_loader,\n",
    "    test_data_loader=test_data_loader,\n",
    "    criterion=apl_loss_fn,\n",
    "    optimizer=optimizer_APL,\n",
    "    scheduler=scheduler_APL,\n",
    "    loss_type=\"APL\",\n",
    "    num_epochs=50,\n",
    "    INCLUDE_TEST=True,\n",
    "    DEVICE=DEVICE,\n",
    "    noise_rate=train_data_noise.noise_rate,\n",
    "    continuation=True,\n",
    "    old_metrics=metrics_APL,\n",
    "    continuation_version=5\n",
    ")"
   ]
  },
  {
   "cell_type": "code",
   "execution_count": null,
   "id": "a0202671-346b-4039-a1be-9014003ea7cc",
   "metadata": {},
   "outputs": [],
   "source": []
  }
 ],
 "metadata": {
  "kernelspec": {
   "display_name": "Python [conda env:.conda-ml_stuff]",
   "language": "python",
   "name": "conda-env-.conda-ml_stuff-py"
  },
  "language_info": {
   "codemirror_mode": {
    "name": "ipython",
    "version": 3
   },
   "file_extension": ".py",
   "mimetype": "text/x-python",
   "name": "python",
   "nbconvert_exporter": "python",
   "pygments_lexer": "ipython3",
   "version": "3.11.11"
  }
 },
 "nbformat": 4,
 "nbformat_minor": 5
}
