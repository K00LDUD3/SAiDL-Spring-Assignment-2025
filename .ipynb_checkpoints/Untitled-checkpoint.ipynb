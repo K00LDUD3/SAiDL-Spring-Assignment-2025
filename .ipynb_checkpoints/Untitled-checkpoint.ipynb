{
 "cells": [
  {
   "cell_type": "code",
   "execution_count": 1,
   "id": "7da71e86-9478-46e2-bee4-d4a6b74e82ae",
   "metadata": {},
   "outputs": [],
   "source": [
    "import torch\n",
    "import wandb"
   ]
  },
  {
   "cell_type": "code",
   "execution_count": 3,
   "id": "644bb7cb-517d-47d1-b6c6-8fcbd4914cea",
   "metadata": {},
   "outputs": [
    {
     "name": "stderr",
     "output_type": "stream",
     "text": [
      "wandb: Logging into wandb.ai. (Learn how to deploy a W&B server locally: https://wandb.me/wandb-server)\n",
      "wandb: You can find your API key in your browser here: https://wandb.ai/authorize\n",
      "wandb: Paste an API key from your profile and hit enter:"
     ]
    },
    {
     "name": "stdin",
     "output_type": "stream",
     "text": [
      "  ········\n"
     ]
    },
    {
     "name": "stderr",
     "output_type": "stream",
     "text": [
      "wandb: WARNING If you're specifying your api key in code, ensure this code is not shared publicly.\n",
      "wandb: WARNING Consider setting the WANDB_API_KEY environment variable, or running `wandb login` from the command line.\n",
      "wandb: Appending key for api.wandb.ai to your netrc file: C:\\Users\\91748\\_netrc\n",
      "wandb: Currently logged in as: tanushsrivatsa (tanushsrivatsa-bits-pilani) to https://api.wandb.ai. Use `wandb login --relogin` to force relogin\n",
      "wandb: Using wandb-core as the SDK backend.  Please refer to https://wandb.me/wandb-core for more information.\n"
     ]
    },
    {
     "data": {
      "text/html": [
       "Tracking run with wandb version 0.19.6"
      ],
      "text/plain": [
       "<IPython.core.display.HTML object>"
      ]
     },
     "metadata": {},
     "output_type": "display_data"
    },
    {
     "data": {
      "text/html": [
       "Run data is saved locally in <code>D:\\College Work\\Tanush\\SAiDL-Spring-Assignment-2025\\wandb\\run-20250206_140952-hialc2y6</code>"
      ],
      "text/plain": [
       "<IPython.core.display.HTML object>"
      ]
     },
     "metadata": {},
     "output_type": "display_data"
    },
    {
     "data": {
      "text/html": [
       "Syncing run <strong><a href='https://wandb.ai/tanushsrivatsa-bits-pilani/my_pytorch_project/runs/hialc2y6' target=\"_blank\">iconic-disco-1</a></strong> to <a href='https://wandb.ai/tanushsrivatsa-bits-pilani/my_pytorch_project' target=\"_blank\">Weights & Biases</a> (<a href='https://wandb.me/developer-guide' target=\"_blank\">docs</a>)<br>"
      ],
      "text/plain": [
       "<IPython.core.display.HTML object>"
      ]
     },
     "metadata": {},
     "output_type": "display_data"
    },
    {
     "data": {
      "text/html": [
       " View project at <a href='https://wandb.ai/tanushsrivatsa-bits-pilani/my_pytorch_project' target=\"_blank\">https://wandb.ai/tanushsrivatsa-bits-pilani/my_pytorch_project</a>"
      ],
      "text/plain": [
       "<IPython.core.display.HTML object>"
      ]
     },
     "metadata": {},
     "output_type": "display_data"
    },
    {
     "data": {
      "text/html": [
       " View run at <a href='https://wandb.ai/tanushsrivatsa-bits-pilani/my_pytorch_project/runs/hialc2y6' target=\"_blank\">https://wandb.ai/tanushsrivatsa-bits-pilani/my_pytorch_project/runs/hialc2y6</a>"
      ],
      "text/plain": [
       "<IPython.core.display.HTML object>"
      ]
     },
     "metadata": {},
     "output_type": "display_data"
    }
   ],
   "source": [
    "# Initialize WandB run\n",
    "wandb.init(\n",
    "    project=\"my_pytorch_project\",  # Project name in WandB\n",
    "    config={\"learning_rate\": 0.001, \"epochs\": 10, \"batch_size\": 32}\n",
    ")\n",
    "config = wandb.config"
   ]
  },
  {
   "cell_type": "code",
   "execution_count": 5,
   "id": "9e25d6f2-0d5b-45e7-82dc-3bb3672b8a87",
   "metadata": {},
   "outputs": [
    {
     "name": "stdout",
     "output_type": "stream",
     "text": [
      "Epoch 1, Loss: 1.4371989512443542\n",
      "Epoch 2, Loss: 1.2943162876367569\n",
      "Epoch 3, Loss: 1.2158787524700165\n",
      "Epoch 4, Loss: 1.1114095693826676\n",
      "Epoch 5, Loss: 1.1235342931747436\n",
      "Epoch 6, Loss: 1.0518631768226623\n",
      "Epoch 7, Loss: 1.0127427905797959\n",
      "Epoch 8, Loss: 1.0118869584798813\n",
      "Epoch 9, Loss: 1.048902461528778\n",
      "Epoch 10, Loss: 1.0027424240112304\n"
     ]
    }
   ],
   "source": [
    "# Define model, optimizer, loss\n",
    "model = torch.nn.Linear(10, 1)\n",
    "optimizer = torch.optim.SGD(model.parameters(), lr=config.learning_rate)\n",
    "criterion = torch.nn.MSELoss()\n",
    "\n",
    "for epoch in range(config.epochs):\n",
    "    model.train()\n",
    "    total_loss = 0.0\n",
    "    \n",
    "    # Training step (dummy data example)\n",
    "    for _ in range(100):\n",
    "        inputs = torch.randn(32, 10)\n",
    "        targets = torch.randn(32, 1)\n",
    "        \n",
    "        optimizer.zero_grad()\n",
    "        outputs = model(inputs)\n",
    "        loss = criterion(outputs, targets)\n",
    "        loss.backward()\n",
    "        optimizer.step()\n",
    "        \n",
    "        total_loss += loss.item()\n",
    "\n",
    "    avg_loss = total_loss / 100\n",
    "    \n",
    "    # Log metrics\n",
    "    wandb.log({\"epoch\": epoch, \"loss\": avg_loss})\n",
    "\n",
    "    print(f\"Epoch {epoch + 1}, Loss: {avg_loss}\")"
   ]
  },
  {
   "cell_type": "code",
   "execution_count": 7,
   "id": "fdd8ad88-77cd-4133-b15f-35e1bf8cdc4e",
   "metadata": {},
   "outputs": [],
   "source": [
    "class CustomWandBCallback:\n",
    "    def __init__(self, intervention_epoch=5):\n",
    "        self.intervention_epoch = intervention_epoch\n",
    "\n",
    "    def on_epoch_end(self, epoch, loss):\n",
    "        # Log custom messages to WandB and intervene\n",
    "        wandb.log({\"epoch_end_loss\": loss})\n",
    "\n",
    "        # Intervention example\n",
    "        if epoch == self.intervention_epoch:\n",
    "            print(\"Intervening: Changing learning rate\")\n",
    "            for g in optimizer.param_groups:\n",
    "                g['lr'] = g['lr'] * 0.1  # Reduce LR by a factor of 10\n",
    "            wandb.log({\"new_learning_rate\": g['lr']})\n"
   ]
  },
  {
   "cell_type": "code",
   "execution_count": 9,
   "id": "21420d60-27a4-49b0-91b7-1a14702a9687",
   "metadata": {},
   "outputs": [
    {
     "name": "stdout",
     "output_type": "stream",
     "text": [
      "Intervening: Changing learning rate\n"
     ]
    }
   ],
   "source": [
    "callback = CustomWandBCallback(intervention_epoch=3)\n",
    "\n",
    "for epoch in range(config.epochs):\n",
    "    model.train()\n",
    "    total_loss = 0.0\n",
    "\n",
    "    for _ in range(100):\n",
    "        inputs = torch.randn(32, 10)\n",
    "        targets = torch.randn(32, 1)\n",
    "\n",
    "        optimizer.zero_grad()\n",
    "        outputs = model(inputs)\n",
    "        loss = criterion(outputs, targets)\n",
    "        loss.backward()\n",
    "        optimizer.step()\n",
    "\n",
    "        total_loss += loss.item()\n",
    "\n",
    "    avg_loss = total_loss / 100\n",
    "    callback.on_epoch_end(epoch, avg_loss)\n"
   ]
  },
  {
   "cell_type": "code",
   "execution_count": 15,
   "id": "e046df82-4da2-430b-a40d-1df95ce9bfdc",
   "metadata": {},
   "outputs": [],
   "source": [
    "import time\n",
    "\n",
    "def check_termination_flag(file_path):\n",
    "    \"\"\"\n",
    "    Checks the contents of the .txt file to determine if the loop should terminate.\n",
    "    \n",
    "    :param file_path: Path to the .txt file.\n",
    "    :return: True if the loop should terminate (file contains '0'), False otherwise.\n",
    "    \"\"\"\n",
    "    try:\n",
    "        with open(file_path, 'r') as file:  # Open the file in read mode\n",
    "            content = file.read().strip()  # Read the content and remove any extra whitespace\n",
    "            if content == '0':\n",
    "                return True  # Terminate the loop\n",
    "            elif content == '1':\n",
    "                return False  # Continue the loop\n",
    "            else:\n",
    "                print(f\"Unexpected content in file: {content}. Expected '0' or '1'. Terminating Process...\")\n",
    "                return True  # Continue the loop by default\n",
    "    except FileNotFoundError:\n",
    "        print(f\"File not found: {file_path}\")\n",
    "        return False  # Continue the loop if the file doesn't exist\n",
    "    except Exception as e:\n",
    "        print(f\"Error reading {e}. Terminating Process...\")\n",
    "        return True  # Continue the loop in case of other errors|"
   ]
  },
  {
   "cell_type": "code",
   "execution_count": 19,
   "id": "0775a6b2-913c-4e6f-ac3b-268efb0996be",
   "metadata": {},
   "outputs": [
    {
     "name": "stdout",
     "output_type": "stream",
     "text": [
      "Loop iteration: 0\n",
      "i=1\n",
      "Loop iteration: 1\n",
      "i=2\n",
      "Loop iteration: 2\n",
      "i=3\n",
      "Loop iteration: 3\n",
      "i=4\n",
      "Loop iteration: 4\n",
      "i=5\n",
      "Loop iteration: 5\n",
      "Unexpected content in file: 10. Expected '0' or '1'.\n",
      "i=6\n",
      "Loop iteration: 6\n",
      "Unexpected content in file: 10. Expected '0' or '1'.\n",
      "i=7\n",
      "Loop iteration: 7\n",
      "Unexpected content in file: 10. Expected '0' or '1'.\n",
      "i=8\n",
      "Loop iteration: 8\n",
      "Unexpected content in file: 10. Expected '0' or '1'.\n",
      "i=9\n",
      "Loop iteration: 9\n",
      "Unexpected content in file: 10. Expected '0' or '1'.\n",
      "i=10\n",
      "Loop iteration: 10\n",
      "Unexpected content in file: 10. Expected '0' or '1'.\n",
      "i=11\n",
      "Loop iteration: 11\n",
      "Unexpected content in file: 10. Expected '0' or '1'.\n",
      "i=12\n",
      "Loop iteration: 12\n",
      "Unexpected content in file: 10. Expected '0' or '1'.\n",
      "i=13\n",
      "Loop iteration: 13\n",
      "Unexpected content in file: 10. Expected '0' or '1'.\n",
      "i=14\n",
      "Loop iteration: 14\n",
      "Unexpected content in file: 10. Expected '0' or '1'.\n",
      "i=15\n",
      "Loop iteration: 15\n",
      "Unexpected content in file: 10. Expected '0' or '1'.\n",
      "i=16\n",
      "Loop iteration: 16\n",
      "Unexpected content in file: 10. Expected '0' or '1'.\n",
      "i=17\n",
      "Loop iteration: 17\n",
      "Unexpected content in file: 10. Expected '0' or '1'.\n",
      "i=18\n",
      "Loop iteration: 18\n",
      "Unexpected content in file: 10. Expected '0' or '1'.\n",
      "i=19\n",
      "Loop iteration: 19\n",
      "Unexpected content in file: 10. Expected '0' or '1'.\n",
      "i=20\n",
      "Loop iteration: 20\n",
      "Unexpected content in file: 10. Expected '0' or '1'.\n",
      "i=21\n",
      "Loop iteration: 21\n",
      "Unexpected content in file: 10. Expected '0' or '1'.\n",
      "i=22\n",
      "Loop iteration: 22\n",
      "Unexpected content in file: 10. Expected '0' or '1'.\n",
      "i=23\n",
      "Loop iteration: 23\n",
      "Unexpected content in file: 10. Expected '0' or '1'.\n",
      "i=24\n",
      "Loop iteration: 24\n",
      "Unexpected content in file: 10. Expected '0' or '1'.\n",
      "i=25\n",
      "Loop iteration: 25\n",
      "Termination signal received. Exiting loop.\n"
     ]
    }
   ],
   "source": [
    "file_path=\"TFlag.txt\"\n",
    "i = 0\n",
    "while True:\n",
    "    print(f\"Loop iteration: {i}\")\n",
    "    i += 1\n",
    "\n",
    "    # Check the termination flag\n",
    "    if check_termination_flag(file_path):\n",
    "        print(\"Termination signal received. Exiting loop.\")\n",
    "        break\n",
    "    print(f\"{i=}\")\n",
    "\n",
    "    # Simulate some work\n",
    "    time.sleep(1)"
   ]
  },
  {
   "cell_type": "code",
   "execution_count": null,
   "id": "71e2956a-e6c2-42bc-92ee-578405c7dc04",
   "metadata": {},
   "outputs": [],
   "source": []
  }
 ],
 "metadata": {
  "kernelspec": {
   "display_name": "Python [conda env:.conda-ml_stuff]",
   "language": "python",
   "name": "conda-env-.conda-ml_stuff-py"
  },
  "language_info": {
   "codemirror_mode": {
    "name": "ipython",
    "version": 3
   },
   "file_extension": ".py",
   "mimetype": "text/x-python",
   "name": "python",
   "nbconvert_exporter": "python",
   "pygments_lexer": "ipython3",
   "version": "3.11.11"
  }
 },
 "nbformat": 4,
 "nbformat_minor": 5
}
