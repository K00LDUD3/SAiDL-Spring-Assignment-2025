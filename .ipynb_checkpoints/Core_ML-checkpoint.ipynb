{
 "cells": [
  {
   "cell_type": "markdown",
   "id": "078a4c59-ec13-43e1-8f4e-a0f470b9770b",
   "metadata": {},
   "source": [
    "## Import Block"
   ]
  },
  {
   "cell_type": "code",
   "execution_count": 100,
   "id": "3e8a38fc-2aca-4116-9e4a-1572d7b04516",
   "metadata": {},
   "outputs": [
    {
     "data": {
      "text/plain": [
       "('cuda', '2.5.1+cu118')"
      ]
     },
     "execution_count": 100,
     "metadata": {},
     "output_type": "execute_result"
    }
   ],
   "source": [
    "import torch\n",
    "from torch import nn\n",
    "from torch.utils.data import DataLoader, Dataset\n",
    "from torchvision import datasets, transforms\n",
    "from torchvision.datasets import CIFAR10\n",
    "\n",
    "# from torchmetrics import \n",
    "import random\n",
    "import numpy as np\n",
    "import matplotlib.pyplot as plt\n",
    "\n",
    "from LogTracker import IntegerTracker\n",
    "\n",
    "import copy\n",
    "import math\n",
    "import time \n",
    "\n",
    "DEVICE = 'cuda' if torch.cuda.is_available() else 'cpu'\n",
    "DEVICE, torch.__version__"
   ]
  },
  {
   "cell_type": "code",
   "execution_count": 101,
   "id": "1b5c0ab8-dcef-4f1c-9afb-4f65ad1d2f08",
   "metadata": {},
   "outputs": [],
   "source": [
    "LOWER, UPPER = 0.2, 0.8"
   ]
  },
  {
   "cell_type": "code",
   "execution_count": 102,
   "id": "b32755da-3d16-40cb-ba6e-55042403e6e3",
   "metadata": {},
   "outputs": [
    {
     "data": {
      "text/plain": [
       "<torch._C.Generator at 0x28d0fe7ac70>"
      ]
     },
     "execution_count": 102,
     "metadata": {},
     "output_type": "execute_result"
    }
   ],
   "source": [
    "torch.manual_seed(24)"
   ]
  },
  {
   "cell_type": "markdown",
   "id": "c335cff0-92c4-42e1-a952-1ed67a714370",
   "metadata": {},
   "source": [
    "## Transforms"
   ]
  },
  {
   "cell_type": "code",
   "execution_count": 104,
   "id": "649af436-0e44-4947-8d7e-faa84a76eeaf",
   "metadata": {},
   "outputs": [
    {
     "name": "stdout",
     "output_type": "stream",
     "text": [
      "Files already downloaded and verified\n",
      "Files already downloaded and verified\n"
     ]
    }
   ],
   "source": [
    "transform_v1 = transforms.Compose([ ### VER 1\n",
    "    transforms.ToTensor(),\n",
    "    transforms.Normalize((0.5, 0.5, 0.5), (0.5, 0.5, 0.5))\n",
    "])\n",
    "transform_v2 = transforms.Compose([ ###VER 2\n",
    "    transforms.RandomCrop(32, padding=4),  # Randomly crop with padding\n",
    "    transforms.RandomHorizontalFlip(p=0.5),  # Flip images with 50% probability\n",
    "    transforms.ColorJitter(brightness=0.2, contrast=0.2, saturation=0.2, hue=0.1),  # Color Augmentation\n",
    "    transforms.RandomRotation(15),  # Rotate by ±15 degrees\n",
    "    transforms.RandomAffine(degrees=0, translate=(0.1, 0.1)),  # Random shifting\n",
    "    transforms.ToTensor(),\n",
    "    transforms.Normalize((0.5, 0.5, 0.5), (0.5, 0.5, 0.5)),\n",
    "    transforms.RandomErasing(p=0.2)  # Randomly erase parts of the image\n",
    "])\n",
    "\n",
    "transform = transforms.Compose([ ###VER 3\n",
    "    transforms.RandomHorizontalFlip(p=0.5),  # 50% chance of mirroring\n",
    "    transforms.RandomRotation(10),  # Rotate by ±10 degrees\n",
    "    transforms.ToTensor(),\n",
    "    transforms.Normalize((0.5, 0.5, 0.5), (0.5, 0.5, 0.5))\n",
    "])\n",
    "train_dataset = CIFAR10(root='data', download=True ,transform=transform, train=True)\n",
    "test_dataset = CIFAR10(root='data', download=True ,transform=transform, train=False)"
   ]
  },
  {
   "cell_type": "code",
   "execution_count": 105,
   "id": "a0ec9534-d24a-4193-ae66-ef6738a3489d",
   "metadata": {},
   "outputs": [
    {
     "data": {
      "text/plain": [
       "50000"
      ]
     },
     "execution_count": 105,
     "metadata": {},
     "output_type": "execute_result"
    }
   ],
   "source": [
    "len(train_dataset)"
   ]
  },
  {
   "cell_type": "code",
   "execution_count": 106,
   "id": "5a97059f-14b6-431e-bdc7-aedded602841",
   "metadata": {},
   "outputs": [
    {
     "name": "stderr",
     "output_type": "stream",
     "text": [
      "Clipping input data to the valid range for imshow with RGB data ([0..1] for floats or [0..255] for integers). Got range [-1.0..0.99215686].\n"
     ]
    },
    {
     "data": {
      "text/plain": [
       "(32, 32, 3)"
      ]
     },
     "execution_count": 106,
     "metadata": {},
     "output_type": "execute_result"
    },
    {
     "data": {
      "image/png": "[encoded data removed]",
      "text/plain": [
       "<Figure size 640x480 with 1 Axes>"
      ]
     },
     "metadata": {},
     "output_type": "display_data"
    }
   ],
   "source": [
    "img, lab = train_dataset[1]\n",
    "img= img.numpy().transpose((1, 2, 0))\n",
    "plt.imshow(img)\n",
    "plt.title(lab)\n",
    "img.shape"
   ]
  },
  {
   "cell_type": "code",
   "execution_count": 107,
   "id": "25b18171-84f0-47eb-afc2-3f02b5e46c1b",
   "metadata": {},
   "outputs": [
    {
     "data": {
      "text/plain": [
       "10"
      ]
     },
     "execution_count": 107,
     "metadata": {},
     "output_type": "execute_result"
    }
   ],
   "source": [
    "num_classes = len(train_dataset.classes)\n",
    "num_classes"
   ]
  },
  {
   "cell_type": "code",
   "execution_count": 108,
   "id": "11e1a60c-60d0-49ce-8e00-eedd27194393",
   "metadata": {},
   "outputs": [
    {
     "name": "stdout",
     "output_type": "stream",
     "text": [
      "Mask Info...\n",
      "\tExpected Noise Rate: 0.368 | Actual Noise Rate:  0.366 | Samples : 50000\n"
     ]
    }
   ],
   "source": [
    "def NoiseLabels(dataset : CIFAR10, lower=LOWER, upper=UPPER, noise_rate=None):\n",
    "    if noise_rate == None:\n",
    "        noise_rate = random.uniform(lower, upper)\n",
    "    \n",
    "    targets = np.array(dataset.targets)\n",
    "    n_samples = len(targets)\n",
    "    \n",
    "    noise_bools = np.random.rand(n_samples) < noise_rate\n",
    "    true_vals = np.sum(noise_bools)\n",
    "\n",
    "    #\n",
    "    print(f\"Mask Info...\\n\\tExpected Noise Rate: {noise_rate:.3f} | Actual Noise Rate: {true_vals/len(noise_bools) : .3f} | Samples : {(len(noise_bools))}\")\n",
    "\n",
    "    for i in range(len(noise_bools)):\n",
    "        if not noise_bools[i]:\n",
    "            continue\n",
    "\n",
    "        original_label = targets[i]\n",
    "\n",
    "        def RandomLabel():\n",
    "            random_label = np.random.choice(targets)\n",
    "            return random_label if random_label != original_label else RandomLabel()\n",
    "        new_label = RandomLabel()\n",
    "        targets[i] = new_label\n",
    "    dataset.targets = targets.tolist()\n",
    "    return dataset\n",
    "# train_data = datasets.CIFAR10(root='data', download=True, train=True, transform=transform)\n",
    "train_data_noise = NoiseLabels(copy.deepcopy(train_dataset))\n"
   ]
  },
  {
   "cell_type": "markdown",
   "id": "7aecc64b-d0f9-46a6-8b70-28010e0ae7f2",
   "metadata": {},
   "source": [
    "## Noisy Dataset - Inherited Class"
   ]
  },
  {
   "cell_type": "code",
   "execution_count": 110,
   "id": "23d90bba-276c-48fd-b638-edb3ee3ce4cc",
   "metadata": {
    "scrolled": true
   },
   "outputs": [
    {
     "name": "stdout",
     "output_type": "stream",
     "text": [
      "Files already downloaded and verified\n",
      "Mask Info...\n",
      "\tExpected Noise Rate: 0.500 | Actual Noise Rate:  0.501 | True/False : 1.002\n"
     ]
    }
   ],
   "source": [
    "class NoisyDataset(CIFAR10):\n",
    "    def __init__(self, root='data', transform=None, train=True, download=True, lower=LOWER, upper=UPPER):\n",
    "            \n",
    "        super().__init__(root=root, train=train, transform=transform, download=download)\n",
    "        self.noise_rate = 0.2 + (0.8 - 0.2) * torch.rand(1).item()\n",
    "        self.noise_rate = 0.5\n",
    "        # print(f\"Randomly chosen noise rate: {self.noise_rate}\")\n",
    "        # self.classes = len(self.classes)\n",
    "        self.__Corrupt()\n",
    "\n",
    "    def __Corrupt(self):\n",
    "        targets = torch.tensor(self.targets)\n",
    "\n",
    "        n_samples = targets.size(0)\n",
    "        \n",
    "        noise_bools = torch.rand(n_samples) < self.noise_rate\n",
    "        \n",
    "        #\n",
    "        true_vals = noise_bools.sum().item()\n",
    "        print(f\"Mask Info...\\n\\tExpected Noise Rate: {self.noise_rate:.3f} | Actual Noise Rate: {true_vals/len(noise_bools) : .3f} | True/False : {true_vals/(len(noise_bools) - true_vals) :.3f}\")\n",
    "        \n",
    "        for i in range(len(noise_bools)):\n",
    "            if not noise_bools[i]:\n",
    "                continue\n",
    "            \n",
    "            original_label = targets[i]\n",
    "            new_label = self.__ChooseRandomLabel(original_label, targets)\n",
    "            targets[i] = new_label\n",
    "            \n",
    "        self.targets = targets.tolist()\n",
    "\n",
    "    @staticmethod\n",
    "    def __ChooseRandomLabel(original_label, targets):\n",
    "        possible_labels = list(range(num_classes))\n",
    "        possible_labels.remove(original_label)\n",
    "        new_label = possible_labels[torch.randint(0, len(possible_labels), (1,)).item()]\n",
    "        return new_label\n",
    "train_data_noise = NoisyDataset(root='data', train=True, transform=transform)"
   ]
  },
  {
   "cell_type": "markdown",
   "id": "7879f311-af04-4044-a955-e109df2a401b",
   "metadata": {},
   "source": [
    "## Normalized Cross Entropy - V1"
   ]
  },
  {
   "cell_type": "code",
   "execution_count": 112,
   "id": "064b0cd3-8d29-4be9-8c75-aab3f3d4a955",
   "metadata": {},
   "outputs": [],
   "source": [
    "class NormalizedCrossEntropyLoss(nn.Module):\n",
    "    def __init__(self, reduction='mean'):\n",
    "        super(NormalizedCrossEntropyLoss, self).__init__()\n",
    "        self.reduction = reduction\n",
    "        self.cross_entropy = nn.CrossEntropyLoss(reduction='none')\n",
    "\n",
    "    def forward(self, logits, targets):\n",
    "        # Compute standard cross-entropy loss\n",
    "        ce_loss = self.cross_entropy(logits, targets)\n",
    "        \n",
    "        # Compute the entropy of the target distribution\n",
    "        target_probs = torch.softmax(logits, dim=-1)\n",
    "        entropy = -torch.sum(target_probs * torch.log(target_probs + 1e-12), dim=-1)\n",
    "\n",
    "        # Normalize the cross-entropy loss by entropy\n",
    "        normalized_loss = ce_loss / (entropy + 1e-12)\n",
    "\n",
    "        if self.reduction == 'mean':\n",
    "            return normalized_loss.mean()\n",
    "        elif self.reduction == 'sum':\n",
    "            return normalized_loss.sum()\n",
    "        else:\n",
    "            return normalized_loss"
   ]
  },
  {
   "cell_type": "markdown",
   "id": "5be9bd0a-3944-4076-a732-53c321bfae5e",
   "metadata": {},
   "source": [
    "## Normalized Cross Entropy - V2 REVISED"
   ]
  },
  {
   "cell_type": "code",
   "execution_count": 114,
   "id": "f981cddd-838e-4cd9-b440-822fcd85b305",
   "metadata": {},
   "outputs": [],
   "source": [
    "class NormalizedCrossEntropyLoss_REVISED(nn.Module):\n",
    "    def __init__(self, reduction='mean'):\n",
    "        super(NormalizedCrossEntropyLoss_REVISED, self).__init__()\n",
    "        self.reduction = reduction\n",
    "        self.cross_entropy = nn.CrossEntropyLoss(reduction='none')  # Keep 'none' for per-sample loss\n",
    "\n",
    "    def forward(self, logits, targets):\n",
    "        # Compute standard cross-entropy loss\n",
    "        ce_loss = self.cross_entropy(logits, targets)\n",
    "        \n",
    "        # Compute the entropy of the target distribution\n",
    "        target_probs = torch.softmax(logits, dim=-1)\n",
    "        entropy = -torch.sum(target_probs * torch.log(target_probs + 1e-12), dim=-1)\n",
    "\n",
    "        # Normalize the cross-entropy loss by entropy\n",
    "        normalized_loss = ce_loss / (entropy + 1e-12)\n",
    "\n",
    "        # Apply reduction\n",
    "        if self.reduction == 'mean':\n",
    "            return normalized_loss.mean()  # Scalar\n",
    "        elif self.reduction == 'sum':\n",
    "            return normalized_loss.sum()  # Scalar\n",
    "        else:\n",
    "            return normalized_loss  # No reduction, returns a tensor\n"
   ]
  },
  {
   "cell_type": "code",
   "execution_count": 115,
   "id": "795542ef-1e5a-46f4-9be7-8e876cf7b984",
   "metadata": {
    "jupyter": {
     "source_hidden": true
    }
   },
   "outputs": [],
   "source": [
    "classes = train_data_noise.classes"
   ]
  },
  {
   "cell_type": "markdown",
   "id": "d5c736ac-cacd-46a2-829c-cf2cfc745823",
   "metadata": {},
   "source": [
    "## Dataloaders && Batch Size"
   ]
  },
  {
   "cell_type": "code",
   "execution_count": 117,
   "id": "9dfd694a-b312-4429-97ff-68e5c74ba989",
   "metadata": {},
   "outputs": [
    {
     "data": {
      "text/plain": [
       "(195, 39)"
      ]
     },
     "execution_count": 117,
     "metadata": {},
     "output_type": "execute_result"
    }
   ],
   "source": [
    "BATCH_SIZE = 256\n",
    "\n",
    "train_data_loader = DataLoader(\n",
    "    train_data_noise, \n",
    "    batch_size=BATCH_SIZE,\n",
    "    shuffle=True,\n",
    "    drop_last=True\n",
    ")\n",
    "\n",
    "test_data_loader = DataLoader(\n",
    "    test_dataset, \n",
    "    batch_size=BATCH_SIZE,\n",
    "    shuffle=True,\n",
    "    drop_last=True\n",
    ")\n",
    "\n",
    "len(train_data_loader), len(test_data_loader)"
   ]
  },
  {
   "cell_type": "code",
   "execution_count": 118,
   "id": "a3732a04-67cd-4f69-9b80-79eefba0ac1e",
   "metadata": {
    "scrolled": true
   },
   "outputs": [],
   "source": [
    "def show_images_with_labels(data_loader, class_names, num_images=16):\n",
    "    images, labels = next(iter(data_loader))\n",
    "    \n",
    "    grid_size = int(np.sqrt(num_images))\n",
    "    assert grid_size ** 2 == num_images, \"num_images must be a perfect square.\"\n",
    "    \n",
    "    images = images.permute(0, 2, 3, 1).numpy()  # Convert to (batch_size, height, width, channels)\n",
    "    images = (images * 0.5) + 0.5  # Assuming images were normalized to [-1, 1]\n",
    "    \n",
    "    # Create a grid of subplots\n",
    "    fig, axes = plt.subplots(grid_size, grid_size, figsize=(8, 8))\n",
    "    fig.suptitle(\"Images and Labels\", fontsize=16)\n",
    "    \n",
    "    for i, ax in enumerate(axes.flatten()):\n",
    "        if i >= num_images:\n",
    "            break\n",
    "        ax.imshow(images[i])\n",
    "        ax.axis(\"off\") \n",
    "        ax.set_title(class_names[labels[i].item()], fontsize=10, color=\"black\")\n",
    "    \n",
    "    plt.tight_layout()\n",
    "    plt.show()\n",
    "\n",
    "\n",
    "# show_images_with_labels(train_data_loader, classes, num_images=16)"
   ]
  },
  {
   "cell_type": "markdown",
   "id": "2312a65b-e38e-47c0-9a5a-9f63692481be",
   "metadata": {},
   "source": [
    "## Model - V1"
   ]
  },
  {
   "cell_type": "code",
   "execution_count": 120,
   "id": "60663117-c0db-4c15-b4c8-1481fdff4f4e",
   "metadata": {},
   "outputs": [
    {
     "data": {
      "text/plain": [
       "'\\nmodel = CNN_V1(\\n    input_shape=3, #3 color channels\\n    hidden_units=32,\\n    output_shape=len(classes)\\n)\\nmodel\\n'"
      ]
     },
     "execution_count": 120,
     "metadata": {},
     "output_type": "execute_result"
    }
   ],
   "source": [
    "\n",
    "class CNN_V1(nn.Module):\n",
    "    def __init__(self, input_shape, hidden_units, output_shape):\n",
    "        super().__init__()\n",
    "        self.block1 = nn.Sequential(\n",
    "            nn.Conv2d(in_channels=input_shape, out_channels=hidden_units, kernel_size=3, stride=1, padding=1),\n",
    "            nn.ReLU(),\n",
    "            nn.Conv2d(in_channels=hidden_units, out_channels=hidden_units, kernel_size=3, stride=1, padding=1),\n",
    "            nn.ReLU(),\n",
    "            nn.MaxPool2d(kernel_size=2, stride=2)  # Reduces 32x32 -> 16x16\n",
    "        )\n",
    "        self.block2 = nn.Sequential(\n",
    "            nn.Conv2d(in_channels=hidden_units, out_channels=hidden_units * 2, kernel_size=3, stride=1, padding=1),\n",
    "            nn.ReLU(),\n",
    "            nn.Conv2d(in_channels=hidden_units * 2, out_channels=hidden_units * 2, kernel_size=3, stride=1, padding=1),\n",
    "            nn.ReLU(),\n",
    "            nn.MaxPool2d(kernel_size=2, stride=2)  # Reduces 16x16 -> 8x8\n",
    "        )\n",
    "        self.block3 = nn.Sequential(\n",
    "            nn.Conv2d(in_channels=hidden_units * 2, out_channels=hidden_units * 4, kernel_size=3, stride=1, padding=1),\n",
    "            nn.ReLU(),\n",
    "            nn.Conv2d(in_channels=hidden_units * 4, out_channels=hidden_units * 4, kernel_size=3, stride=1, padding=1),\n",
    "            nn.ReLU(),\n",
    "            nn.MaxPool2d(kernel_size=2, stride=2)  # Reduces 8x8 -> 4x4\n",
    "        )\n",
    "        self.classifier = nn.Sequential(\n",
    "            nn.Flatten(),\n",
    "            nn.Linear(in_features=hidden_units * 4 * 4 * 4, out_features=256),  # Flattened size: 4x4x(hidden_units * 4)\n",
    "            nn.ReLU(),\n",
    "            nn.Dropout(0.5),\n",
    "            nn.Linear(in_features=256, out_features=output_shape)  # Output size: number of classes\n",
    "        )\n",
    "\n",
    "    def forward(self, x, print_dims=False):\n",
    "        y_b1 = self.block1(x)\n",
    "        y_b2 = self.block2(y_b1)\n",
    "        y_b3 = self.block3(y_b2)\n",
    "        y = self.classifier(y_b3)\n",
    "        if print_dims:\n",
    "            print(f\"{y_b1.shape=}\")\n",
    "            print(f\"{y_b2.shape=}\")\n",
    "            print(f\"{y_b3.shape=}\")\n",
    "            print(f\"{y.shape=}\")\n",
    "        return y\n",
    "\"\"\"\n",
    "model = CNN_V1(\n",
    "    input_shape=3, #3 color channels\n",
    "    hidden_units=32,\n",
    "    output_shape=len(classes)\n",
    ")\n",
    "model\n",
    "\"\"\""
   ]
  },
  {
   "cell_type": "markdown",
   "id": "f796ab6b-d0e1-4e5d-8f72-1b63cec9809b",
   "metadata": {},
   "source": [
    "## Model - V2"
   ]
  },
  {
   "cell_type": "code",
   "execution_count": 122,
   "id": "a7eeb3f1-2c52-4caf-8953-15ecb8a42d91",
   "metadata": {},
   "outputs": [
    {
     "data": {
      "text/plain": [
       "SimpleCNN(\n",
       "  (conv_layers): Sequential(\n",
       "    (0): Conv2d(3, 32, kernel_size=(3, 3), stride=(1, 1), padding=(1, 1))\n",
       "    (1): BatchNorm2d(32, eps=1e-05, momentum=0.1, affine=True, track_running_stats=True)\n",
       "    (2): ReLU()\n",
       "    (3): Conv2d(32, 32, kernel_size=(3, 3), stride=(1, 1), padding=(1, 1))\n",
       "    (4): BatchNorm2d(32, eps=1e-05, momentum=0.1, affine=True, track_running_stats=True)\n",
       "    (5): ReLU()\n",
       "    (6): MaxPool2d(kernel_size=2, stride=2, padding=0, dilation=1, ceil_mode=False)\n",
       "    (7): Conv2d(32, 64, kernel_size=(3, 3), stride=(1, 1), padding=(1, 1))\n",
       "    (8): BatchNorm2d(64, eps=1e-05, momentum=0.1, affine=True, track_running_stats=True)\n",
       "    (9): ReLU()\n",
       "    (10): Conv2d(64, 64, kernel_size=(3, 3), stride=(1, 1), padding=(1, 1))\n",
       "    (11): BatchNorm2d(64, eps=1e-05, momentum=0.1, affine=True, track_running_stats=True)\n",
       "    (12): ReLU()\n",
       "    (13): MaxPool2d(kernel_size=2, stride=2, padding=0, dilation=1, ceil_mode=False)\n",
       "    (14): Conv2d(64, 128, kernel_size=(3, 3), stride=(1, 1), padding=(1, 1))\n",
       "    (15): BatchNorm2d(128, eps=1e-05, momentum=0.1, affine=True, track_running_stats=True)\n",
       "    (16): ReLU()\n",
       "    (17): Conv2d(128, 128, kernel_size=(3, 3), stride=(1, 1), padding=(1, 1))\n",
       "    (18): BatchNorm2d(128, eps=1e-05, momentum=0.1, affine=True, track_running_stats=True)\n",
       "    (19): ReLU()\n",
       "    (20): MaxPool2d(kernel_size=2, stride=2, padding=0, dilation=1, ceil_mode=False)\n",
       "  )\n",
       "  (fc_layers): Sequential(\n",
       "    (0): Flatten(start_dim=1, end_dim=-1)\n",
       "    (1): Linear(in_features=2048, out_features=256, bias=True)\n",
       "    (2): ReLU()\n",
       "    (3): Dropout(p=0.5, inplace=False)\n",
       "    (4): Linear(in_features=256, out_features=10, bias=True)\n",
       "  )\n",
       ")"
      ]
     },
     "execution_count": 122,
     "metadata": {},
     "output_type": "execute_result"
    }
   ],
   "source": [
    "class SimpleCNN(nn.Module):\n",
    "    def __init__(self, num_classes=10):\n",
    "        super(SimpleCNN, self).__init__()\n",
    "        \n",
    "        self.conv_layers = nn.Sequential(\n",
    "            nn.Conv2d(3, 32, kernel_size=3, padding=1),\n",
    "            nn.BatchNorm2d(32),\n",
    "            nn.ReLU(),\n",
    "            nn.Conv2d(32, 32, kernel_size=3, padding=1),\n",
    "            nn.BatchNorm2d(32),\n",
    "            nn.ReLU(),\n",
    "            nn.MaxPool2d(2, 2),  # 32x32 -> 16x16\n",
    "\n",
    "            nn.Conv2d(32, 64, kernel_size=3, padding=1),\n",
    "            nn.BatchNorm2d(64),\n",
    "            nn.ReLU(),\n",
    "            nn.Conv2d(64, 64, kernel_size=3, padding=1),\n",
    "            nn.BatchNorm2d(64),\n",
    "            nn.ReLU(),\n",
    "            nn.MaxPool2d(2, 2),  # 16x16 -> 8x8\n",
    "\n",
    "            nn.Conv2d(64, 128, kernel_size=3, padding=1),\n",
    "            nn.BatchNorm2d(128),\n",
    "            nn.ReLU(),\n",
    "            nn.Conv2d(128, 128, kernel_size=3, padding=1),\n",
    "            nn.BatchNorm2d(128),\n",
    "            nn.ReLU(),\n",
    "            nn.MaxPool2d(2, 2)  # 8x8 -> 4x4\n",
    "        )\n",
    "\n",
    "        self.fc_layers = nn.Sequential(\n",
    "            nn.Flatten(),\n",
    "            nn.Linear(128 * 4 * 4, 256),\n",
    "            nn.ReLU(),\n",
    "            nn.Dropout(0.5),\n",
    "            nn.Linear(256, num_classes)\n",
    "        )\n",
    "\n",
    "    def forward(self, x):\n",
    "        x = self.conv_layers(x)\n",
    "        x = self.fc_layers(x)\n",
    "        return x\n",
    "\n",
    "\n",
    "model = SimpleCNN(num_classes=num_classes)\n",
    "model"
   ]
  },
  {
   "cell_type": "markdown",
   "id": "3fd04a7b-9143-4540-b6a1-f7f7255b58ca",
   "metadata": {},
   "source": [
    "## Loss Function & Optimizer - V1"
   ]
  },
  {
   "cell_type": "code",
   "execution_count": 124,
   "id": "13051435-9b32-4a91-92f2-90f05885c8ff",
   "metadata": {},
   "outputs": [],
   "source": [
    "# loss_fn_cnn = NormalizedCrossEntropyLoss_REVISED(model)\n",
    "# loss_fn_cnn = nn.CrossEntropyLoss()\n",
    "# optimizer = torch.optim.AdamW(model.parameters(), lr=0.001, weight_decay=1e-4)"
   ]
  },
  {
   "cell_type": "markdown",
   "id": "ec86e9fe-941d-4013-a0e1-9ee90f4e2918",
   "metadata": {},
   "source": [
    "## Loss Function & Optimizer - V2"
   ]
  },
  {
   "cell_type": "code",
   "execution_count": 126,
   "id": "4e2f04a1-41e8-4ed1-8bde-7fd6ff22361b",
   "metadata": {},
   "outputs": [],
   "source": [
    "optimizer = torch.optim.SGD(model.parameters(), lr=0.01, momentum=0.9, weight_decay=1e-3)\n",
    "scheduler = torch.optim.lr_scheduler.StepLR(optimizer, step_size=10, gamma=0.5)  # Reduce LR every 10 epochs\n",
    "criterion = NormalizedCrossEntropyLoss_REVISED(model)"
   ]
  },
  {
   "cell_type": "markdown",
   "id": "fd8f5691-4c3b-4472-8291-85bdb82f12a4",
   "metadata": {},
   "source": [
    "## Loss Function & Optimizer - V3"
   ]
  },
  {
   "cell_type": "code",
   "execution_count": 128,
   "id": "0084995a-81a1-4c9f-b46e-53598ce8a8c0",
   "metadata": {},
   "outputs": [],
   "source": [
    "# optimizer = torch.optim.AdamW(\n",
    "#     model.parameters(),  # Ensure `model` is defined\n",
    "#     lr=0.001,            # Initial learning rate\n",
    "#     betas=(0.9, 0.999),  # Default values for AdamW\n",
    "#     eps=1e-8,            # Small epsilon value for numerical stability\n",
    "#     weight_decay=0.01    # L2 regularization strength\n",
    "# )\n",
    "# scheduler = torch.optim.lr_scheduler.CosineAnnealingLR(optimizer, T_max=200, eta_min=1e-6)\n",
    "# criterion = NormalizedCrossEntropyLoss_REVISED(model)"
   ]
  },
  {
   "cell_type": "code",
   "execution_count": 129,
   "id": "ca7be47b-adef-4746-941f-6cf3930f6db8",
   "metadata": {
    "scrolled": true
   },
   "outputs": [
    {
     "data": {
      "text/plain": [
       "(NormalizedCrossEntropyLoss_REVISED(\n",
       "   (reduction): SimpleCNN(\n",
       "     (conv_layers): Sequential(\n",
       "       (0): Conv2d(3, 32, kernel_size=(3, 3), stride=(1, 1), padding=(1, 1))\n",
       "       (1): BatchNorm2d(32, eps=1e-05, momentum=0.1, affine=True, track_running_stats=True)\n",
       "       (2): ReLU()\n",
       "       (3): Conv2d(32, 32, kernel_size=(3, 3), stride=(1, 1), padding=(1, 1))\n",
       "       (4): BatchNorm2d(32, eps=1e-05, momentum=0.1, affine=True, track_running_stats=True)\n",
       "       (5): ReLU()\n",
       "       (6): MaxPool2d(kernel_size=2, stride=2, padding=0, dilation=1, ceil_mode=False)\n",
       "       (7): Conv2d(32, 64, kernel_size=(3, 3), stride=(1, 1), padding=(1, 1))\n",
       "       (8): BatchNorm2d(64, eps=1e-05, momentum=0.1, affine=True, track_running_stats=True)\n",
       "       (9): ReLU()\n",
       "       (10): Conv2d(64, 64, kernel_size=(3, 3), stride=(1, 1), padding=(1, 1))\n",
       "       (11): BatchNorm2d(64, eps=1e-05, momentum=0.1, affine=True, track_running_stats=True)\n",
       "       (12): ReLU()\n",
       "       (13): MaxPool2d(kernel_size=2, stride=2, padding=0, dilation=1, ceil_mode=False)\n",
       "       (14): Conv2d(64, 128, kernel_size=(3, 3), stride=(1, 1), padding=(1, 1))\n",
       "       (15): BatchNorm2d(128, eps=1e-05, momentum=0.1, affine=True, track_running_stats=True)\n",
       "       (16): ReLU()\n",
       "       (17): Conv2d(128, 128, kernel_size=(3, 3), stride=(1, 1), padding=(1, 1))\n",
       "       (18): BatchNorm2d(128, eps=1e-05, momentum=0.1, affine=True, track_running_stats=True)\n",
       "       (19): ReLU()\n",
       "       (20): MaxPool2d(kernel_size=2, stride=2, padding=0, dilation=1, ceil_mode=False)\n",
       "     )\n",
       "     (fc_layers): Sequential(\n",
       "       (0): Flatten(start_dim=1, end_dim=-1)\n",
       "       (1): Linear(in_features=2048, out_features=256, bias=True)\n",
       "       (2): ReLU()\n",
       "       (3): Dropout(p=0.5, inplace=False)\n",
       "       (4): Linear(in_features=256, out_features=10, bias=True)\n",
       "     )\n",
       "   )\n",
       "   (cross_entropy): CrossEntropyLoss()\n",
       " ),\n",
       " SGD (\n",
       " Parameter Group 0\n",
       "     dampening: 0\n",
       "     differentiable: False\n",
       "     foreach: None\n",
       "     fused: None\n",
       "     initial_lr: 0.01\n",
       "     lr: 0.01\n",
       "     maximize: False\n",
       "     momentum: 0.9\n",
       "     nesterov: False\n",
       "     weight_decay: 0.001\n",
       " ),\n",
       " <torch.optim.lr_scheduler.StepLR at 0x28d1fcd1510>)"
      ]
     },
     "execution_count": 129,
     "metadata": {},
     "output_type": "execute_result"
    }
   ],
   "source": [
    "criterion, optimizer, scheduler"
   ]
  },
  {
   "cell_type": "markdown",
   "id": "eb8b2e9f-ed33-4203-9bbc-50669c0a3d0d",
   "metadata": {},
   "source": [
    "## Test Accuracy "
   ]
  },
  {
   "cell_type": "code",
   "execution_count": 131,
   "id": "3cf50221-84ab-45a7-864c-c42fa09491bf",
   "metadata": {},
   "outputs": [],
   "source": [
    "def evaluate_model(model, dataloader, loss_fn, device='cuda'):\n",
    "    model.to(device)\n",
    "    model.eval()  # Set the model to evaluation mode\n",
    "\n",
    "    correct = 0\n",
    "    total = 0\n",
    "    running_loss = 0.0\n",
    "\n",
    "    with torch.no_grad():  # Disable gradient computation for efficiency\n",
    "        for images, labels in dataloader:\n",
    "            images, labels = images.to(device), labels.to(device)\n",
    "\n",
    "            # Forward pass\n",
    "            outputs = model(images)\n",
    "            loss = loss_fn(outputs, labels)\n",
    "            loss = loss.mean() if loss.dim() > 0 else loss\n",
    "\n",
    "            running_loss += loss.item() * images.size(0)\n",
    "            _, predicted = torch.max(outputs, 1)\n",
    "            total += labels.size(0)\n",
    "            correct += (predicted == labels).sum().item()\n",
    "\n",
    "    test_loss = running_loss / total\n",
    "    test_acc = correct / total\n",
    "\n",
    "    \n",
    "    model.train()\n",
    "    return test_loss, test_acc\n",
    "    \n",
    "# test_loss, test_acc = evaluate_model(model, test_data_loader, device=DEVICE)"
   ]
  },
  {
   "cell_type": "markdown",
   "id": "3f4f9322-0cb1-421d-a7e9-8bf1ab6b168a",
   "metadata": {},
   "source": [
    "## Train Loop - V1"
   ]
  },
  {
   "cell_type": "code",
   "execution_count": 133,
   "id": "18b6fd9c-3214-4755-83be-ebb97f800ea1",
   "metadata": {},
   "outputs": [],
   "source": [
    "def train_model(model, dataloader, optimizer, loss_fn, num_epochs=10, device='cuda'):\n",
    "    model.to(device)\n",
    "    for epoch in range(num_epochs):\n",
    "        model.train()\n",
    "        running_loss = 0.0\n",
    "        correct = 0\n",
    "        total = 0\n",
    "\n",
    "        \n",
    "        for images, labels in dataloader:\n",
    "            images, labels = images.to(device), labels.to(device)\n",
    "\n",
    "            # Forward pass\n",
    "            outputs = model(images)\n",
    "            # print(\"Logits range:\", outputs.min().item(), outputs.max().item())\n",
    "            loss = loss_fn(outputs, labels)\n",
    "            loss = loss.mean() if loss.dim() > 0 else loss\n",
    "            # print(f\"Loss shape: {loss.shape}\")\n",
    "\n",
    "            \n",
    "            # Backward pass\n",
    "            model.train()\n",
    "            optimizer.zero_grad()\n",
    "            loss.backward()\n",
    "            optimizer.step()\n",
    "\n",
    "            # Statistics\n",
    "            #ADD Testaccruracy\n",
    "            \n",
    "            running_loss += loss.item() * images.size(0)\n",
    "            _, predicted = torch.max(outputs, 1)\n",
    "            total += labels.size(0)\n",
    "            correct += (predicted == labels).sum().item()\n",
    "\n",
    "        epoch_loss = running_loss / total\n",
    "        epoch_acc = correct / total\n",
    "        test_loss, test_acc = evaluate_model(model, test_data_loader, device=DEVICE)\n",
    "        test_loss, test_acc = 0,0\n",
    "        print(f\"Epoch {epoch + 1}/{num_epochs} | Loss: {epoch_loss:.4f}, Accuracy: {epoch_acc:.4f} | Test Loss: {test_loss:.4f}, Test Accuracy: {test_acc:.4f}\") \n",
    "\n",
    "# Train the model\n",
    "# train_model(model, train_data_loader, optimizer, loss_fn=loss_fn_cnn, num_epochs=10, device=DEVICE)"
   ]
  },
  {
   "cell_type": "markdown",
   "id": "6f05fdfc-d858-4dda-a100-49b3bf3e0898",
   "metadata": {},
   "source": [
    "### Termination flag checker and logger for remote logger"
   ]
  },
  {
   "cell_type": "code",
   "execution_count": 135,
   "id": "52f0d73c-c21a-4dfa-ac00-aaa6999d1ff7",
   "metadata": {},
   "outputs": [],
   "source": [
    "def check_termination_flag(file_path=\"TFlag.txt\"):\n",
    "    try:\n",
    "        with open(file_path, 'r') as file:  # Open the file in read mode\n",
    "            content = file.read().strip()  # Read the content and remove any extra whitespace\n",
    "            if content == '0':\n",
    "                print(\"Received Termination Signal. Terminating...\")\n",
    "                return True  # Terminate the loop\n",
    "            elif content == '1':\n",
    "                return False  # Continue the loop\n",
    "            else:\n",
    "                print(f\"Unexpected content in file: {content}. Expected '0' or '1'. Terminating Process...\")\n",
    "                return True  # Continue the loop by default\n",
    "    except FileNotFoundError:\n",
    "        print(f\"File not found: {file_path}\")\n",
    "        return False  # Continue the loop if the file doesn't exist\n",
    "    except Exception as e:\n",
    "        print(f\"Error reading {e}. Terminating Process...\")\n",
    "        return True  # Continue the loop in case of other errors|\n",
    "def log(message):\n",
    "    tracker = IntegerTracker()\n",
    "    path = f\"Logs\\\\Log_{tracker.read_value()}.txt\"\n",
    "    with open(path, \"a\") as f:\n",
    "        f.write(f\"{time.strftime('%Y-%m-%d %H:%M:%S')} - {message}\\n\")\n",
    "\n",
    "arch = [criterion.state_dict, optimizer.state_dict, scheduler.state_dict()]\n",
    "for i in arch:\n",
    "    log(i)\n",
    "    log('\\n')"
   ]
  },
  {
   "cell_type": "markdown",
   "id": "4053e6a7-cf56-477e-9e23-59e6b1ba5f26",
   "metadata": {},
   "source": [
    "## Train Loop - V2"
   ]
  },
  {
   "cell_type": "code",
   "execution_count": 137,
   "id": "cad5343f-b064-441d-94dc-58321d6d5640",
   "metadata": {},
   "outputs": [
    {
     "name": "stdout",
     "output_type": "stream",
     "text": [
      "Epoch 1/100 | Train Loss: 0.9860, Train Accuracy: 0.1832 | Test Loss: 0.9141, Test Accuracy: 0.4169 | Time Stamp: 24.178 s\n",
      "Epoch 2/100 | Train Loss: 0.9718, Train Accuracy: 0.2319 | Test Loss: 0.8880, Test Accuracy: 0.4607 | Time Stamp: 47.504 s\n",
      "Epoch 3/100 | Train Loss: 0.9664, Train Accuracy: 0.2555 | Test Loss: 0.8764, Test Accuracy: 0.4837 | Time Stamp: 70.184 s\n",
      "Epoch 4/100 | Train Loss: 0.9627, Train Accuracy: 0.2675 | Test Loss: 0.8588, Test Accuracy: 0.5019 | Time Stamp: 91.488 s\n",
      "Epoch 5/100 | Train Loss: 0.9587, Train Accuracy: 0.2789 | Test Loss: 0.8639, Test Accuracy: 0.5223 | Time Stamp: 114.059 s\n",
      "Epoch 6/100 | Train Loss: 0.9559, Train Accuracy: 0.2871 | Test Loss: 0.8512, Test Accuracy: 0.5621 | Time Stamp: 139.932 s\n",
      "Epoch 7/100 | Train Loss: 0.9533, Train Accuracy: 0.2952 | Test Loss: 0.8477, Test Accuracy: 0.5725 | Time Stamp: 163.629 s\n",
      "Epoch 8/100 | Train Loss: 0.9503, Train Accuracy: 0.3053 | Test Loss: 0.8394, Test Accuracy: 0.5870 | Time Stamp: 187.629 s\n",
      "Epoch 9/100 | Train Loss: 0.9486, Train Accuracy: 0.3124 | Test Loss: 0.8266, Test Accuracy: 0.6009 | Time Stamp: 209.927 s\n",
      "Epoch 10/100 | Train Loss: 0.9450, Train Accuracy: 0.3205 | Test Loss: 0.8225, Test Accuracy: 0.6279 | Time Stamp: 232.155 s\n",
      "Epoch 11/100 | Train Loss: 0.9411, Train Accuracy: 0.3311 | Test Loss: 0.8154, Test Accuracy: 0.6278 | Time Stamp: 255.503 s\n",
      "Epoch 12/100 | Train Loss: 0.9390, Train Accuracy: 0.3383 | Test Loss: 0.8102, Test Accuracy: 0.6338 | Time Stamp: 280.892 s\n",
      "Epoch 13/100 | Train Loss: 0.9382, Train Accuracy: 0.3423 | Test Loss: 0.8092, Test Accuracy: 0.6464 | Time Stamp: 305.569 s\n",
      "Epoch 14/100 | Train Loss: 0.9367, Train Accuracy: 0.3440 | Test Loss: 0.8060, Test Accuracy: 0.6426 | Time Stamp: 328.446 s\n",
      "Epoch 15/100 | Train Loss: 0.9358, Train Accuracy: 0.3449 | Test Loss: 0.8025, Test Accuracy: 0.6611 | Time Stamp: 350.958 s\n",
      "Epoch 16/100 | Train Loss: 0.9343, Train Accuracy: 0.3469 | Test Loss: 0.8002, Test Accuracy: 0.6566 | Time Stamp: 374.893 s\n",
      "Epoch 17/100 | Train Loss: 0.9333, Train Accuracy: 0.3528 | Test Loss: 0.7975, Test Accuracy: 0.6517 | Time Stamp: 397.728 s\n",
      "Epoch 18/100 | Train Loss: 0.9320, Train Accuracy: 0.3549 | Test Loss: 0.7984, Test Accuracy: 0.6679 | Time Stamp: 420.860 s\n",
      "Epoch 19/100 | Train Loss: 0.9315, Train Accuracy: 0.3571 | Test Loss: 0.7894, Test Accuracy: 0.6608 | Time Stamp: 443.112 s\n",
      "Epoch 20/100 | Train Loss: 0.9295, Train Accuracy: 0.3597 | Test Loss: 0.7963, Test Accuracy: 0.6646 | Time Stamp: 466.891 s\n",
      "Epoch 21/100 | Train Loss: 0.9267, Train Accuracy: 0.3671 | Test Loss: 0.7808, Test Accuracy: 0.6816 | Time Stamp: 490.011 s\n",
      "Epoch 22/100 | Train Loss: 0.9259, Train Accuracy: 0.3675 | Test Loss: 0.7880, Test Accuracy: 0.6855 | Time Stamp: 511.807 s\n",
      "Epoch 23/100 | Train Loss: 0.9253, Train Accuracy: 0.3702 | Test Loss: 0.7808, Test Accuracy: 0.6899 | Time Stamp: 533.061 s\n",
      "Epoch 24/100 | Train Loss: 0.9245, Train Accuracy: 0.3701 | Test Loss: 0.7773, Test Accuracy: 0.6866 | Time Stamp: 557.228 s\n",
      "Epoch 25/100 | Train Loss: 0.9236, Train Accuracy: 0.3736 | Test Loss: 0.7802, Test Accuracy: 0.6890 | Time Stamp: 580.157 s\n",
      "Epoch 26/100 | Train Loss: 0.9227, Train Accuracy: 0.3732 | Test Loss: 0.7797, Test Accuracy: 0.6949 | Time Stamp: 601.624 s\n",
      "Epoch 27/100 | Train Loss: 0.9217, Train Accuracy: 0.3764 | Test Loss: 0.7754, Test Accuracy: 0.7002 | Time Stamp: 625.918 s\n",
      "Epoch 28/100 | Train Loss: 0.9213, Train Accuracy: 0.3759 | Test Loss: 0.7779, Test Accuracy: 0.6962 | Time Stamp: 650.668 s\n",
      "Epoch 29/100 | Train Loss: 0.9205, Train Accuracy: 0.3787 | Test Loss: 0.7801, Test Accuracy: 0.6927 | Time Stamp: 675.197 s\n",
      "Epoch 30/100 | Train Loss: 0.9203, Train Accuracy: 0.3777 | Test Loss: 0.7803, Test Accuracy: 0.6972 | Time Stamp: 699.954 s\n",
      "Epoch 31/100 | Train Loss: 0.9168, Train Accuracy: 0.3842 | Test Loss: 0.7713, Test Accuracy: 0.7006 | Time Stamp: 724.574 s\n",
      "Epoch 32/100 | Train Loss: 0.9163, Train Accuracy: 0.3860 | Test Loss: 0.7701, Test Accuracy: 0.7011 | Time Stamp: 749.182 s\n",
      "Epoch 33/100 | Train Loss: 0.9156, Train Accuracy: 0.3865 | Test Loss: 0.7677, Test Accuracy: 0.7025 | Time Stamp: 773.846 s\n",
      "Epoch 34/100 | Train Loss: 0.9155, Train Accuracy: 0.3870 | Test Loss: 0.7674, Test Accuracy: 0.7012 | Time Stamp: 798.493 s\n",
      "Epoch 35/100 | Train Loss: 0.9152, Train Accuracy: 0.3849 | Test Loss: 0.7754, Test Accuracy: 0.7036 | Time Stamp: 823.176 s\n",
      "Epoch 36/100 | Train Loss: 0.9148, Train Accuracy: 0.3885 | Test Loss: 0.7721, Test Accuracy: 0.6994 | Time Stamp: 847.741 s\n",
      "Epoch 37/100 | Train Loss: 0.9144, Train Accuracy: 0.3892 | Test Loss: 0.7698, Test Accuracy: 0.7059 | Time Stamp: 872.280 s\n",
      "Epoch 38/100 | Train Loss: 0.9139, Train Accuracy: 0.3879 | Test Loss: 0.7666, Test Accuracy: 0.7086 | Time Stamp: 896.864 s\n",
      "Epoch 39/100 | Train Loss: 0.9129, Train Accuracy: 0.3898 | Test Loss: 0.7657, Test Accuracy: 0.7048 | Time Stamp: 921.469 s\n",
      "Epoch 40/100 | Train Loss: 0.9129, Train Accuracy: 0.3904 | Test Loss: 0.7721, Test Accuracy: 0.7074 | Time Stamp: 946.114 s\n",
      "Epoch 41/100 | Train Loss: 0.9114, Train Accuracy: 0.3930 | Test Loss: 0.7633, Test Accuracy: 0.7103 | Time Stamp: 970.722 s\n",
      "Epoch 42/100 | Train Loss: 0.9110, Train Accuracy: 0.3938 | Test Loss: 0.7693, Test Accuracy: 0.7086 | Time Stamp: 995.014 s\n",
      "Epoch 43/100 | Train Loss: 0.9109, Train Accuracy: 0.3943 | Test Loss: 0.7634, Test Accuracy: 0.7124 | Time Stamp: 1019.395 s\n",
      "Epoch 44/100 | Train Loss: 0.9102, Train Accuracy: 0.3959 | Test Loss: 0.7643, Test Accuracy: 0.7150 | Time Stamp: 1043.793 s\n",
      "Epoch 45/100 | Train Loss: 0.9099, Train Accuracy: 0.3968 | Test Loss: 0.7632, Test Accuracy: 0.7126 | Time Stamp: 1068.182 s\n",
      "Epoch 46/100 | Train Loss: 0.9098, Train Accuracy: 0.3961 | Test Loss: 0.7603, Test Accuracy: 0.7140 | Time Stamp: 1092.143 s\n",
      "Epoch 47/100 | Train Loss: 0.9091, Train Accuracy: 0.3970 | Test Loss: 0.7626, Test Accuracy: 0.7119 | Time Stamp: 1116.646 s\n",
      "Epoch 48/100 | Train Loss: 0.9088, Train Accuracy: 0.3953 | Test Loss: 0.7588, Test Accuracy: 0.7167 | Time Stamp: 1142.464 s\n",
      "Epoch 49/100 | Train Loss: 0.9085, Train Accuracy: 0.3970 | Test Loss: 0.7610, Test Accuracy: 0.7127 | Time Stamp: 1165.401 s\n",
      "Epoch 50/100 | Train Loss: 0.9086, Train Accuracy: 0.3964 | Test Loss: 0.7628, Test Accuracy: 0.7105 | Time Stamp: 1189.969 s\n",
      "Epoch 51/100 | Train Loss: 0.9074, Train Accuracy: 0.3985 | Test Loss: 0.7583, Test Accuracy: 0.7147 | Time Stamp: 1213.415 s\n",
      "Epoch 52/100 | Train Loss: 0.9066, Train Accuracy: 0.3998 | Test Loss: 0.7640, Test Accuracy: 0.7155 | Time Stamp: 1237.819 s\n",
      "Epoch 53/100 | Train Loss: 0.9072, Train Accuracy: 0.3998 | Test Loss: 0.7596, Test Accuracy: 0.7144 | Time Stamp: 1262.603 s\n",
      "Epoch 54/100 | Train Loss: 0.9064, Train Accuracy: 0.4006 | Test Loss: 0.7616, Test Accuracy: 0.7160 | Time Stamp: 1287.598 s\n",
      "Epoch 55/100 | Train Loss: 0.9070, Train Accuracy: 0.3983 | Test Loss: 0.7602, Test Accuracy: 0.7143 | Time Stamp: 1312.231 s\n",
      "Epoch 56/100 | Train Loss: 0.9069, Train Accuracy: 0.3992 | Test Loss: 0.7600, Test Accuracy: 0.7188 | Time Stamp: 1336.744 s\n",
      "Epoch 57/100 | Train Loss: 0.9057, Train Accuracy: 0.3989 | Test Loss: 0.7553, Test Accuracy: 0.7153 | Time Stamp: 1361.104 s\n",
      "Epoch 58/100 | Train Loss: 0.9066, Train Accuracy: 0.4011 | Test Loss: 0.7608, Test Accuracy: 0.7104 | Time Stamp: 1385.628 s\n",
      "Epoch 59/100 | Train Loss: 0.9061, Train Accuracy: 0.4012 | Test Loss: 0.7589, Test Accuracy: 0.7140 | Time Stamp: 1410.178 s\n",
      "Epoch 60/100 | Train Loss: 0.9055, Train Accuracy: 0.4009 | Test Loss: 0.7600, Test Accuracy: 0.7146 | Time Stamp: 1434.833 s\n",
      "Epoch 61/100 | Train Loss: 0.9060, Train Accuracy: 0.3992 | Test Loss: 0.7590, Test Accuracy: 0.7149 | Time Stamp: 1459.387 s\n",
      "Epoch 62/100 | Train Loss: 0.9051, Train Accuracy: 0.4016 | Test Loss: 0.7584, Test Accuracy: 0.7139 | Time Stamp: 1483.857 s\n",
      "Epoch 63/100 | Train Loss: 0.9049, Train Accuracy: 0.4017 | Test Loss: 0.7591, Test Accuracy: 0.7131 | Time Stamp: 1508.385 s\n",
      "Epoch 64/100 | Train Loss: 0.9049, Train Accuracy: 0.4035 | Test Loss: 0.7559, Test Accuracy: 0.7114 | Time Stamp: 1532.696 s\n",
      "Epoch 65/100 | Train Loss: 0.9047, Train Accuracy: 0.4025 | Test Loss: 0.7563, Test Accuracy: 0.7104 | Time Stamp: 1556.716 s\n",
      "Epoch 66/100 | Train Loss: 0.9040, Train Accuracy: 0.4032 | Test Loss: 0.7564, Test Accuracy: 0.7156 | Time Stamp: 1579.327 s\n",
      "Epoch 67/100 | Train Loss: 0.9056, Train Accuracy: 0.4015 | Test Loss: 0.7605, Test Accuracy: 0.7150 | Time Stamp: 1603.659 s\n",
      "Received Termination Signal. Terminating...\n",
      "Train Time : 1603.660160s\n"
     ]
    }
   ],
   "source": [
    "device = torch.device(\"cuda\" if torch.cuda.is_available() else \"cpu\")\n",
    "model.to(device)\n",
    "\n",
    "INCLUDE_TEST = True\n",
    "\n",
    "num_epochs = 100  # Train for more epochs\n",
    "\n",
    "train_losses, train_accuracies, test_losses, test_accuracies = torch.Tensor(num_epochs), torch.Tensor(num_epochs), torch.Tensor(num_epochs), torch.Tensor(num_epochs)\n",
    "\n",
    "\n",
    "\n",
    "start_time = time.time()\n",
    "for epoch in range(num_epochs):\n",
    "    if check_termination_flag():\n",
    "        log(\"Termination Train Loop (Manual)\")\n",
    "        break\n",
    "    model.train()\n",
    "    total_loss, correct, total = 0, 0, 0\n",
    "    \n",
    "    for images, labels in train_data_loader:\n",
    "        images, labels = images.to(device), labels.to(device)\n",
    "\n",
    "        optimizer.zero_grad()\n",
    "        outputs = model(images)\n",
    "        loss = criterion(outputs, labels)\n",
    "        loss = loss.mean() if loss.dim() > 0 else loss\n",
    "\n",
    "        loss.backward()\n",
    "        optimizer.step()\n",
    "\n",
    "        total_loss += loss.item()\n",
    "        _, preds = outputs.max(1)\n",
    "        correct += preds.eq(labels).sum().item()\n",
    "        total += labels.size(0)\n",
    "\n",
    "    #Test Accuracy:\n",
    "    test_loss, test_acc = 0,0\n",
    "    if INCLUDE_TEST:\n",
    "        model.eval()\n",
    "        test_loss, test_acc = evaluate_model(model, test_data_loader, criterion, device=DEVICE)\n",
    "        model.train()\n",
    "    test_losses[epoch] = test_loss\n",
    "    test_accuracies[epoch] = test_acc\n",
    "    \n",
    "    scheduler.step()  # Adjust LR\n",
    "    \n",
    "\n",
    "    \n",
    "    train_loss = total_loss/len(train_data_loader)\n",
    "    train_accuracy = correct/total\n",
    "    train_losses[epoch] = train_loss\n",
    "    train_accuracies[epoch] = train_accuracy\n",
    "    \n",
    "    print(f\"Epoch {epoch+1}/{num_epochs} | Train Loss: {train_loss:.4f}, Train Accuracy: {train_accuracy:.4f} | Test Loss: {test_loss:.4f}, Test Accuracy: {test_acc:.4f} | Time Stamp: {(time.time()-start_time):.3f} s\")\n",
    "    log(f\"Epoch {epoch+1}/{num_epochs} | Train Loss: {train_loss:.4f}, Train Accuracy: {train_accuracy:.4f} | Test Loss: {test_loss:.4f}, Test Accuracy: {test_acc:.4f}\")\n",
    "end_time = time.time()\n",
    "train_time = end_time-start_time\n",
    "print(f\"Train Time : {train_time:.6f}s\")"
   ]
  },
  {
   "cell_type": "code",
   "execution_count": 138,
   "id": "61bcb05e-3cd8-40d7-97ec-a4cd2d222392",
   "metadata": {},
   "outputs": [],
   "source": [
    "\n",
    "def LogLossesAndAccuracy(metrics, arch, info):\n",
    "    try:\n",
    "        tracker = IntegerTracker()\n",
    "        path = f\"Logs\\\\Log_{tracker.read_value()}.txt\"\n",
    "        with open(path, \"a\") as f:\n",
    "            \n",
    "            for i in arch:\n",
    "                f.write(f\"{i}\\n\\n\")\n",
    "            # for values,msg in zip(metrics,msgs):\n",
    "            #     for i in range(values.shape[0]):\n",
    "            #         f.write(f\"Epoch {i+1} | {msg}: {values[i]:.4f}\\n\")\n",
    "            \n",
    "            f.write(f\"\\nKey Info:\\n{info}\\n\\n\")\n",
    "            \n",
    "            # for i in range(len(accuracies)):\n",
    "            #     f.write(f\"Epoch {i+1} | Loss: {losses[i]:.4f} | Accuracy: {accuracies[i]:.4f}\\n\")\n",
    "            length = len(metrics[next(iter(metrics))])\n",
    "            for i in range(length):\n",
    "                metric_msg = \"\"\n",
    "                metric_msg += f\"\\nEpoch {i} | \"\n",
    "                for metric_name, values in metrics.items():\n",
    "                    metric_msg += f\"{metric_name}: {values[i]:.4f}\"\n",
    "                    metric_msg += \" | \" if metric_name!=list(metrics.keys())[-1] else \"\"\n",
    "                f.write(f\"{metric_msg}\")\n",
    "                \n",
    "        print(f\"Logged File | {path = }\")\n",
    "        tracker.increment_value()\n",
    "    except FileExistsError:\n",
    "        print(\"Already exists.\")\n",
    "    \n",
    "            "
   ]
  },
  {
   "cell_type": "code",
   "execution_count": 139,
   "id": "5ce0dbe2-d15d-41f5-a557-21325eefdf12",
   "metadata": {},
   "outputs": [
    {
     "name": "stdout",
     "output_type": "stream",
     "text": [
      "Logged File | path = 'Logs\\\\Log_13.txt'\n"
     ]
    }
   ],
   "source": [
    "metrics = {\n",
    "    \"Train Accuracy\":train_accuracies,\n",
    "    \"Train Loss\":train_losses,\n",
    "    \"Test Loss\":test_losses,\n",
    "    \"Test Accuracy\":test_accuracies\n",
    "}\n",
    "info = f\"Noise Rate: {train_data_noise.noise_rate:.4f} \\nTrain Time: {train_time:.6f}s \\nTransforms: HOR_FLIP ROT_10 NORM \\nLoss({criterion.__class__}) \\nOptimizer({optimizer.__class__}) \\nScheduler({scheduler.__class__})\"\n",
    "# LogLossesAndAccuracy(metrics, arch = [criterion.state_dict, optimizer.state_dict, scheduler.state_dict()], info=info)"
   ]
  },
  {
   "cell_type": "code",
   "execution_count": 140,
   "id": "f9fc142f-b900-4c81-9006-17ec3c65fd14",
   "metadata": {},
   "outputs": [],
   "source": [
    "def plot_metrics(metrics):\n",
    "    \"\"\"\n",
    "    Plots all arrays in the dictionary on the same graph.\n",
    "    \n",
    "    :param metrics: A dictionary where keys are strings (metric names) and values are arrays (metric values).\n",
    "    \"\"\"\n",
    "    # Create a figure and axis\n",
    "    plt.figure(figsize=(10, 6))\n",
    "    \n",
    "    # Iterate over the dictionary and plot each array\n",
    "    for metric_name, values in metrics.items():\n",
    "        x_values = range(len(values))  # Use indices as the x-axis\n",
    "        plt.plot(x_values, values, linestyle='-', label=metric_name)\n",
    "    \n",
    "    # Add labels and title\n",
    "    plt.xlabel('Index')\n",
    "    plt.ylabel('Value')\n",
    "    plt.title('Metrics')\n",
    "    \n",
    "    # Add a legend\n",
    "    plt.legend()\n",
    "    \n",
    "    # Show the plot\n",
    "    plt.grid(True)\n",
    "    plt.show()"
   ]
  },
  {
   "cell_type": "code",
   "execution_count": 141,
   "id": "9283ed96-7090-47c1-8e91-730f760784b0",
   "metadata": {},
   "outputs": [
    {
     "data": {
      "image/png": "[encoded data removed]",
      "text/plain": [
       "<Figure size 1000x600 with 1 Axes>"
      ]
     },
     "metadata": {},
     "output_type": "display_data"
    }
   ],
   "source": [
    "\n",
    "plot_metrics(metrics)\n"
   ]
  },
  {
   "cell_type": "code",
   "execution_count": 142,
   "id": "1d535ebe-5bc3-4341-99d4-7f1fd1279eb5",
   "metadata": {},
   "outputs": [],
   "source": [
    "tracker = IntegerTracker()\n",
    "\n",
    "torch.save({\n",
    "    'model_state_dict':model.state_dict(),\n",
    "    'optimizer_state_dict':optimizer.state_dict(),\n",
    "    'criterion_state_dict':criterion.state_dict(),\n",
    "    'scheduler_state_dict':scheduler.state_dict(),\n",
    "    'metrics':metrics\n",
    "}, f'Models\\\\cnn_{tracker.read_value()-1}.pth')\n"
   ]
  },
  {
   "cell_type": "code",
   "execution_count": 143,
   "id": "612dd8de-31ee-4099-9dae-a78dbfd565b5",
   "metadata": {},
   "outputs": [
    {
     "data": {
      "text/plain": [
       "14"
      ]
     },
     "execution_count": 143,
     "metadata": {},
     "output_type": "execute_result"
    }
   ],
   "source": [
    "tracker = IntegerTracker()\n",
    "tracker.read_value()"
   ]
  },
  {
   "cell_type": "code",
   "execution_count": null,
   "id": "852d8cbd-8042-464b-947a-2aecfbbb9b3b",
   "metadata": {},
   "outputs": [],
   "source": []
  }
 ],
 "metadata": {
  "kernelspec": {
   "display_name": "Python [conda env:.conda-ml_stuff]",
   "language": "python",
   "name": "conda-env-.conda-ml_stuff-py"
  },
  "language_info": {
   "codemirror_mode": {
    "name": "ipython",
    "version": 3
   },
   "file_extension": ".py",
   "mimetype": "text/x-python",
   "name": "python",
   "nbconvert_exporter": "python",
   "pygments_lexer": "ipython3",
   "version": "3.11.11"
  }
 },
 "nbformat": 4,
 "nbformat_minor": 5
}
