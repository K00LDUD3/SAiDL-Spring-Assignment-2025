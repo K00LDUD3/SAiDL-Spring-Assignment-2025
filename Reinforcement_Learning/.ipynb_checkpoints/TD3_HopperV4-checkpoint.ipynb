{
 "cells": [
  {
   "cell_type": "code",
   "execution_count": 11,
   "id": "b8d7f059-ff68-4168-9424-b571575e12a9",
   "metadata": {},
   "outputs": [
    {
     "data": {
      "text/plain": [
       "(device(type='cuda'), '1.1.1', '2.6.0+cu118', '1.24.4')"
      ]
     },
     "execution_count": 11,
     "metadata": {},
     "output_type": "execute_result"
    }
   ],
   "source": [
    "import torch\n",
    "import torch.nn as nn\n",
    "import torch.nn.functional as F\n",
    "import torch.optim as optim\n",
    "import numpy as np\n",
    "import gymnasium as gym\n",
    "from collections import deque\n",
    "import random\n",
    "DEVICE = torch.device(\"cuda\" if torch.cuda.is_available() else \"cpu\")\n",
    "DEVICE, gym.__version__, torch.__version__, np.__version__"
   ]
  },
  {
   "cell_type": "code",
   "execution_count": 1,
   "id": "c2184916-0028-4e1b-954d-38707d771db3",
   "metadata": {},
   "outputs": [
    {
     "name": "stderr",
     "output_type": "stream",
     "text": [
      "C:\\Users\\91748\\.conda\\envs\\rl_env\\Lib\\site-packages\\gymnasium\\envs\\registration.py:519: DeprecationWarning: \u001b[33mWARN: The environment Hopper-v4 is out of date. You should consider upgrading to version `v5`.\u001b[0m\n",
      "  logger.deprecation(\n"
     ]
    },
    {
     "name": "stdout",
     "output_type": "stream",
     "text": [
      "Environment initialized successfully!\n"
     ]
    }
   ],
   "source": [
    "env = gym.make(\"Hopper-v4\", render_mode=\"human\")  # Change to 'rgb_array' if headless\n",
    "observation, information = env.reset(seed=42)\n",
    "print(\"Environment initialized successfully!\")\n",
    "        \n",
    "env.close()"
   ]
  },
  {
   "cell_type": "code",
   "execution_count": 2,
   "id": "681e9bda-8dc7-42da-a9b6-ce3aa81d3232",
   "metadata": {},
   "outputs": [
    {
     "data": {
      "text/plain": [
       "array([ 1.24938878e+00,  3.58597920e-03,  1.97368029e-03, -4.05822652e-03,\n",
       "        4.75622352e-03,  2.61139702e-03,  2.86064305e-03, -3.71886367e-03,\n",
       "       -4.96140621e-04, -1.29201976e-03,  4.26764989e-03])"
      ]
     },
     "execution_count": 2,
     "metadata": {},
     "output_type": "execute_result"
    }
   ],
   "source": [
    "observation"
   ]
  },
  {
   "cell_type": "code",
   "execution_count": 3,
   "id": "6b82ce6f-680a-4a28-87d7-f052efcf6e66",
   "metadata": {
    "scrolled": true
   },
   "outputs": [
    {
     "data": {
      "text/plain": [
       "{}"
      ]
     },
     "execution_count": 3,
     "metadata": {},
     "output_type": "execute_result"
    }
   ],
   "source": [
    "information"
   ]
  },
  {
   "cell_type": "markdown",
   "id": "0248df51-a5d7-47cd-8a58-6d17e11a5060",
   "metadata": {},
   "source": [
    "### Actor Net"
   ]
  },
  {
   "cell_type": "code",
   "execution_count": 6,
   "id": "87f01c04-3462-49bb-b909-70b5f12fed04",
   "metadata": {},
   "outputs": [],
   "source": [
    "class Actor(nn.Module):\n",
    "    def __init__(self, state_dim, action_dim, max_action):\n",
    "        super(Actor, self).__init__()\n",
    "        self.l1 = nn.Linear(state_dim, 400)\n",
    "        self.l2 = nn.Linear(400, 300)\n",
    "        self.l3 = nn.Linear(300, action_dim)\n",
    "        self.max_action = max_action\n",
    "\n",
    "    def forward(self, state):\n",
    "        a = F.relu(self.l1(state))\n",
    "        a = F.relu(self.l2(a))\n",
    "        return self.max_action * torch.tanh(self.l3(a))"
   ]
  },
  {
   "cell_type": "markdown",
   "id": "71331205-5814-49e4-9d8a-bce5e222b89e",
   "metadata": {},
   "source": [
    "### Critic Net"
   ]
  },
  {
   "cell_type": "code",
   "execution_count": 10,
   "id": "81230803-dea0-4368-ab44-5950b0d214fb",
   "metadata": {},
   "outputs": [],
   "source": [
    "class Critic(nn.Module):\n",
    "    def __init__(self, state_dim, action_dim, hidden_units_l1=400, hidden_units_l2=300):\n",
    "        super(Critic, self).__init__()\n",
    "\n",
    "        # Q1 architecture\n",
    "        self.l1 = nn.Linear(state_dim + action_dim, hidden_units_l1)\n",
    "        self.l2 = nn.Linear(hidden_units_l1, hidden_units_l2)\n",
    "        self.l3 = nn.Linear(hidden_units_l2, 1)\n",
    "\n",
    "        # Q2 architecture\n",
    "        self.l4 = nn.Linear(state_dim + action_dim, hidden_units_l1)\n",
    "        self.l5 = nn.Linear(hidden_units_l1, hidden_units_l2)\n",
    "        self.l6 = nn.Linear(hidden_units_l2, 1)\n",
    "\n",
    "    def forward(self, state, action):\n",
    "        sa = torch.cat([state, action], 1)\n",
    "\n",
    "        q1 = F.relu(self.l1(sa))\n",
    "        q1 = F.relu(self.l2(q1))\n",
    "        q1 = self.l3(q1)\n",
    "\n",
    "        q2 = F.relu(self.l4(sa))\n",
    "        q2 = F.relu(self.l5(q2))\n",
    "        q2 = self.l6(q2)\n",
    "\n",
    "        return q1, q2\n",
    "\n",
    "    def Q1(self, state, action):\n",
    "        sa = torch.cat([state, action], 1)\n",
    "        q1 = F.relu(self.l1(sa))\n",
    "        q1 = F.relu(self.l2(q1))\n",
    "        return self.l3(q1)"
   ]
  },
  {
   "cell_type": "markdown",
   "id": "7eeede08-ff3a-4351-af28-8e661722fda6",
   "metadata": {},
   "source": [
    "### Replay Buffer"
   ]
  },
  {
   "cell_type": "code",
   "execution_count": 13,
   "id": "9941f997-1599-45f7-9084-17942c2d0c8b",
   "metadata": {},
   "outputs": [],
   "source": [
    "class ReplayBuffer:\n",
    "    def __init__(self, max_size=1_000_000):\n",
    "        self.buffer = deque(maxlen=max_size)\n",
    "\n",
    "    def push(self, transition):\n",
    "        self.buffer.append(transition)\n",
    "\n",
    "    def sample(self, batch_size):\n",
    "        batch = random.sample(self.buffer, batch_size)\n",
    "        state, action, reward, next_state, done = map(np.stack, zip(*batch))\n",
    "        return (\n",
    "            torch.FloatTensor(state).to(DEVICE),\n",
    "            torch.FloatTensor(action).to(DEVICE),\n",
    "            torch.FloatTensor(reward).unsqueeze(1).to(DEVICE),\n",
    "            torch.FloatTensor(next_state).to(DEVICE),\n",
    "            torch.FloatTensor(done).unsqueeze(1).to(DEVICE),\n",
    "        )\n",
    "\n",
    "    def __len__(self):\n",
    "        return len(self.buffer)"
   ]
  },
  {
   "cell_type": "markdown",
   "id": "f3f5ac93-88a7-42ea-8cf3-413da53cf08e",
   "metadata": {},
   "source": [
    "### TD3 \n",
    "- Target nets to be updated every once in a while to ensure convergence\n",
    "- Actor - Takes in the state, spits out action\n",
    "- Critic - Takes in state and action taken for that state, spits out value\n",
    "- Polyak Averaging -\n",
    "- "
   ]
  },
  {
   "cell_type": "code",
   "execution_count": 15,
   "id": "3632621c-ec5b-4b3c-8bb2-fe46d2e297c9",
   "metadata": {},
   "outputs": [],
   "source": [
    "\"\"\"\n",
    "For documentation:\n",
    "\n",
    "\"\"\"\n",
    "class TD3:\n",
    "    def __init__(self, state_dim, action_dim, max_action):\n",
    "        self.actor = Actor(state_dim, action_dim, max_action).to(DEVICE)\n",
    "        self.actor_target = Actor(state_dim, action_dim, max_action).to(DEVICE) \n",
    "        self.actor_target.load_state_dict(self.actor.state_dict())\n",
    "        self.actor_optimizer = optim.Adam(self.actor.parameters(), lr=1e-3)\n",
    "\n",
    "        self.critic = Critic(state_dim, action_dim).to(DEVICE)\n",
    "        self.critic_target = Critic(state_dim, action_dim).to(DEVICE)\n",
    "        self.critic_target.load_state_dict(self.critic.state_dict())\n",
    "        self.critic_optimizer = optim.Adam(self.critic.parameters(), lr=1e-3)\n",
    "\n",
    "        self.max_action = max_action\n",
    "        self.total_iterations = 0\n",
    "\n",
    "    def select_action(self, state):\n",
    "        state = torch.FloatTensor(state.reshape(1, -1)).to(DEVICE)\n",
    "        return self.actor(state).cpu().data.numpy().flatten()\n",
    "\n",
    "    def train(self, replay_buffer, batch_size=256, gamma=0.99, tau=0.005, policy_delay=2):\n",
    "        self.total_iterations += 1\n",
    "\n",
    "        state, action, reward, next_state, done = replay_buffer.sample(batch_size)\n",
    "\n",
    "        # Target actions (no smoothing as per your instruction)\n",
    "        target_action = self.actor_target(next_state)\n",
    "\n",
    "        # Target Q values\n",
    "        target_Q1, target_Q2 = self.critic_target(next_state, target_action)\n",
    "        target_Q = torch.min(target_Q1, target_Q2)\n",
    "        target_Q = reward + ((1 - done) * gamma * target_Q).detach()\n",
    "\n",
    "        # Current Q estimates\n",
    "        current_Q1, current_Q2 = self.critic(state, action)\n",
    "\n",
    "        critic_loss = F.mse_loss(current_Q1, target_Q) + F.mse_loss(current_Q2, target_Q)\n",
    "\n",
    "        self.critic_optimizer.zero_grad()\n",
    "        critic_loss.backward()\n",
    "        self.critic_optimizer.step()\n",
    "\n",
    "        # Delayed policy updates\n",
    "        if self.total_iterations % policy_delay == 0:\n",
    "            actor_loss = -self.critic.Q1(state, self.actor(state)).mean()\n",
    "            self.actor_optimizer.zero_grad()\n",
    "            actor_loss.backward()\n",
    "            self.actor_optimizer.step()\n",
    "\n",
    "            # Polyak averaging\n",
    "            for param, target_param in zip(self.critic.parameters(), self.critic_target.parameters()):\n",
    "                target_param.data.copy_(tau * param.data + (1 - tau) * target_param.data)\n",
    "\n",
    "            for param, target_param in zip(self.actor.parameters(), self.actor_target.parameters()):\n",
    "                target_param.data.copy_(tau * param.data + (1 - tau) * target_param.data)"
   ]
  },
  {
   "cell_type": "code",
   "execution_count": null,
   "id": "cbc380be-b50a-4014-9933-b3c33a815053",
   "metadata": {},
   "outputs": [],
   "source": []
  }
 ],
 "metadata": {
  "kernelspec": {
   "display_name": "Python (rl_env)",
   "language": "python",
   "name": "rl_env"
  },
  "language_info": {
   "codemirror_mode": {
    "name": "ipython",
    "version": 3
   },
   "file_extension": ".py",
   "mimetype": "text/x-python",
   "name": "python",
   "nbconvert_exporter": "python",
   "pygments_lexer": "ipython3",
   "version": "3.11.9"
  }
 },
 "nbformat": 4,
 "nbformat_minor": 5
}
