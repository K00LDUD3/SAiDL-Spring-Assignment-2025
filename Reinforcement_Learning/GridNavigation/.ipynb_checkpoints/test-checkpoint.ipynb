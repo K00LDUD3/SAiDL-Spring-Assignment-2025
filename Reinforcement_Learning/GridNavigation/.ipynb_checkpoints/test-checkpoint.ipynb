{
 "cells": [
  {
   "cell_type": "code",
   "execution_count": 1,
   "metadata": {},
   "outputs": [
    {
     "data": {
      "text/plain": [
       "('2.6.0+cu118', '0.26.2', True, 'cuda')"
      ]
     },
     "execution_count": 1,
     "metadata": {},
     "output_type": "execute_result"
    }
   ],
   "source": [
    "import numpy as np\n",
    "import math\n",
    "import matplotlib.pyplot as plt\n",
    "\n",
    "import torch\n",
    "import gym\n",
    "\n",
    "from Helpers import *\n",
    "from tqdm import tqdm\n",
    "\n",
    "# from numba import jit\n",
    "\n",
    "DEVICE = 'cuda' if torch.cuda.is_available() else 'cpu'\n",
    "torch.set_default_device(DEVICE)\n",
    "torch.manual_seed(24)\n",
    "\n",
    "torch.__version__, gym.__version__, torch.cuda.is_available(), DEVICE"
   ]
  },
  {
   "cell_type": "markdown",
   "metadata": {},
   "source": [
    "## Grid Environment\n",
    "### Instancing grid with size MxN, start position as (start_x, start_y)\n",
    "### Adding random obstacles \n",
    "    0: free\n",
    "    1: occupied"
   ]
  },
  {
   "cell_type": "code",
   "execution_count": 2,
   "metadata": {},
   "outputs": [
    {
     "data": {
      "image/png": "[encoded data removed]",
      "text/plain": [
       "<Figure size 500x500 with 1 Axes>"
      ]
     },
     "metadata": {},
     "output_type": "display_data"
    },
    {
     "data": {
      "text/plain": [
       "(tensor([[0, 1, 0, 0, 0, 1, 0, 0, 0, 1, 0, 1, 0, 0, 1],\n",
       "         [0, 0, 0, 0, 1, 0, 0, 1, 0, 1, 0, 1, 1, 0, 0],\n",
       "         [1, 0, 0, 0, 0, 1, 1, 0, 0, 0, 1, 1, 1, 0, 0],\n",
       "         [0, 0, 0, 1, 1, 0, 0, 0, 0, 0, 1, 1, 0, 1, 0],\n",
       "         [0, 0, 0, 0, 0, 1, 0, 0, 0, 0, 0, 0, 0, 0, 1],\n",
       "         [1, 0, 0, 0, 0, 0, 0, 0, 1, 0, 0, 0, 1, 0, 0],\n",
       "         [0, 0, 0, 0, 1, 0, 0, 0, 0, 0, 0, 0, 1, 0, 0],\n",
       "         [1, 0, 0, 0, 0, 0, 1, 0, 0, 0, 0, 0, 1, 1, 0],\n",
       "         [1, 0, 0, 0, 1, 0, 0, 0, 0, 0, 0, 0, 0, 1, 1],\n",
       "         [0, 1, 0, 1, 0, 0, 0, 1, 0, 0, 0, 0, 0, 0, 0],\n",
       "         [0, 0, 0, 0, 0, 1, 0, 0, 0, 0, 0, 0, 0, 0, 1],\n",
       "         [0, 1, 1, 1, 0, 0, 0, 1, 0, 1, 0, 0, 0, 0, 0],\n",
       "         [0, 0, 0, 0, 1, 0, 0, 1, 1, 0, 0, 0, 1, 0, 0],\n",
       "         [1, 0, 1, 0, 0, 1, 1, 0, 1, 0, 0, 0, 0, 0, 0],\n",
       "         [0, 0, 0, 0, 0, 0, 1, 0, 0, 0, 0, 0, 1, 0, 0]], device='cuda:0',\n",
       "        dtype=torch.int8),\n",
       " tensor([0, 0], device='cuda:0', dtype=torch.int8),\n",
       " None)"
      ]
     },
     "execution_count": 2,
     "metadata": {},
     "output_type": "execute_result"
    }
   ],
   "source": [
    "M, N = 15,15\n",
    "start_x, start_y = 0,0\n",
    "end_x, end_y = M-1,N-1\n",
    "start = torch.tensor([start_x,start_y]).type(torch.int8)\n",
    "grid = (torch.rand((M, N)) > 0.75).type(torch.int8)\n",
    "\n",
    "#Marking start and end positions as free\n",
    "grid[start_x, start_y] = 0 \n",
    "grid[end_x, end_y] = 0\n",
    "\n",
    "grid, start, visualize_grid(grid)"
   ]
  },
  {
   "cell_type": "code",
   "execution_count": 3,
   "metadata": {
    "jp-MarkdownHeadingCollapsed": true,
    "scrolled": true
   },
   "outputs": [
    {
     "data": {
      "image/png": "[encoded data removed]",
      "text/plain": [
       "<Figure size 500x500 with 1 Axes>"
      ]
     },
     "metadata": {},
     "output_type": "display_data"
    }
   ],
   "source": [
    "visualize_grid(grid)\n",
    "# end_x, end_y = 9,5"
   ]
  },
  {
   "cell_type": "markdown",
   "metadata": {},
   "source": [
    "### Car State"
   ]
  },
  {
   "cell_type": "code",
   "execution_count": 4,
   "metadata": {},
   "outputs": [
    {
     "data": {
      "text/plain": [
       "tensor([0, 0], device='cuda:0')"
      ]
     },
     "execution_count": 4,
     "metadata": {},
     "output_type": "execute_result"
    }
   ],
   "source": [
    "car_state = torch.tensor([start_x, start_y])\n",
    "car_state"
   ]
  },
  {
   "cell_type": "markdown",
   "metadata": {},
   "source": [
    "### Action Space"
   ]
  },
  {
   "cell_type": "code",
   "execution_count": 5,
   "metadata": {},
   "outputs": [
    {
     "data": {
      "text/plain": [
       "({'up': array([-1,  0]),\n",
       "  'down': array([1, 0]),\n",
       "  'right': array([0, 1]),\n",
       "  'left': array([ 0, -1])},\n",
       " ['up', 'down', 'right', 'left'])"
      ]
     },
     "execution_count": 5,
     "metadata": {},
     "output_type": "execute_result"
    }
   ],
   "source": [
    "action_space = {\n",
    "    \"up\":np.array([-1,0]),\n",
    "    \"down\":np.array([1,0]),\n",
    "    \"right\":np.array([0,1]),\n",
    "    \"left\":np.array([0,-1])\n",
    "}\n",
    "actions = list(action_space.keys())\n",
    "action_space, actions"
   ]
  },
  {
   "cell_type": "markdown",
   "metadata": {},
   "source": [
    "### ActionReward Function"
   ]
  },
  {
   "cell_type": "code",
   "execution_count": 6,
   "metadata": {},
   "outputs": [],
   "source": [
    "def ActionReward_V1(grid, car, action):\n",
    "    \"\"\"\n",
    "    Params -  \n",
    "    grid: torch tensor of M,N\n",
    "    car: torch tensor of 2,1\n",
    "    action: string belonging to any of -> up, down, left, right\n",
    "\n",
    "    Returns - \n",
    "    torch.tensor(car): tensor of shape 2,1\n",
    "    reward: integer\n",
    "    msg: string (for debugging steps)\n",
    "    \"\"\"\n",
    "    #Fetching other variables\n",
    "    global start_x, start_y, end_x, end_y, M, N, action_space, actions\n",
    "    \n",
    "    if grid.dim() != 2:\n",
    "        raise ValueError(\"Input grid must be a 2D tensor.\")\n",
    "    if car.dim() != 1:\n",
    "        raise ValueError(\"Input grid must be a 1D tensor.\")\n",
    "    # if len(action) != 2:\n",
    "        # raise ValueError(\"Input grid must be an array of length 2\")\n",
    "    if action not in actions:\n",
    "        raise ValueError(f\"Action must be one of: {list(action_space.keys())}\")\n",
    "\n",
    "    #Getting ordered action value from action space \n",
    "    action_value = action_space[action]\n",
    "    \n",
    "    # Initializing/converting required variables\n",
    "    grid = grid.cpu()\n",
    "    car = car.cpu()\n",
    "    reward = -1 # Since every move is -1 to minimize steps taken\n",
    "    msg = \"BLANK Hit\"\n",
    "\n",
    "    # From this point, type(CAR) = NP.ARRAY\n",
    "    car = car.numpy() + action_value\n",
    "\n",
    "    #Checking out of bounds:\n",
    "    x, y = car\n",
    "    # Check if the coordinates are out of bounds\n",
    "    if x < 0 or x >= M or y < 0 or y >= N:\n",
    "        reward += -10\n",
    "        msg = \"BOUNDS Exceeded\"\n",
    "        return torch.tensor(car-action_value, dtype=torch.int), reward, msg\n",
    "    \n",
    "    # If car has reached the final point:\n",
    "    if car[0] == end_x and car[1] == end_y:\n",
    "        reward += 10\n",
    "        msg = \"END Reached\"\n",
    "        \n",
    "    # If car hits an obstacle:\n",
    "    if grid[car[0], car[1]] == 1:\n",
    "        reward += -10\n",
    "        msg = \"OBS Hit\"\n",
    "        return torch.tensor(car - action_value, dtype=torch.int), reward, msg\n",
    "        \n",
    "    return torch.tensor(car), reward, msg\n",
    "\n",
    "def ActionReward(grid, car, action):\n",
    "    \"\"\"\n",
    "    Params -  \n",
    "    grid: torch tensor of MxN\n",
    "    car: torch tensor of shape (2,)\n",
    "    action: string, one of -> \"up\", \"down\", \"left\", \"right\"\n",
    "\n",
    "    Returns - \n",
    "    torch.tensor(car): Updated car position (2,)\n",
    "    reward: Integer reward for the action\n",
    "    msg: String (for debugging steps)\n",
    "    \"\"\"\n",
    "    global start_x, start_y, end_x, end_y, M, N, action_space, actions\n",
    "\n",
    "    # Input validation\n",
    "    if grid.dim() != 2:\n",
    "        raise ValueError(\"Grid must be a 2D tensor.\")\n",
    "    if car.dim() != 1 or car.shape[0] != 2:\n",
    "        raise ValueError(\"Car state must be a 1D tensor of shape (2,).\")\n",
    "    if action not in actions:\n",
    "        raise ValueError(f\"Invalid action: {action}\")\n",
    "\n",
    "    # Get action offset\n",
    "    action_value = torch.tensor(action_space[action])\n",
    "\n",
    "    # Apply action\n",
    "    new_car = car + action_value\n",
    "    x, y = new_car.tolist()\n",
    "\n",
    "    # Default reward\n",
    "    reward = -1  # Encourage minimal steps\n",
    "    msg = \"BLANK Move\"\n",
    "\n",
    "    # Check out-of-bounds\n",
    "    if x < 0 or x >= M or y < 0 or y >= N:\n",
    "        reward -= 10\n",
    "        msg = \"BOUNDS Exceeded\"\n",
    "        return car, reward, msg  # Stay in place\n",
    "\n",
    "    # If car reaches the goal\n",
    "    if x == end_x and y == end_y:\n",
    "        reward += 10\n",
    "        msg = \"END Reached\"\n",
    "\n",
    "    # If car hits an obstacle\n",
    "    elif grid[x, y] == 1:\n",
    "        reward -= 50\n",
    "        msg = \"OBS Hit\"\n",
    "        return car, reward, msg  # Stay in place\n",
    "\n",
    "    old_dist = torch.norm(car.float() - torch.tensor([end_x, end_y]).float(), p=1)  # Manhattan distance\n",
    "    new_dist = torch.norm(new_car.float() - torch.tensor([end_x, end_y]).float(), p=1)\n",
    "    delta_distance = old_dist - new_dist\n",
    "\n",
    "    delta_distance_weight = 5\n",
    "    reward += delta_distance * delta_distance_weight\n",
    "    \n",
    "    return torch.tensor([x, y]), reward, msg\n",
    "# car_state_updated, reward, msg = ActionReward(grid, car_state, \"right\")\n",
    "# car_state_updated, reward, msg"
   ]
  },
  {
   "cell_type": "markdown",
   "metadata": {},
   "source": [
    "### Q-Table (MxNx4)\n",
    "One value per state-action pair"
   ]
  },
  {
   "cell_type": "code",
   "execution_count": 7,
   "metadata": {},
   "outputs": [],
   "source": [
    "Q = torch.zeros((M,N,4)) #M = 10, N = 4, GRID is a torch tensor of MxN\n",
    "gamma = 0.7 #Discount Factor\n",
    "alpha = 0.1 #Learning rate\n",
    "epsilon = 0.1 # P(exploring) or 1-P(Exploiting)\n",
    "num_episodes = 5000"
   ]
  },
  {
   "cell_type": "markdown",
   "metadata": {},
   "source": [
    "### Updating Q-Table"
   ]
  },
  {
   "cell_type": "code",
   "execution_count": 8,
   "metadata": {
    "scrolled": true
   },
   "outputs": [
    {
     "name": "stderr",
     "output_type": "stream",
     "text": [
      "  0%|                                                                                       | 0/5000 [3:30:39<?, ?it/s]\n"
     ]
    },
    {
     "ename": "KeyboardInterrupt",
     "evalue": "",
     "output_type": "error",
     "traceback": [
      "\u001b[31m---------------------------------------------------------------------------\u001b[39m",
      "\u001b[31mKeyboardInterrupt\u001b[39m                         Traceback (most recent call last)",
      "\u001b[36mCell\u001b[39m\u001b[36m \u001b[39m\u001b[32mIn[8]\u001b[39m\u001b[32m, line 38\u001b[39m\n\u001b[32m     35\u001b[39m     car_state = new_car\n\u001b[32m     37\u001b[39m     \u001b[38;5;66;03m# End episode if goal is reached or car hits an obstacle\u001b[39;00m\n\u001b[32m---> \u001b[39m\u001b[32m38\u001b[39m     \u001b[38;5;28;01mif\u001b[39;00m car_state[\u001b[32m0\u001b[39m] == end_x \u001b[38;5;129;01mand\u001b[39;00m car_state[\u001b[32m1\u001b[39m] == end_y:\n\u001b[32m     39\u001b[39m         done = \u001b[38;5;28;01mTrue\u001b[39;00m\n\u001b[32m     41\u001b[39m \u001b[38;5;66;03m# Reduce exploration over time\u001b[39;00m\n",
      "\u001b[36mFile \u001b[39m\u001b[32m~\\.conda\\envs\\RL_Car\\Lib\\site-packages\\torch\\utils\\_device.py:104\u001b[39m, in \u001b[36mDeviceContext.__torch_function__\u001b[39m\u001b[34m(self, func, types, args, kwargs)\u001b[39m\n\u001b[32m    102\u001b[39m \u001b[38;5;28;01mif\u001b[39;00m func \u001b[38;5;129;01min\u001b[39;00m _device_constructors() \u001b[38;5;129;01mand\u001b[39;00m kwargs.get(\u001b[33m'\u001b[39m\u001b[33mdevice\u001b[39m\u001b[33m'\u001b[39m) \u001b[38;5;129;01mis\u001b[39;00m \u001b[38;5;28;01mNone\u001b[39;00m:\n\u001b[32m    103\u001b[39m     kwargs[\u001b[33m'\u001b[39m\u001b[33mdevice\u001b[39m\u001b[33m'\u001b[39m] = \u001b[38;5;28mself\u001b[39m.device\n\u001b[32m--> \u001b[39m\u001b[32m104\u001b[39m \u001b[38;5;28;01mreturn\u001b[39;00m \u001b[43mfunc\u001b[49m\u001b[43m(\u001b[49m\u001b[43m*\u001b[49m\u001b[43margs\u001b[49m\u001b[43m,\u001b[49m\u001b[43m \u001b[49m\u001b[43m*\u001b[49m\u001b[43m*\u001b[49m\u001b[43mkwargs\u001b[49m\u001b[43m)\u001b[49m\n",
      "\u001b[31mKeyboardInterrupt\u001b[39m: "
     ]
    }
   ],
   "source": [
    "rewards = []\n",
    "for episode in tqdm(range(num_episodes)):\n",
    "    car_state = torch.tensor([start_x, start_y])  # Reset agent to start\n",
    "    done = False\n",
    "\n",
    "    rewards.append(0)\n",
    "    while not done:\n",
    "        x, y = car_state.tolist()\n",
    "\n",
    "        # Choose action using ε-greedy strategy\n",
    "        valid_actions = [a for a in actions if ActionReward(grid, car_state, a)[0].tolist() != car_state.tolist()]\n",
    "\n",
    "        # Choose action using ε-greedy strategy\n",
    "        if np.random.rand() < epsilon and valid_actions:\n",
    "            action = np.random.choice(valid_actions)  # Explore only valid moves\n",
    "        else:\n",
    "            action = actions[torch.argmax(Q[x, y]).item()]  # Exploit\n",
    "\n",
    "        # Take action\n",
    "        new_car, reward, msg = ActionReward(grid, car_state, action)\n",
    "        new_x, new_y = new_car.tolist()\n",
    "        action_idx = actions.index(action)\n",
    "\n",
    "        # Check bounds before updating Q-table\n",
    "        if (new_x, new_y) != (x, y):  # If movement is valid\n",
    "            best_future_q = torch.max(Q[new_x, new_y]).item()\n",
    "        else:\n",
    "            best_future_q = 0\n",
    "\n",
    "        # Q-learning update\n",
    "        Q[x, y, action_idx] += alpha * (reward + gamma * best_future_q - Q[x, y, action_idx])\n",
    "        rewards[episode] += reward  # Track total reward\n",
    "\n",
    "        # Update agent position\n",
    "        car_state = new_car\n",
    "\n",
    "        # End episode if goal is reached or car hits an obstacle\n",
    "        if car_state[0] == end_x and car_state[1] == end_y:\n",
    "            done = True\n",
    "\n",
    "    # Reduce exploration over time\n",
    "    epsilon *= 0.99\n",
    "\n"
   ]
  },
  {
   "cell_type": "markdown",
   "metadata": {},
   "source": [
    "### Plotting Reward per Episode"
   ]
  },
  {
   "cell_type": "code",
   "execution_count": 40,
   "metadata": {},
   "outputs": [
    {
     "name": "stdout",
     "output_type": "stream",
     "text": [
      "Figure Saved..\n"
     ]
    },
    {
     "data": {
      "image/png": "[encoded data removed]",
      "text/plain": [
       "<Figure size 800x500 with 1 Axes>"
      ]
     },
     "metadata": {},
     "output_type": "display_data"
    }
   ],
   "source": [
    "plot_rewards(torch.tensor(rewards).cpu())\n",
    "torch.save(Q.cpu(), \"QMatrix_v1.pth\")"
   ]
  },
  {
   "cell_type": "code",
   "execution_count": 30,
   "metadata": {},
   "outputs": [
    {
     "name": "stdout",
     "output_type": "stream",
     "text": [
      "action_value=tensor([0, 1]), action='right', [0,0], car_final=tensor([0, 0])\n",
      "action_value=tensor([0, 1]), action='right', [0,1], car_final=tensor([0, 1])\n",
      "action_value=tensor([1, 0]), action='down', [0,2], car_final=tensor([0, 2])\n",
      "action_value=tensor([1, 0]), action='down', [1,2], car_final=tensor([1, 2])\n",
      "action_value=tensor([0, 1]), action='right', [2,2], car_final=tensor([2, 2])\n",
      "action_value=tensor([0, 1]), action='right', [2,3], car_final=tensor([2, 3])\n",
      "action_value=tensor([1, 0]), action='down', [2,4], car_final=tensor([2, 4])\n",
      "action_value=tensor([1, 0]), action='down', [3,4], car_final=tensor([3, 4])\n",
      "tensor([[0, 0],\n",
      "        [0, 1],\n",
      "        [0, 2],\n",
      "        [1, 2],\n",
      "        [2, 2],\n",
      "        [2, 3],\n",
      "        [2, 4],\n",
      "        [3, 4],\n",
      "        [4, 4]])\n"
     ]
    }
   ],
   "source": [
    "car_final = torch.tensor([start_x, start_y]).cpu()\n",
    "path = torch.tensor([[start_x, start_y]]).cpu()\n",
    "end_state = torch.tensor([end_x, end_y]).cpu()\n",
    "\n",
    "while not torch.equal(end_state, car_final):\n",
    "    \n",
    "    x,y = car_final\n",
    "    action = actions[torch.argmax(Q[x,y])]\n",
    "    action_value = torch.tensor(action_space[action]).cpu()\n",
    "    print(f\"{action_value=}, {action=}, [{x},{y}], {car_final=}\")\n",
    "    car_final = torch.add(action_value, car_final)\n",
    "    path = torch.cat((path, torch.unsqueeze(car_final, dim=0)), dim=0)\n",
    "\n",
    "print(path)"
   ]
  },
  {
   "cell_type": "code",
   "execution_count": 31,
   "metadata": {},
   "outputs": [
    {
     "name": "stdout",
     "output_type": "stream",
     "text": [
      "Figure Saved..\n"
     ]
    },
    {
     "data": {
      "image/png": "[encoded data removed]",
      "text/plain": [
       "<Figure size 800x800 with 1 Axes>"
      ]
     },
     "metadata": {},
     "output_type": "display_data"
    }
   ],
   "source": [
    "plot_path_on_grid(grid=grid, path=path, episodes=num_episodes)"
   ]
  },
  {
   "cell_type": "code",
   "execution_count": 87,
   "metadata": {},
   "outputs": [
    {
     "data": {
      "text/plain": [
       "('left',\n",
       " tensor([ 0, -1]),\n",
       " tensor([-5.1000, -3.3320, -3.3320, -3.3320], device='cuda:0'))"
      ]
     },
     "execution_count": 87,
     "metadata": {},
     "output_type": "execute_result"
    }
   ],
   "source": [
    "x,y = 3,2\n",
    "action = actions[torch.argmax(Q[x,y])]\n",
    "action_value = torch.tensor(action_space[action]).cpu()\n",
    "action, action_value, Q[x,y]"
   ]
  },
  {
   "cell_type": "code",
   "execution_count": 86,
   "metadata": {},
   "outputs": [
    {
     "data": {
      "image/png": "[encoded data removed]",
      "text/plain": [
       "<Figure size 500x500 with 1 Axes>"
      ]
     },
     "metadata": {},
     "output_type": "display_data"
    }
   ],
   "source": [
    "visualize_grid(grid)"
   ]
  },
  {
   "cell_type": "code",
   "execution_count": 32,
   "metadata": {},
   "outputs": [
    {
     "data": {
      "text/plain": [
       "tensor([[[-1.1000e+00, -5.1000e+00,  1.3388e+01,  0.0000e+00],\n",
       "         [-1.1000e+00, -5.1000e+00,  1.3412e+01,  1.5443e+00],\n",
       "         [-1.1000e+00,  1.3445e+01,  1.2503e+00,  1.1142e+00],\n",
       "         [-1.1000e+00,  1.9137e+00,  0.0000e+00,  0.0000e+00],\n",
       "         [-1.1000e+00,  4.0000e-01,  0.0000e+00,  0.0000e+00]],\n",
       "\n",
       "        [[ 0.0000e+00,  0.0000e+00,  0.0000e+00,  0.0000e+00],\n",
       "         [ 0.0000e+00,  0.0000e+00,  0.0000e+00,  0.0000e+00],\n",
       "         [ 1.8872e-02,  1.3493e+01,  1.2686e+00,  0.0000e+00],\n",
       "         [-6.0000e-01,  6.1079e+00,  0.0000e+00,  0.0000e+00],\n",
       "         [-6.0000e-01,  6.5999e+00,  0.0000e+00,  0.0000e+00]],\n",
       "\n",
       "        [[ 0.0000e+00,  0.0000e+00,  0.0000e+00,  0.0000e+00],\n",
       "         [-5.1000e+00,  2.8586e+00,  0.0000e+00,  0.0000e+00],\n",
       "         [-4.2400e-02, -5.1000e+00,  1.3562e+01, -2.5483e+00],\n",
       "         [-1.0695e+00,  1.4257e+00,  1.3660e+01,  3.4934e-01],\n",
       "         [-1.9434e+00,  1.3800e+01,  0.0000e+00,  6.7677e-01]],\n",
       "\n",
       "        [[-5.1000e+00,  4.0000e-01,  0.0000e+00,  0.0000e+00],\n",
       "         [-5.7200e-01,  2.8500e+00,  0.0000e+00,  0.0000e+00],\n",
       "         [ 0.0000e+00,  0.0000e+00,  0.0000e+00,  0.0000e+00],\n",
       "         [-5.4308e-01,  4.0000e-01,  5.1753e+00,  0.0000e+00],\n",
       "         [ 1.1710e-02,  1.4000e+01,  0.0000e+00, -1.2809e+00]],\n",
       "\n",
       "        [[-6.0000e-01, -1.1000e+00,  4.5320e-01,  0.0000e+00],\n",
       "         [-5.7200e-01, -1.1000e+00,  2.8735e+00, -6.0000e-01],\n",
       "         [-5.1000e+00, -1.1000e+00,  3.5538e+00, -5.7200e-01],\n",
       "         [-5.7200e-01, -1.1000e+00,  7.3038e+00,  0.0000e+00],\n",
       "         [ 0.0000e+00,  0.0000e+00,  0.0000e+00,  0.0000e+00]]],\n",
       "       device='cuda:0')"
      ]
     },
     "execution_count": 32,
     "metadata": {},
     "output_type": "execute_result"
    }
   ],
   "source": [
    "Q"
   ]
  },
  {
   "cell_type": "code",
   "execution_count": null,
   "metadata": {},
   "outputs": [],
   "source": []
  }
 ],
 "metadata": {
  "kernelspec": {
   "display_name": "Python 3 (ipykernel)",
   "language": "python",
   "name": "python3"
  },
  "language_info": {
   "codemirror_mode": {
    "name": "ipython",
    "version": 3
   },
   "file_extension": ".py",
   "mimetype": "text/x-python",
   "name": "python",
   "nbconvert_exporter": "python",
   "pygments_lexer": "ipython3",
   "version": "3.11.9"
  }
 },
 "nbformat": 4,
 "nbformat_minor": 4
}
